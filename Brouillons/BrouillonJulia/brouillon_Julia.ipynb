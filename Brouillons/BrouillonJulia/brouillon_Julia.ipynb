{
 "cells": [
  {
   "cell_type": "code",
   "execution_count": 1,
   "id": "53f2b266-118a-4460-8877-8de216f22fbd",
   "metadata": {},
   "outputs": [
    {
     "name": "stderr",
     "output_type": "stream",
     "text": [
      "\u001b[32m\u001b[1m    Updating\u001b[22m\u001b[39m registry at `C:\\Users\\zergu\\.julia\\registries\\General.toml`\n",
      "\u001b[32m\u001b[1m   Resolving\u001b[22m\u001b[39m package versions...\n",
      "\u001b[32m\u001b[1m  No Changes\u001b[22m\u001b[39m to `C:\\Users\\zergu\\.julia\\environments\\v1.9\\Project.toml`\n",
      "\u001b[32m\u001b[1m  No Changes\u001b[22m\u001b[39m to `C:\\Users\\zergu\\.julia\\environments\\v1.9\\Manifest.toml`\n",
      "\u001b[32m\u001b[1mPrecompiling\u001b[22m\u001b[39m project...\n",
      "\u001b[32m  ✓ \u001b[39m\u001b[90mGraphite2_jll\u001b[39m\n",
      "\u001b[32m  ✓ \u001b[39m\u001b[90mlibpng_jll\u001b[39m\n",
      "\u001b[32m  ✓ \u001b[39m\u001b[90mBzip2_jll\u001b[39m\n",
      "\u001b[32m  ✓ \u001b[39m\u001b[90mOpenSSL_jll\u001b[39m\n",
      "\u001b[32m  ✓ \u001b[39m\u001b[90mRecipesBase\u001b[39m\n",
      "\u001b[32m  ✓ \u001b[39m\u001b[90mlibfdk_aac_jll\u001b[39m\n",
      "\u001b[32m  ✓ \u001b[39m\u001b[90mLERC_jll\u001b[39m\n",
      "\u001b[32m  ✓ \u001b[39m\u001b[90mPixman_jll\u001b[39m\n",
      "\u001b[32m  ✓ \u001b[39m\u001b[90mLAME_jll\u001b[39m\n",
      "\u001b[32m  ✓ \u001b[39m\u001b[90mfzf_jll\u001b[39m\n",
      "\u001b[32m  ✓ \u001b[39m\u001b[90mJpegTurbo_jll\u001b[39m\n",
      "\u001b[32m  ✓ \u001b[39m\u001b[90mOgg_jll\u001b[39m\n",
      "\u001b[32m  ✓ \u001b[39m\u001b[90mx265_jll\u001b[39m\n",
      "\u001b[32m  ✓ \u001b[39m\u001b[90mXZ_jll\u001b[39m\n",
      "\u001b[32m  ✓ \u001b[39m\u001b[90mx264_jll\u001b[39m\n",
      "\u001b[32m  ✓ \u001b[39m\u001b[90mlibaom_jll\u001b[39m\n",
      "\u001b[32m  ✓ \u001b[39m\u001b[90mZstd_jll\u001b[39m\n",
      "\u001b[32m  ✓ \u001b[39m\u001b[90mLZO_jll\u001b[39m\n",
      "\u001b[32m  ✓ \u001b[39m\u001b[90mExpat_jll\u001b[39m\n",
      "\u001b[32m  ✓ \u001b[39m\u001b[90mOpus_jll\u001b[39m\n",
      "\u001b[32m  ✓ \u001b[39m\u001b[90mLibffi_jll\u001b[39m\n",
      "\u001b[32m  ✓ \u001b[39m\u001b[90mFriBidi_jll\u001b[39m\n",
      "\u001b[32m  ✓ \u001b[39m\u001b[90mLibuuid_jll\u001b[39m\n",
      "\u001b[32m  ✓ \u001b[39m\u001b[90mlibinput_jll\u001b[39m\n",
      "\u001b[32m  ✓ \u001b[39m\u001b[90mXorg_libxcb_jll\u001b[39m\n",
      "\u001b[32m  ✓ \u001b[39m\u001b[90mColorVectorSpace → SpecialFunctionsExt\u001b[39m\n",
      "\u001b[32m  ✓ \u001b[39m\u001b[90mGettext_jll\u001b[39m\n",
      "\u001b[32m  ✓ \u001b[39m\u001b[90mCodecBzip2\u001b[39m\n",
      "\u001b[32m  ✓ \u001b[39m\u001b[90mFreeType2_jll\u001b[39m\n",
      "\u001b[32m  ✓ \u001b[39m\u001b[90mCategoricalArrays → CategoricalArraysRecipesBaseExt\u001b[39m\n",
      "\u001b[32m  ✓ \u001b[39m\u001b[90mJLFzf\u001b[39m\n",
      "\u001b[32m  ✓ \u001b[39m\u001b[90mTimeSeries\u001b[39m\n",
      "\u001b[32m  ✓ \u001b[39m\u001b[90mlibvorbis_jll\u001b[39m\n",
      "\u001b[32m  ✓ \u001b[39m\u001b[90mOpenSSL\u001b[39m\n",
      "\u001b[32m  ✓ \u001b[39m\u001b[90mCodecZstd\u001b[39m\n",
      "\u001b[32m  ✓ \u001b[39m\u001b[90mLibtiff_jll\u001b[39m\n",
      "\u001b[32m  ✓ \u001b[39m\u001b[90mWayland_jll\u001b[39m\n",
      "\u001b[32m  ✓ \u001b[39m\u001b[90mXorg_xcb_util_jll\u001b[39m\n",
      "\u001b[32m  ✓ \u001b[39m\u001b[90mTimeZones → TimeZonesRecipesBaseExt\u001b[39m\n",
      "\u001b[32m  ✓ \u001b[39m\u001b[90mXorg_libX11_jll\u001b[39m\n",
      "\u001b[32m  ✓ \u001b[39m\u001b[90mGlib_jll\u001b[39m\n",
      "\u001b[32m  ✓ \u001b[39m\u001b[90mFontconfig_jll\u001b[39m\n",
      "\u001b[32m  ✓ \u001b[39m\u001b[90mXorg_xcb_util_image_jll\u001b[39m\n",
      "\u001b[32m  ✓ \u001b[39m\u001b[90mXorg_xcb_util_keysyms_jll\u001b[39m\n",
      "\u001b[32m  ✓ \u001b[39m\u001b[90mXorg_xcb_util_renderutil_jll\u001b[39m\n",
      "\u001b[32m  ✓ \u001b[39mHTTP\n",
      "\u001b[32m  ✓ \u001b[39m\u001b[90mColorSchemes\u001b[39m\n",
      "\u001b[32m  ✓ \u001b[39m\u001b[90mXorg_xcb_util_wm_jll\u001b[39m\n",
      "\u001b[32m  ✓ \u001b[39m\u001b[90mXorg_libXrender_jll\u001b[39m\n",
      "\u001b[32m  ✓ \u001b[39m\u001b[90mXorg_libXext_jll\u001b[39m\n",
      "\u001b[32m  ✓ \u001b[39m\u001b[90mRCall\u001b[39m\n",
      "\u001b[32m  ✓ \u001b[39m\u001b[90mXorg_libXfixes_jll\u001b[39m\n",
      "\u001b[32m  ✓ \u001b[39m\u001b[90mXorg_libxkbfile_jll\u001b[39m\n",
      "\u001b[32m  ✓ \u001b[39m\u001b[90mXorg_xcb_util_cursor_jll\u001b[39m\n",
      "\u001b[32m  ✓ \u001b[39m\u001b[90mArrow\u001b[39m\n",
      "\u001b[32m  ✓ \u001b[39mTableScraper\n",
      "\u001b[32m  ✓ \u001b[39m\u001b[90mLibglvnd_jll\u001b[39m\n",
      "\u001b[32m  ✓ \u001b[39m\u001b[90mXorg_libXinerama_jll\u001b[39m\n",
      "\u001b[32m  ✓ \u001b[39m\u001b[90mXorg_libXrandr_jll\u001b[39m\n",
      "\u001b[32m  ✓ \u001b[39m\u001b[90mCairo_jll\u001b[39m\n",
      "\u001b[32m  ✓ \u001b[39m\u001b[90mXorg_libXcursor_jll\u001b[39m\n",
      "\u001b[32m  ✓ \u001b[39m\u001b[90mXorg_libXi_jll\u001b[39m\n",
      "\u001b[32m  ✓ \u001b[39m\u001b[90mXorg_xkbcomp_jll\u001b[39m\n",
      "\u001b[32m  ✓ \u001b[39m\u001b[90mHarfBuzz_jll\u001b[39m\n",
      "\u001b[32m  ✓ \u001b[39m\u001b[90mGLFW_jll\u001b[39m\n",
      "\u001b[32m  ✓ \u001b[39mSurvivalAnalysis\n",
      "\u001b[32m  ✓ \u001b[39m\u001b[90mXorg_xkeyboard_config_jll\u001b[39m\n",
      "\u001b[32m  ✓ \u001b[39m\u001b[90mlibass_jll\u001b[39m\n",
      "\u001b[32m  ✓ \u001b[39m\u001b[90mxkbcommon_jll\u001b[39m\n",
      "\u001b[32m  ✓ \u001b[39m\u001b[90mFFMPEG_jll\u001b[39m\n",
      "\u001b[32m  ✓ \u001b[39m\u001b[90mVulkan_Loader_jll\u001b[39m\n",
      "\u001b[32m  ✓ \u001b[39m\u001b[90mFFMPEG\u001b[39m\n",
      "\u001b[32m  ✓ \u001b[39m\u001b[90mQt6Base_jll\u001b[39m\n",
      "\u001b[32m  ✓ \u001b[39m\u001b[90mGR_jll\u001b[39m\n",
      "\u001b[32m  ✓ \u001b[39m\u001b[90mPlotUtils\u001b[39m\n",
      "\u001b[32m  ✓ \u001b[39m\u001b[90mGR\u001b[39m\n",
      "\u001b[32m  ✓ \u001b[39m\u001b[90mPlotThemes\u001b[39m\n",
      "\u001b[32m  ✓ \u001b[39m\u001b[90mRecipesPipeline\u001b[39m\n",
      "\u001b[32m  ✓ \u001b[39mPlots\n",
      "\u001b[32m  ✓ \u001b[39m\u001b[90mPlots → FileIOExt\u001b[39m\n",
      "\u001b[32m  ✓ \u001b[39m\u001b[90mPlots → IJuliaExt\u001b[39m\n",
      "\u001b[32m  ✓ \u001b[39m\u001b[90mPlots → UnitfulExt\u001b[39m\n",
      "\u001b[32m  ✓ \u001b[39m\u001b[90mMathOptInterface\u001b[39m\n",
      "\u001b[32m  ✓ \u001b[39m\u001b[90mNLopt\u001b[39m\n",
      "\u001b[32m  ✓ \u001b[39m\u001b[90mMixedModels\u001b[39m\n",
      "\u001b[32m  ✓ \u001b[39mStatsKit\n",
      "  86 dependencies successfully precompiled in 284 seconds. 218 already precompiled.\n",
      "  \u001b[33m1\u001b[39m dependency had warnings during precompilation:\u001b[33m\n",
      "┌ \u001b[39mMixedModels [ff71e718-51f3-5ec2-a782-8ffcbfa3c316]\u001b[33m\n",
      "\u001b[33m39m\u001b[32mMinimizing 2    Time: 0:00:00 ( 0.25  s/it)\u001b[39m\u001b[K\n",
      "\u001b[A\u001b[33m\u001b[34m  objective:  1790.125636989466\u001b[39m\u001b[K\n",
      "\u001b[32mMinimizing 57    Time: 0:00:00 (10.61 ms/it)\u001b[39m\u001b[K\u001b[33m\n",
      "\u001b[33mMinimizing 2    Time: 0:00:00 (71.50 ms/it)\u001b[39m\u001b[K\n",
      "\u001b[A\u001b[33m\u001b[34m  objective:  2380.5668557322774\u001b[39m\u001b[K\n",
      "\u001b[33mMinimizing 63    Time: 0:00:00 ( 3.87 ms/it)\u001b[39m\u001b[K\n",
      "\u001b[A\u001b[33m\u001b[34m  objective:  2361.802726617184\u001b[39m\u001b[K\n",
      "\u001b[33mMinimizing 127    Time: 0:00:00 ( 2.72 ms/it)\u001b[39m\u001b[K\n",
      "\u001b[A\u001b[33m\u001b[34m  objective:  2361.556461054313\u001b[39m\u001b[K\n",
      "\u001b[33mMinimizing 191    Time: 0:00:00 ( 2.35 ms/it)\u001b[39m\u001b[K\n",
      "\u001b[A\u001b[33m\u001b[34m  objective:  2361.5458199451214\u001b[39m\u001b[K\n",
      "\u001b[32mMinimizing 228    Time: 0:00:00 ( 2.22 ms/it)\u001b[39m\u001b[K\u001b[33m\n",
      "└  \u001b[39m\n"
     ]
    }
   ],
   "source": [
    "] add CSV"
   ]
  },
  {
   "cell_type": "code",
   "execution_count": 2,
   "id": "229d93ee",
   "metadata": {},
   "outputs": [
    {
     "name": "stderr",
     "output_type": "stream",
     "text": [
      "\u001b[32m\u001b[1m   Resolving\u001b[22m\u001b[39m package versions...\n",
      "\u001b[32m\u001b[1m  No Changes\u001b[22m\u001b[39m to `C:\\Users\\zergu\\.julia\\environments\\v1.9\\Project.toml`\n",
      "\u001b[32m\u001b[1m  No Changes\u001b[22m\u001b[39m to `C:\\Users\\zergu\\.julia\\environments\\v1.9\\Manifest.toml`\n"
     ]
    }
   ],
   "source": [
    "] add XLSX"
   ]
  },
  {
   "cell_type": "code",
   "execution_count": 3,
   "id": "609f6d08",
   "metadata": {},
   "outputs": [
    {
     "name": "stderr",
     "output_type": "stream",
     "text": [
      "\u001b[32m\u001b[1m   Resolving\u001b[22m\u001b[39m package versions...\n",
      "\u001b[32m\u001b[1m  No Changes\u001b[22m\u001b[39m to `C:\\Users\\zergu\\.julia\\environments\\v1.9\\Project.toml`\n",
      "\u001b[32m\u001b[1m  No Changes\u001b[22m\u001b[39m to `C:\\Users\\zergu\\.julia\\environments\\v1.9\\Manifest.toml`\n"
     ]
    }
   ],
   "source": [
    "] add ExcelReaders"
   ]
  },
  {
   "cell_type": "code",
   "execution_count": 4,
   "id": "b939e537-2ccc-41fc-b12e-cd12f803ea1a",
   "metadata": {},
   "outputs": [
    {
     "name": "stderr",
     "output_type": "stream",
     "text": [
      "\u001b[32m\u001b[1m   Resolving\u001b[22m\u001b[39m package versions...\n",
      "\u001b[32m\u001b[1m  No Changes\u001b[22m\u001b[39m to `C:\\Users\\zergu\\.julia\\environments\\v1.9\\Project.toml`\n",
      "\u001b[32m\u001b[1m  No Changes\u001b[22m\u001b[39m to `C:\\Users\\zergu\\.julia\\environments\\v1.9\\Manifest.toml`\n"
     ]
    }
   ],
   "source": [
    "] add DataFrames"
   ]
  },
  {
   "cell_type": "code",
   "execution_count": 5,
   "id": "84111a3d-836a-4b30-945d-03e1ec2252c2",
   "metadata": {},
   "outputs": [],
   "source": [
    "using CSV,DataFrames,XLSX,ExcelReaders"
   ]
  },
  {
   "cell_type": "code",
   "execution_count": 6,
   "id": "cd2b65ef-e41a-4ae8-8764-b085013bebd0",
   "metadata": {
    "scrolled": false
   },
   "outputs": [
    {
     "name": "stdout",
     "output_type": "stream",
     "text": [
      "  2.566973 seconds (1.10 M allocations: 71.457 MiB, 98.63% compilation time: 73% of which was recompilation)\n"
     ]
    },
    {
     "data": {
      "text/html": [
       "<div class=\"data-frame\"><p>3,700 rows × 17 columns (omitted printing of 10 columns)</p><table class=\"data-frame\"><thead><tr><th></th><th>Sample</th><th>Dataset</th><th>Non-tumour</th><th>All-tumours</th><th>Luminal-A</th><th>Luminal-B</th><th>HER2-enriched</th></tr><tr><th></th><th title=\"String31\">String31</th><th title=\"String31\">String31</th><th title=\"Int64\">Int64</th><th title=\"Int64\">Int64</th><th title=\"Int64\">Int64</th><th title=\"Int64\">Int64</th><th title=\"Int64\">Int64</th></tr></thead><tbody><tr><th>1</th><td>TCGA-A7-A0CE-11A</td><td>TCGA-BRCA</td><td>1</td><td>0</td><td>0</td><td>0</td><td>0</td></tr><tr><th>2</th><td>TCGA-A7-A0CH-11A</td><td>TCGA-BRCA</td><td>1</td><td>0</td><td>0</td><td>0</td><td>0</td></tr><tr><th>3</th><td>TCGA-A7-A0D9-11A</td><td>TCGA-BRCA</td><td>1</td><td>0</td><td>0</td><td>0</td><td>0</td></tr><tr><th>4</th><td>TCGA-A7-A0DB-11A</td><td>TCGA-BRCA</td><td>1</td><td>0</td><td>0</td><td>0</td><td>0</td></tr><tr><th>5</th><td>TCGA-A7-A0DC-11A</td><td>TCGA-BRCA</td><td>1</td><td>0</td><td>0</td><td>0</td><td>0</td></tr><tr><th>6</th><td>TCGA-A7-A13E-11A</td><td>TCGA-BRCA</td><td>1</td><td>0</td><td>0</td><td>0</td><td>0</td></tr><tr><th>7</th><td>TCGA-A7-A13F-11A</td><td>TCGA-BRCA</td><td>1</td><td>0</td><td>0</td><td>0</td><td>0</td></tr><tr><th>8</th><td>TCGA-A7-A13G-11A</td><td>TCGA-BRCA</td><td>1</td><td>0</td><td>0</td><td>0</td><td>0</td></tr><tr><th>9</th><td>TCGA-AC-A23H-11A</td><td>TCGA-BRCA</td><td>1</td><td>0</td><td>0</td><td>0</td><td>0</td></tr><tr><th>10</th><td>TCGA-AC-A2FB-11A</td><td>TCGA-BRCA</td><td>1</td><td>0</td><td>0</td><td>0</td><td>0</td></tr><tr><th>11</th><td>TCGA-AC-A2FF-11A</td><td>TCGA-BRCA</td><td>1</td><td>0</td><td>0</td><td>0</td><td>0</td></tr><tr><th>12</th><td>TCGA-AC-A2FM-11B</td><td>TCGA-BRCA</td><td>1</td><td>0</td><td>0</td><td>0</td><td>0</td></tr><tr><th>13</th><td>TCGA-BH-A0AU-11A</td><td>TCGA-BRCA</td><td>1</td><td>0</td><td>0</td><td>0</td><td>0</td></tr><tr><th>14</th><td>TCGA-BH-A0AY-11A</td><td>TCGA-BRCA</td><td>1</td><td>0</td><td>0</td><td>0</td><td>0</td></tr><tr><th>15</th><td>TCGA-BH-A0AZ-11A</td><td>TCGA-BRCA</td><td>1</td><td>0</td><td>0</td><td>0</td><td>0</td></tr><tr><th>16</th><td>TCGA-BH-A0B3-11B</td><td>TCGA-BRCA</td><td>1</td><td>0</td><td>0</td><td>0</td><td>0</td></tr><tr><th>17</th><td>TCGA-BH-A0B5-11A</td><td>TCGA-BRCA</td><td>1</td><td>0</td><td>0</td><td>0</td><td>0</td></tr><tr><th>18</th><td>TCGA-BH-A0B7-11A</td><td>TCGA-BRCA</td><td>1</td><td>0</td><td>0</td><td>0</td><td>0</td></tr><tr><th>19</th><td>TCGA-BH-A0B8-11A</td><td>TCGA-BRCA</td><td>1</td><td>0</td><td>0</td><td>0</td><td>0</td></tr><tr><th>20</th><td>TCGA-BH-A0BA-11A</td><td>TCGA-BRCA</td><td>1</td><td>0</td><td>0</td><td>0</td><td>0</td></tr><tr><th>21</th><td>TCGA-BH-A0BC-11A</td><td>TCGA-BRCA</td><td>1</td><td>0</td><td>0</td><td>0</td><td>0</td></tr><tr><th>22</th><td>TCGA-BH-A0BJ-11A</td><td>TCGA-BRCA</td><td>1</td><td>0</td><td>0</td><td>0</td><td>0</td></tr><tr><th>23</th><td>TCGA-BH-A0BM-11A</td><td>TCGA-BRCA</td><td>1</td><td>0</td><td>0</td><td>0</td><td>0</td></tr><tr><th>24</th><td>TCGA-BH-A0BQ-11A</td><td>TCGA-BRCA</td><td>1</td><td>0</td><td>0</td><td>0</td><td>0</td></tr><tr><th>25</th><td>TCGA-BH-A0BS-11A</td><td>TCGA-BRCA</td><td>1</td><td>0</td><td>0</td><td>0</td><td>0</td></tr><tr><th>26</th><td>TCGA-BH-A0BT-11A</td><td>TCGA-BRCA</td><td>1</td><td>0</td><td>0</td><td>0</td><td>0</td></tr><tr><th>27</th><td>TCGA-BH-A0BV-11A</td><td>TCGA-BRCA</td><td>1</td><td>0</td><td>0</td><td>0</td><td>0</td></tr><tr><th>28</th><td>TCGA-BH-A0BW-11A</td><td>TCGA-BRCA</td><td>1</td><td>0</td><td>0</td><td>0</td><td>0</td></tr><tr><th>29</th><td>TCGA-BH-A0BZ-11A</td><td>TCGA-BRCA</td><td>1</td><td>0</td><td>0</td><td>0</td><td>0</td></tr><tr><th>30</th><td>TCGA-BH-A0C0-11A</td><td>TCGA-BRCA</td><td>1</td><td>0</td><td>0</td><td>0</td><td>0</td></tr><tr><th>&vellip;</th><td>&vellip;</td><td>&vellip;</td><td>&vellip;</td><td>&vellip;</td><td>&vellip;</td><td>&vellip;</td><td>&vellip;</td></tr></tbody></table></div>"
      ],
      "text/latex": [
       "\\begin{tabular}{r|cccccccc}\n",
       "\t& Sample & Dataset & Non-tumour & All-tumours & Luminal-A & Luminal-B & HER2-enriched & \\\\\n",
       "\t\\hline\n",
       "\t& String31 & String31 & Int64 & Int64 & Int64 & Int64 & Int64 & \\\\\n",
       "\t\\hline\n",
       "\t1 & TCGA-A7-A0CE-11A & TCGA-BRCA & 1 & 0 & 0 & 0 & 0 & $\\dots$ \\\\\n",
       "\t2 & TCGA-A7-A0CH-11A & TCGA-BRCA & 1 & 0 & 0 & 0 & 0 & $\\dots$ \\\\\n",
       "\t3 & TCGA-A7-A0D9-11A & TCGA-BRCA & 1 & 0 & 0 & 0 & 0 & $\\dots$ \\\\\n",
       "\t4 & TCGA-A7-A0DB-11A & TCGA-BRCA & 1 & 0 & 0 & 0 & 0 & $\\dots$ \\\\\n",
       "\t5 & TCGA-A7-A0DC-11A & TCGA-BRCA & 1 & 0 & 0 & 0 & 0 & $\\dots$ \\\\\n",
       "\t6 & TCGA-A7-A13E-11A & TCGA-BRCA & 1 & 0 & 0 & 0 & 0 & $\\dots$ \\\\\n",
       "\t7 & TCGA-A7-A13F-11A & TCGA-BRCA & 1 & 0 & 0 & 0 & 0 & $\\dots$ \\\\\n",
       "\t8 & TCGA-A7-A13G-11A & TCGA-BRCA & 1 & 0 & 0 & 0 & 0 & $\\dots$ \\\\\n",
       "\t9 & TCGA-AC-A23H-11A & TCGA-BRCA & 1 & 0 & 0 & 0 & 0 & $\\dots$ \\\\\n",
       "\t10 & TCGA-AC-A2FB-11A & TCGA-BRCA & 1 & 0 & 0 & 0 & 0 & $\\dots$ \\\\\n",
       "\t11 & TCGA-AC-A2FF-11A & TCGA-BRCA & 1 & 0 & 0 & 0 & 0 & $\\dots$ \\\\\n",
       "\t12 & TCGA-AC-A2FM-11B & TCGA-BRCA & 1 & 0 & 0 & 0 & 0 & $\\dots$ \\\\\n",
       "\t13 & TCGA-BH-A0AU-11A & TCGA-BRCA & 1 & 0 & 0 & 0 & 0 & $\\dots$ \\\\\n",
       "\t14 & TCGA-BH-A0AY-11A & TCGA-BRCA & 1 & 0 & 0 & 0 & 0 & $\\dots$ \\\\\n",
       "\t15 & TCGA-BH-A0AZ-11A & TCGA-BRCA & 1 & 0 & 0 & 0 & 0 & $\\dots$ \\\\\n",
       "\t16 & TCGA-BH-A0B3-11B & TCGA-BRCA & 1 & 0 & 0 & 0 & 0 & $\\dots$ \\\\\n",
       "\t17 & TCGA-BH-A0B5-11A & TCGA-BRCA & 1 & 0 & 0 & 0 & 0 & $\\dots$ \\\\\n",
       "\t18 & TCGA-BH-A0B7-11A & TCGA-BRCA & 1 & 0 & 0 & 0 & 0 & $\\dots$ \\\\\n",
       "\t19 & TCGA-BH-A0B8-11A & TCGA-BRCA & 1 & 0 & 0 & 0 & 0 & $\\dots$ \\\\\n",
       "\t20 & TCGA-BH-A0BA-11A & TCGA-BRCA & 1 & 0 & 0 & 0 & 0 & $\\dots$ \\\\\n",
       "\t21 & TCGA-BH-A0BC-11A & TCGA-BRCA & 1 & 0 & 0 & 0 & 0 & $\\dots$ \\\\\n",
       "\t22 & TCGA-BH-A0BJ-11A & TCGA-BRCA & 1 & 0 & 0 & 0 & 0 & $\\dots$ \\\\\n",
       "\t23 & TCGA-BH-A0BM-11A & TCGA-BRCA & 1 & 0 & 0 & 0 & 0 & $\\dots$ \\\\\n",
       "\t24 & TCGA-BH-A0BQ-11A & TCGA-BRCA & 1 & 0 & 0 & 0 & 0 & $\\dots$ \\\\\n",
       "\t25 & TCGA-BH-A0BS-11A & TCGA-BRCA & 1 & 0 & 0 & 0 & 0 & $\\dots$ \\\\\n",
       "\t26 & TCGA-BH-A0BT-11A & TCGA-BRCA & 1 & 0 & 0 & 0 & 0 & $\\dots$ \\\\\n",
       "\t27 & TCGA-BH-A0BV-11A & TCGA-BRCA & 1 & 0 & 0 & 0 & 0 & $\\dots$ \\\\\n",
       "\t28 & TCGA-BH-A0BW-11A & TCGA-BRCA & 1 & 0 & 0 & 0 & 0 & $\\dots$ \\\\\n",
       "\t29 & TCGA-BH-A0BZ-11A & TCGA-BRCA & 1 & 0 & 0 & 0 & 0 & $\\dots$ \\\\\n",
       "\t30 & TCGA-BH-A0C0-11A & TCGA-BRCA & 1 & 0 & 0 & 0 & 0 & $\\dots$ \\\\\n",
       "\t$\\dots$ & $\\dots$ & $\\dots$ & $\\dots$ & $\\dots$ & $\\dots$ & $\\dots$ & $\\dots$ &  \\\\\n",
       "\\end{tabular}\n"
      ],
      "text/plain": [
       "\u001b[1m3700×17 DataFrame\u001b[0m\n",
       "\u001b[1m  Row \u001b[0m│\u001b[1m Sample             \u001b[0m\u001b[1m Dataset     \u001b[0m\u001b[1m Non-tumour \u001b[0m\u001b[1m All-tumours \u001b[0m\u001b[1m Luminal-A \u001b[0m\u001b[1m L\u001b[0m ⋯\n",
       "\u001b[1m      \u001b[0m│\u001b[90m String31           \u001b[0m\u001b[90m String31    \u001b[0m\u001b[90m Int64      \u001b[0m\u001b[90m Int64       \u001b[0m\u001b[90m Int64     \u001b[0m\u001b[90m I\u001b[0m ⋯\n",
       "──────┼─────────────────────────────────────────────────────────────────────────\n",
       "    1 │ TCGA-A7-A0CE-11A    TCGA-BRCA             1            0          0    ⋯\n",
       "    2 │ TCGA-A7-A0CH-11A    TCGA-BRCA             1            0          0\n",
       "    3 │ TCGA-A7-A0D9-11A    TCGA-BRCA             1            0          0\n",
       "    4 │ TCGA-A7-A0DB-11A    TCGA-BRCA             1            0          0\n",
       "    5 │ TCGA-A7-A0DC-11A    TCGA-BRCA             1            0          0    ⋯\n",
       "    6 │ TCGA-A7-A13E-11A    TCGA-BRCA             1            0          0\n",
       "    7 │ TCGA-A7-A13F-11A    TCGA-BRCA             1            0          0\n",
       "    8 │ TCGA-A7-A13G-11A    TCGA-BRCA             1            0          0\n",
       "    9 │ TCGA-AC-A23H-11A    TCGA-BRCA             1            0          0    ⋯\n",
       "   10 │ TCGA-AC-A2FB-11A    TCGA-BRCA             1            0          0\n",
       "   11 │ TCGA-AC-A2FF-11A    TCGA-BRCA             1            0          0\n",
       "  ⋮   │         ⋮                ⋮           ⋮            ⋮           ⋮        ⋱\n",
       " 3691 │ Miller-2005-X85A03  Miller-2005           0            1          0\n",
       " 3692 │ Miller-2005-X86A40  Miller-2005           0            1          0    ⋯\n",
       " 3693 │ Miller-2005-X87A79  Miller-2005           0            1          0\n",
       " 3694 │ Miller-2005-X88A67  Miller-2005           0            1          0\n",
       " 3695 │ Miller-2005-X8B87   Miller-2005           0            1          0\n",
       " 3696 │ Miller-2005-X90A63  Miller-2005           0            1          0    ⋯\n",
       " 3697 │ Miller-2005-X94A16  Miller-2005           0            1          0\n",
       " 3698 │ Miller-2005-X96A21  Miller-2005           0            1          0\n",
       " 3699 │ Miller-2005-X99A50  Miller-2005           0            1          0\n",
       " 3700 │ Miller-2005-X9B52   Miller-2005           0            1          0    ⋯\n",
       "\u001b[36m                                                12 columns and 3679 rows omitted\u001b[0m"
      ]
     },
     "execution_count": 6,
     "metadata": {},
     "output_type": "execute_result"
    }
   ],
   "source": [
    "@time cancer = CSV.read(\"data/Breast_cancer_subtypes_samples.csv\",DataFrame)"
   ]
  },
  {
   "cell_type": "code",
   "execution_count": 7,
   "id": "516cc142",
   "metadata": {},
   "outputs": [
    {
     "name": "stderr",
     "output_type": "stream",
     "text": [
      "\u001b[32m\u001b[1m   Resolving\u001b[22m\u001b[39m package versions...\n",
      "\u001b[32m\u001b[1m  No Changes\u001b[22m\u001b[39m to `C:\\Users\\zergu\\.julia\\environments\\v1.9\\Project.toml`\n",
      "\u001b[32m\u001b[1m  No Changes\u001b[22m\u001b[39m to `C:\\Users\\zergu\\.julia\\environments\\v1.9\\Manifest.toml`\n"
     ]
    }
   ],
   "source": [
    "] add BenchmarkTools"
   ]
  },
  {
   "cell_type": "code",
   "execution_count": 8,
   "id": "6ed75e08",
   "metadata": {},
   "outputs": [
    {
     "data": {
      "text/plain": [
       "1"
      ]
     },
     "execution_count": 8,
     "metadata": {},
     "output_type": "execute_result"
    }
   ],
   "source": [
    "Threads.nthreads()"
   ]
  },
  {
   "cell_type": "code",
   "execution_count": 9,
   "id": "d87ebd47",
   "metadata": {},
   "outputs": [
    {
     "name": "stdout",
     "output_type": "stream",
     "text": [
      "  5.035 ms (8515 allocations: 1.06 MiB)\n"
     ]
    },
    {
     "data": {
      "text/html": [
       "<div class=\"data-frame\"><p>3,700 rows × 17 columns (omitted printing of 10 columns)</p><table class=\"data-frame\"><thead><tr><th></th><th>Sample</th><th>Dataset</th><th>Non-tumour</th><th>All-tumours</th><th>Luminal-A</th><th>Luminal-B</th><th>HER2-enriched</th></tr><tr><th></th><th title=\"String31\">String31</th><th title=\"String31\">String31</th><th title=\"Int64\">Int64</th><th title=\"Int64\">Int64</th><th title=\"Int64\">Int64</th><th title=\"Int64\">Int64</th><th title=\"Int64\">Int64</th></tr></thead><tbody><tr><th>1</th><td>TCGA-A7-A0CE-11A</td><td>TCGA-BRCA</td><td>1</td><td>0</td><td>0</td><td>0</td><td>0</td></tr><tr><th>2</th><td>TCGA-A7-A0CH-11A</td><td>TCGA-BRCA</td><td>1</td><td>0</td><td>0</td><td>0</td><td>0</td></tr><tr><th>3</th><td>TCGA-A7-A0D9-11A</td><td>TCGA-BRCA</td><td>1</td><td>0</td><td>0</td><td>0</td><td>0</td></tr><tr><th>4</th><td>TCGA-A7-A0DB-11A</td><td>TCGA-BRCA</td><td>1</td><td>0</td><td>0</td><td>0</td><td>0</td></tr><tr><th>5</th><td>TCGA-A7-A0DC-11A</td><td>TCGA-BRCA</td><td>1</td><td>0</td><td>0</td><td>0</td><td>0</td></tr><tr><th>6</th><td>TCGA-A7-A13E-11A</td><td>TCGA-BRCA</td><td>1</td><td>0</td><td>0</td><td>0</td><td>0</td></tr><tr><th>7</th><td>TCGA-A7-A13F-11A</td><td>TCGA-BRCA</td><td>1</td><td>0</td><td>0</td><td>0</td><td>0</td></tr><tr><th>8</th><td>TCGA-A7-A13G-11A</td><td>TCGA-BRCA</td><td>1</td><td>0</td><td>0</td><td>0</td><td>0</td></tr><tr><th>9</th><td>TCGA-AC-A23H-11A</td><td>TCGA-BRCA</td><td>1</td><td>0</td><td>0</td><td>0</td><td>0</td></tr><tr><th>10</th><td>TCGA-AC-A2FB-11A</td><td>TCGA-BRCA</td><td>1</td><td>0</td><td>0</td><td>0</td><td>0</td></tr><tr><th>11</th><td>TCGA-AC-A2FF-11A</td><td>TCGA-BRCA</td><td>1</td><td>0</td><td>0</td><td>0</td><td>0</td></tr><tr><th>12</th><td>TCGA-AC-A2FM-11B</td><td>TCGA-BRCA</td><td>1</td><td>0</td><td>0</td><td>0</td><td>0</td></tr><tr><th>13</th><td>TCGA-BH-A0AU-11A</td><td>TCGA-BRCA</td><td>1</td><td>0</td><td>0</td><td>0</td><td>0</td></tr><tr><th>14</th><td>TCGA-BH-A0AY-11A</td><td>TCGA-BRCA</td><td>1</td><td>0</td><td>0</td><td>0</td><td>0</td></tr><tr><th>15</th><td>TCGA-BH-A0AZ-11A</td><td>TCGA-BRCA</td><td>1</td><td>0</td><td>0</td><td>0</td><td>0</td></tr><tr><th>16</th><td>TCGA-BH-A0B3-11B</td><td>TCGA-BRCA</td><td>1</td><td>0</td><td>0</td><td>0</td><td>0</td></tr><tr><th>17</th><td>TCGA-BH-A0B5-11A</td><td>TCGA-BRCA</td><td>1</td><td>0</td><td>0</td><td>0</td><td>0</td></tr><tr><th>18</th><td>TCGA-BH-A0B7-11A</td><td>TCGA-BRCA</td><td>1</td><td>0</td><td>0</td><td>0</td><td>0</td></tr><tr><th>19</th><td>TCGA-BH-A0B8-11A</td><td>TCGA-BRCA</td><td>1</td><td>0</td><td>0</td><td>0</td><td>0</td></tr><tr><th>20</th><td>TCGA-BH-A0BA-11A</td><td>TCGA-BRCA</td><td>1</td><td>0</td><td>0</td><td>0</td><td>0</td></tr><tr><th>21</th><td>TCGA-BH-A0BC-11A</td><td>TCGA-BRCA</td><td>1</td><td>0</td><td>0</td><td>0</td><td>0</td></tr><tr><th>22</th><td>TCGA-BH-A0BJ-11A</td><td>TCGA-BRCA</td><td>1</td><td>0</td><td>0</td><td>0</td><td>0</td></tr><tr><th>23</th><td>TCGA-BH-A0BM-11A</td><td>TCGA-BRCA</td><td>1</td><td>0</td><td>0</td><td>0</td><td>0</td></tr><tr><th>24</th><td>TCGA-BH-A0BQ-11A</td><td>TCGA-BRCA</td><td>1</td><td>0</td><td>0</td><td>0</td><td>0</td></tr><tr><th>25</th><td>TCGA-BH-A0BS-11A</td><td>TCGA-BRCA</td><td>1</td><td>0</td><td>0</td><td>0</td><td>0</td></tr><tr><th>26</th><td>TCGA-BH-A0BT-11A</td><td>TCGA-BRCA</td><td>1</td><td>0</td><td>0</td><td>0</td><td>0</td></tr><tr><th>27</th><td>TCGA-BH-A0BV-11A</td><td>TCGA-BRCA</td><td>1</td><td>0</td><td>0</td><td>0</td><td>0</td></tr><tr><th>28</th><td>TCGA-BH-A0BW-11A</td><td>TCGA-BRCA</td><td>1</td><td>0</td><td>0</td><td>0</td><td>0</td></tr><tr><th>29</th><td>TCGA-BH-A0BZ-11A</td><td>TCGA-BRCA</td><td>1</td><td>0</td><td>0</td><td>0</td><td>0</td></tr><tr><th>30</th><td>TCGA-BH-A0C0-11A</td><td>TCGA-BRCA</td><td>1</td><td>0</td><td>0</td><td>0</td><td>0</td></tr><tr><th>&vellip;</th><td>&vellip;</td><td>&vellip;</td><td>&vellip;</td><td>&vellip;</td><td>&vellip;</td><td>&vellip;</td><td>&vellip;</td></tr></tbody></table></div>"
      ],
      "text/latex": [
       "\\begin{tabular}{r|cccccccc}\n",
       "\t& Sample & Dataset & Non-tumour & All-tumours & Luminal-A & Luminal-B & HER2-enriched & \\\\\n",
       "\t\\hline\n",
       "\t& String31 & String31 & Int64 & Int64 & Int64 & Int64 & Int64 & \\\\\n",
       "\t\\hline\n",
       "\t1 & TCGA-A7-A0CE-11A & TCGA-BRCA & 1 & 0 & 0 & 0 & 0 & $\\dots$ \\\\\n",
       "\t2 & TCGA-A7-A0CH-11A & TCGA-BRCA & 1 & 0 & 0 & 0 & 0 & $\\dots$ \\\\\n",
       "\t3 & TCGA-A7-A0D9-11A & TCGA-BRCA & 1 & 0 & 0 & 0 & 0 & $\\dots$ \\\\\n",
       "\t4 & TCGA-A7-A0DB-11A & TCGA-BRCA & 1 & 0 & 0 & 0 & 0 & $\\dots$ \\\\\n",
       "\t5 & TCGA-A7-A0DC-11A & TCGA-BRCA & 1 & 0 & 0 & 0 & 0 & $\\dots$ \\\\\n",
       "\t6 & TCGA-A7-A13E-11A & TCGA-BRCA & 1 & 0 & 0 & 0 & 0 & $\\dots$ \\\\\n",
       "\t7 & TCGA-A7-A13F-11A & TCGA-BRCA & 1 & 0 & 0 & 0 & 0 & $\\dots$ \\\\\n",
       "\t8 & TCGA-A7-A13G-11A & TCGA-BRCA & 1 & 0 & 0 & 0 & 0 & $\\dots$ \\\\\n",
       "\t9 & TCGA-AC-A23H-11A & TCGA-BRCA & 1 & 0 & 0 & 0 & 0 & $\\dots$ \\\\\n",
       "\t10 & TCGA-AC-A2FB-11A & TCGA-BRCA & 1 & 0 & 0 & 0 & 0 & $\\dots$ \\\\\n",
       "\t11 & TCGA-AC-A2FF-11A & TCGA-BRCA & 1 & 0 & 0 & 0 & 0 & $\\dots$ \\\\\n",
       "\t12 & TCGA-AC-A2FM-11B & TCGA-BRCA & 1 & 0 & 0 & 0 & 0 & $\\dots$ \\\\\n",
       "\t13 & TCGA-BH-A0AU-11A & TCGA-BRCA & 1 & 0 & 0 & 0 & 0 & $\\dots$ \\\\\n",
       "\t14 & TCGA-BH-A0AY-11A & TCGA-BRCA & 1 & 0 & 0 & 0 & 0 & $\\dots$ \\\\\n",
       "\t15 & TCGA-BH-A0AZ-11A & TCGA-BRCA & 1 & 0 & 0 & 0 & 0 & $\\dots$ \\\\\n",
       "\t16 & TCGA-BH-A0B3-11B & TCGA-BRCA & 1 & 0 & 0 & 0 & 0 & $\\dots$ \\\\\n",
       "\t17 & TCGA-BH-A0B5-11A & TCGA-BRCA & 1 & 0 & 0 & 0 & 0 & $\\dots$ \\\\\n",
       "\t18 & TCGA-BH-A0B7-11A & TCGA-BRCA & 1 & 0 & 0 & 0 & 0 & $\\dots$ \\\\\n",
       "\t19 & TCGA-BH-A0B8-11A & TCGA-BRCA & 1 & 0 & 0 & 0 & 0 & $\\dots$ \\\\\n",
       "\t20 & TCGA-BH-A0BA-11A & TCGA-BRCA & 1 & 0 & 0 & 0 & 0 & $\\dots$ \\\\\n",
       "\t21 & TCGA-BH-A0BC-11A & TCGA-BRCA & 1 & 0 & 0 & 0 & 0 & $\\dots$ \\\\\n",
       "\t22 & TCGA-BH-A0BJ-11A & TCGA-BRCA & 1 & 0 & 0 & 0 & 0 & $\\dots$ \\\\\n",
       "\t23 & TCGA-BH-A0BM-11A & TCGA-BRCA & 1 & 0 & 0 & 0 & 0 & $\\dots$ \\\\\n",
       "\t24 & TCGA-BH-A0BQ-11A & TCGA-BRCA & 1 & 0 & 0 & 0 & 0 & $\\dots$ \\\\\n",
       "\t25 & TCGA-BH-A0BS-11A & TCGA-BRCA & 1 & 0 & 0 & 0 & 0 & $\\dots$ \\\\\n",
       "\t26 & TCGA-BH-A0BT-11A & TCGA-BRCA & 1 & 0 & 0 & 0 & 0 & $\\dots$ \\\\\n",
       "\t27 & TCGA-BH-A0BV-11A & TCGA-BRCA & 1 & 0 & 0 & 0 & 0 & $\\dots$ \\\\\n",
       "\t28 & TCGA-BH-A0BW-11A & TCGA-BRCA & 1 & 0 & 0 & 0 & 0 & $\\dots$ \\\\\n",
       "\t29 & TCGA-BH-A0BZ-11A & TCGA-BRCA & 1 & 0 & 0 & 0 & 0 & $\\dots$ \\\\\n",
       "\t30 & TCGA-BH-A0C0-11A & TCGA-BRCA & 1 & 0 & 0 & 0 & 0 & $\\dots$ \\\\\n",
       "\t$\\dots$ & $\\dots$ & $\\dots$ & $\\dots$ & $\\dots$ & $\\dots$ & $\\dots$ & $\\dots$ &  \\\\\n",
       "\\end{tabular}\n"
      ],
      "text/plain": [
       "\u001b[1m3700×17 DataFrame\u001b[0m\n",
       "\u001b[1m  Row \u001b[0m│\u001b[1m Sample             \u001b[0m\u001b[1m Dataset     \u001b[0m\u001b[1m Non-tumour \u001b[0m\u001b[1m All-tumours \u001b[0m\u001b[1m Luminal-A \u001b[0m\u001b[1m L\u001b[0m ⋯\n",
       "\u001b[1m      \u001b[0m│\u001b[90m String31           \u001b[0m\u001b[90m String31    \u001b[0m\u001b[90m Int64      \u001b[0m\u001b[90m Int64       \u001b[0m\u001b[90m Int64     \u001b[0m\u001b[90m I\u001b[0m ⋯\n",
       "──────┼─────────────────────────────────────────────────────────────────────────\n",
       "    1 │ TCGA-A7-A0CE-11A    TCGA-BRCA             1            0          0    ⋯\n",
       "    2 │ TCGA-A7-A0CH-11A    TCGA-BRCA             1            0          0\n",
       "    3 │ TCGA-A7-A0D9-11A    TCGA-BRCA             1            0          0\n",
       "    4 │ TCGA-A7-A0DB-11A    TCGA-BRCA             1            0          0\n",
       "    5 │ TCGA-A7-A0DC-11A    TCGA-BRCA             1            0          0    ⋯\n",
       "    6 │ TCGA-A7-A13E-11A    TCGA-BRCA             1            0          0\n",
       "    7 │ TCGA-A7-A13F-11A    TCGA-BRCA             1            0          0\n",
       "    8 │ TCGA-A7-A13G-11A    TCGA-BRCA             1            0          0\n",
       "    9 │ TCGA-AC-A23H-11A    TCGA-BRCA             1            0          0    ⋯\n",
       "   10 │ TCGA-AC-A2FB-11A    TCGA-BRCA             1            0          0\n",
       "   11 │ TCGA-AC-A2FF-11A    TCGA-BRCA             1            0          0\n",
       "  ⋮   │         ⋮                ⋮           ⋮            ⋮           ⋮        ⋱\n",
       " 3691 │ Miller-2005-X85A03  Miller-2005           0            1          0\n",
       " 3692 │ Miller-2005-X86A40  Miller-2005           0            1          0    ⋯\n",
       " 3693 │ Miller-2005-X87A79  Miller-2005           0            1          0\n",
       " 3694 │ Miller-2005-X88A67  Miller-2005           0            1          0\n",
       " 3695 │ Miller-2005-X8B87   Miller-2005           0            1          0\n",
       " 3696 │ Miller-2005-X90A63  Miller-2005           0            1          0    ⋯\n",
       " 3697 │ Miller-2005-X94A16  Miller-2005           0            1          0\n",
       " 3698 │ Miller-2005-X96A21  Miller-2005           0            1          0\n",
       " 3699 │ Miller-2005-X99A50  Miller-2005           0            1          0\n",
       " 3700 │ Miller-2005-X9B52   Miller-2005           0            1          0    ⋯\n",
       "\u001b[36m                                                12 columns and 3679 rows omitted\u001b[0m"
      ]
     },
     "execution_count": 9,
     "metadata": {},
     "output_type": "execute_result"
    }
   ],
   "source": [
    "using BenchmarkTools\n",
    "@btime cancer = CSV.read(\"data/Breast_cancer_subtypes_samples.csv\", DataFrame)"
   ]
  },
  {
   "cell_type": "markdown",
   "id": "f4a9cfbd-a5a3-4f49-b2b9-78b99934bb21",
   "metadata": {},
   "source": [
    "#### Chargement des expression data"
   ]
  },
  {
   "cell_type": "code",
   "execution_count": 10,
   "id": "9e5d8866-c341-4ad0-a0fe-e0d25b998b85",
   "metadata": {
    "scrolled": true
   },
   "outputs": [
    {
     "name": "stdout",
     "output_type": "stream",
     "text": [
      "  0.926793 seconds (202.95 k allocations: 57.095 MiB, 0.98% gc time, 12.90% compilation time)\n",
      "  0.513696 seconds (161.71 k allocations: 34.340 MiB, 1.17% gc time, 2.84% compilation time)\n",
      "  2.105516 seconds (4.51 M allocations: 247.273 MiB, 0.51% gc time, 12.13% compilation time)\n",
      "  3.728759 seconds (343.45 k allocations: 234.965 MiB, 0.42% gc time)\n",
      "  1.337746 seconds (238.89 k allocations: 65.137 MiB, 0.85% gc time)\n",
      "  0.424835 seconds (105.78 k allocations: 27.456 MiB)\n",
      "502.180854 seconds (50.28 M allocations: 3.468 GiB, 0.11% gc time, 0.05% compilation time)\n",
      "  2.123608 seconds (143.92 k allocations: 54.207 MiB, 64.39% gc time)\n"
     ]
    },
    {
     "data": {
      "text/html": [
       "<div class=\"data-frame\"><p>8,791 rows × 685 columns (omitted printing of 678 columns)</p><table class=\"data-frame\"><thead><tr><th></th><th>id_gene</th><th>gene_symbol</th><th>Yau-2010-103</th><th>Yau-2010-107</th><th>Yau-2010-109</th><th>Yau-2010-11</th><th>Yau-2010-110</th></tr><tr><th></th><th title=\"Int64\">Int64</th><th title=\"String15\">String15</th><th title=\"Float64\">Float64</th><th title=\"Float64\">Float64</th><th title=\"Float64\">Float64</th><th title=\"Float64\">Float64</th><th title=\"Float64\">Float64</th></tr></thead><tbody><tr><th>1</th><td>2</td><td>A2M</td><td>-1.599</td><td>0.719</td><td>-0.661</td><td>-0.272</td><td>-1.766</td></tr><tr><th>2</th><td>9</td><td>NAT1</td><td>-3.14</td><td>3.38</td><td>-3.673</td><td>0.479</td><td>-2.374</td></tr><tr><th>3</th><td>10</td><td>NAT2</td><td>0.398</td><td>0.296</td><td>1.185</td><td>0.129</td><td>-0.006</td></tr><tr><th>4</th><td>12</td><td>SERPINA3</td><td>-3.399</td><td>-0.449</td><td>-1.616</td><td>-4.052</td><td>1.193</td></tr><tr><th>5</th><td>13</td><td>AADAC</td><td>-0.203</td><td>0.505</td><td>-0.241</td><td>0.347</td><td>0.355</td></tr><tr><th>6</th><td>14</td><td>AAMP</td><td>0.39</td><td>-0.453</td><td>1.655</td><td>-0.16</td><td>0.942</td></tr><tr><th>7</th><td>15</td><td>AANAT</td><td>-0.589</td><td>-0.218</td><td>-0.3</td><td>-0.128</td><td>-0.038</td></tr><tr><th>8</th><td>16</td><td>AARS1</td><td>0.259</td><td>1.377</td><td>-0.131</td><td>1.632</td><td>-0.221</td></tr><tr><th>9</th><td>18</td><td>ABAT</td><td>-0.629</td><td>-0.806</td><td>-0.465</td><td>-0.184</td><td>-0.754</td></tr><tr><th>10</th><td>19</td><td>ABCA1</td><td>-0.264</td><td>-0.703</td><td>-0.024</td><td>2.009</td><td>0.229</td></tr><tr><th>11</th><td>20</td><td>ABCA2</td><td>-1.1</td><td>-0.135</td><td>-0.934</td><td>-0.787</td><td>0.514</td></tr><tr><th>12</th><td>21</td><td>ABCA3</td><td>-0.17</td><td>3.902</td><td>1.766</td><td>-1.358</td><td>2.911</td></tr><tr><th>13</th><td>22</td><td>ABCB7</td><td>-0.278</td><td>0.194</td><td>0.049</td><td>-0.31</td><td>0.225</td></tr><tr><th>14</th><td>23</td><td>ABCF1</td><td>1.189</td><td>0.019</td><td>0.186</td><td>0.095</td><td>-0.207</td></tr><tr><th>15</th><td>24</td><td>ABCA4</td><td>-0.263</td><td>0.085</td><td>-0.506</td><td>-0.198</td><td>0.295</td></tr><tr><th>16</th><td>25</td><td>ABL1</td><td>-0.569</td><td>-0.358</td><td>-0.331</td><td>0.249</td><td>-0.046</td></tr><tr><th>17</th><td>27</td><td>ABL2</td><td>-0.188</td><td>-0.846</td><td>0.155</td><td>0.309</td><td>-0.158</td></tr><tr><th>18</th><td>28</td><td>ABO</td><td>-0.021</td><td>0.464</td><td>0.843</td><td>0.788</td><td>0.234</td></tr><tr><th>19</th><td>29</td><td>ABR</td><td>-0.67</td><td>-0.16</td><td>-0.185</td><td>0.978</td><td>-0.304</td></tr><tr><th>20</th><td>30</td><td>ACAA1</td><td>-1.046</td><td>-0.064</td><td>1.171</td><td>0.233</td><td>-1.069</td></tr><tr><th>21</th><td>31</td><td>ACACA</td><td>-0.163</td><td>-0.101</td><td>-0.092</td><td>0.063</td><td>0.0</td></tr><tr><th>22</th><td>32</td><td>ACACB</td><td>-0.549</td><td>-0.32</td><td>-0.057</td><td>-0.168</td><td>-0.007</td></tr><tr><th>23</th><td>33</td><td>ACADL</td><td>-1.057</td><td>-1.389</td><td>-1.633</td><td>-1.478</td><td>-1.09</td></tr><tr><th>24</th><td>34</td><td>ACADM</td><td>-0.241</td><td>0.627</td><td>1.391</td><td>1.147</td><td>0.779</td></tr><tr><th>25</th><td>35</td><td>ACADS</td><td>-1.289</td><td>-0.469</td><td>-1.789</td><td>-1.639</td><td>-0.004</td></tr><tr><th>26</th><td>36</td><td>ACADSB</td><td>-1.531</td><td>2.282</td><td>-1.59</td><td>1.087</td><td>0.609</td></tr><tr><th>27</th><td>37</td><td>ACADVL</td><td>-0.589</td><td>-0.315</td><td>-1.171</td><td>-1.08</td><td>0.079</td></tr><tr><th>28</th><td>38</td><td>ACAT1</td><td>-0.879</td><td>1.694</td><td>-0.184</td><td>0.0</td><td>-0.098</td></tr><tr><th>29</th><td>39</td><td>ACAT2</td><td>-0.24</td><td>1.44</td><td>1.37</td><td>0.742</td><td>-1.061</td></tr><tr><th>30</th><td>43</td><td>ACHE</td><td>-0.162</td><td>-0.298</td><td>-0.284</td><td>0.033</td><td>-0.145</td></tr><tr><th>&vellip;</th><td>&vellip;</td><td>&vellip;</td><td>&vellip;</td><td>&vellip;</td><td>&vellip;</td><td>&vellip;</td><td>&vellip;</td></tr></tbody></table></div>"
      ],
      "text/latex": [
       "\\begin{tabular}{r|cccccccc}\n",
       "\t& id\\_gene & gene\\_symbol & Yau-2010-103 & Yau-2010-107 & Yau-2010-109 & Yau-2010-11 & Yau-2010-110 & \\\\\n",
       "\t\\hline\n",
       "\t& Int64 & String15 & Float64 & Float64 & Float64 & Float64 & Float64 & \\\\\n",
       "\t\\hline\n",
       "\t1 & 2 & A2M & -1.599 & 0.719 & -0.661 & -0.272 & -1.766 & $\\dots$ \\\\\n",
       "\t2 & 9 & NAT1 & -3.14 & 3.38 & -3.673 & 0.479 & -2.374 & $\\dots$ \\\\\n",
       "\t3 & 10 & NAT2 & 0.398 & 0.296 & 1.185 & 0.129 & -0.006 & $\\dots$ \\\\\n",
       "\t4 & 12 & SERPINA3 & -3.399 & -0.449 & -1.616 & -4.052 & 1.193 & $\\dots$ \\\\\n",
       "\t5 & 13 & AADAC & -0.203 & 0.505 & -0.241 & 0.347 & 0.355 & $\\dots$ \\\\\n",
       "\t6 & 14 & AAMP & 0.39 & -0.453 & 1.655 & -0.16 & 0.942 & $\\dots$ \\\\\n",
       "\t7 & 15 & AANAT & -0.589 & -0.218 & -0.3 & -0.128 & -0.038 & $\\dots$ \\\\\n",
       "\t8 & 16 & AARS1 & 0.259 & 1.377 & -0.131 & 1.632 & -0.221 & $\\dots$ \\\\\n",
       "\t9 & 18 & ABAT & -0.629 & -0.806 & -0.465 & -0.184 & -0.754 & $\\dots$ \\\\\n",
       "\t10 & 19 & ABCA1 & -0.264 & -0.703 & -0.024 & 2.009 & 0.229 & $\\dots$ \\\\\n",
       "\t11 & 20 & ABCA2 & -1.1 & -0.135 & -0.934 & -0.787 & 0.514 & $\\dots$ \\\\\n",
       "\t12 & 21 & ABCA3 & -0.17 & 3.902 & 1.766 & -1.358 & 2.911 & $\\dots$ \\\\\n",
       "\t13 & 22 & ABCB7 & -0.278 & 0.194 & 0.049 & -0.31 & 0.225 & $\\dots$ \\\\\n",
       "\t14 & 23 & ABCF1 & 1.189 & 0.019 & 0.186 & 0.095 & -0.207 & $\\dots$ \\\\\n",
       "\t15 & 24 & ABCA4 & -0.263 & 0.085 & -0.506 & -0.198 & 0.295 & $\\dots$ \\\\\n",
       "\t16 & 25 & ABL1 & -0.569 & -0.358 & -0.331 & 0.249 & -0.046 & $\\dots$ \\\\\n",
       "\t17 & 27 & ABL2 & -0.188 & -0.846 & 0.155 & 0.309 & -0.158 & $\\dots$ \\\\\n",
       "\t18 & 28 & ABO & -0.021 & 0.464 & 0.843 & 0.788 & 0.234 & $\\dots$ \\\\\n",
       "\t19 & 29 & ABR & -0.67 & -0.16 & -0.185 & 0.978 & -0.304 & $\\dots$ \\\\\n",
       "\t20 & 30 & ACAA1 & -1.046 & -0.064 & 1.171 & 0.233 & -1.069 & $\\dots$ \\\\\n",
       "\t21 & 31 & ACACA & -0.163 & -0.101 & -0.092 & 0.063 & 0.0 & $\\dots$ \\\\\n",
       "\t22 & 32 & ACACB & -0.549 & -0.32 & -0.057 & -0.168 & -0.007 & $\\dots$ \\\\\n",
       "\t23 & 33 & ACADL & -1.057 & -1.389 & -1.633 & -1.478 & -1.09 & $\\dots$ \\\\\n",
       "\t24 & 34 & ACADM & -0.241 & 0.627 & 1.391 & 1.147 & 0.779 & $\\dots$ \\\\\n",
       "\t25 & 35 & ACADS & -1.289 & -0.469 & -1.789 & -1.639 & -0.004 & $\\dots$ \\\\\n",
       "\t26 & 36 & ACADSB & -1.531 & 2.282 & -1.59 & 1.087 & 0.609 & $\\dots$ \\\\\n",
       "\t27 & 37 & ACADVL & -0.589 & -0.315 & -1.171 & -1.08 & 0.079 & $\\dots$ \\\\\n",
       "\t28 & 38 & ACAT1 & -0.879 & 1.694 & -0.184 & 0.0 & -0.098 & $\\dots$ \\\\\n",
       "\t29 & 39 & ACAT2 & -0.24 & 1.44 & 1.37 & 0.742 & -1.061 & $\\dots$ \\\\\n",
       "\t30 & 43 & ACHE & -0.162 & -0.298 & -0.284 & 0.033 & -0.145 & $\\dots$ \\\\\n",
       "\t$\\dots$ & $\\dots$ & $\\dots$ & $\\dots$ & $\\dots$ & $\\dots$ & $\\dots$ & $\\dots$ &  \\\\\n",
       "\\end{tabular}\n"
      ],
      "text/plain": [
       "\u001b[1m8791×685 DataFrame\u001b[0m\n",
       "\u001b[1m  Row \u001b[0m│\u001b[1m id_gene   \u001b[0m\u001b[1m gene_symbol \u001b[0m\u001b[1m Yau-2010-103 \u001b[0m\u001b[1m Yau-2010-107 \u001b[0m\u001b[1m Yau-2010-109 \u001b[0m\u001b[1m Yau-\u001b[0m ⋯\n",
       "\u001b[1m      \u001b[0m│\u001b[90m Int64     \u001b[0m\u001b[90m String15    \u001b[0m\u001b[90m Float64      \u001b[0m\u001b[90m Float64      \u001b[0m\u001b[90m Float64      \u001b[0m\u001b[90m Floa\u001b[0m ⋯\n",
       "──────┼─────────────────────────────────────────────────────────────────────────\n",
       "    1 │         2  A2M                -1.599         0.719        -0.661       ⋯\n",
       "    2 │         9  NAT1               -3.14          3.38         -3.673\n",
       "    3 │        10  NAT2                0.398         0.296         1.185\n",
       "    4 │        12  SERPINA3           -3.399        -0.449        -1.616\n",
       "    5 │        13  AADAC              -0.203         0.505        -0.241       ⋯\n",
       "    6 │        14  AAMP                0.39         -0.453         1.655\n",
       "    7 │        15  AANAT              -0.589        -0.218        -0.3\n",
       "    8 │        16  AARS1               0.259         1.377        -0.131\n",
       "    9 │        18  ABAT               -0.629        -0.806        -0.465       ⋯\n",
       "   10 │        19  ABCA1              -0.264        -0.703        -0.024\n",
       "   11 │        20  ABCA2              -1.1          -0.135        -0.934\n",
       "  ⋮   │     ⋮           ⋮            ⋮             ⋮             ⋮             ⋱\n",
       " 8782 │    440026  TMEM41B            -0.741         1.454        -0.661\n",
       " 8783 │    442194  OR10C1             -0.046        -0.244         0.789       ⋯\n",
       " 8784 │    653808  ZG16               -0.157         0.542        -0.019\n",
       " 8785 │    654231  OCM                -0.261        -0.215         0.362\n",
       " 8786 │    729230  CCR2                0.807         1.465         1.046\n",
       " 8787 │ 100137049  PLA2G4B            -0.531         0.056        -1.3         ⋯\n",
       " 8788 │ 100271849  MEF2B               0.595         1.056         0.976\n",
       " 8789 │ 100287932  TIMM23              0.906         0.564         1.488\n",
       " 8790 │ 100507436  MICA               -1.22         -1.013        -0.494\n",
       " 8791 │ 102723547  CSAG2               1.956         0.436        -0.012       ⋯\n",
       "\u001b[36m                                               680 columns and 8770 rows omitted\u001b[0m"
      ]
     },
     "execution_count": 10,
     "metadata": {},
     "output_type": "execute_result"
    }
   ],
   "source": [
    "@time GSE21653 = CSV.read(\"data/expression_data_GSE21653_GSE21653_log_expression_266_samples_21887_genes.csv\",DataFrame)\n",
    "@time Miller = CSV.read(\"data/expression_data_Miller-2005_Miller-2005_log_expression_251_samples_14145_genes.csv\",DataFrame)\n",
    "@time Naderi_Caldas = CSV.read(\"data/expression_data_Naderi-Caldas-2007_Naderi-Caldas-2007_log_expression_242_samples_14366_genes.csv\",DataFrame)\n",
    "@time E_MTAB_365 = CSV.read(\"data/expression_data_probreast_microarrays_E-MTAB-365_log_expression_1190_samples_23035_genes.csv\",DataFrame)\n",
    "@time GSE25066 = CSV.read(\"data/expression_data_probreast_microarrays_GSE25066_log_expression_508_samples_13815_genes.csv\",DataFrame)\n",
    "@time GSE42568 = CSV.read(\"data/expression_data_probreast_microarrays_GSE42568_log_expression_121_samples_23035_genes.csv\",DataFrame)\n",
    "@time TCGA_BRCA = CSV.read(\"data/expression_data_tcga_brca_TCGA-BRCA_log_fpkm_1250_samples_42851_genes.csv\",DataFrame)\n",
    "@time Yau = CSV.read(\"data/expression_data_Yau-2010_Yau-2010_log_expression_683_samples_8791_genes.csv\",DataFrame)"
   ]
  },
  {
   "cell_type": "markdown",
   "id": "d83e233c",
   "metadata": {},
   "source": [
    "#### Chargement des Experimentales Groupings"
   ]
  },
  {
   "cell_type": "code",
   "execution_count": 11,
   "id": "55860f7c",
   "metadata": {},
   "outputs": [
    {
     "name": "stdout",
     "output_type": "stream",
     "text": [
      "  0.891966 seconds (2.56 M allocations: 97.206 MiB, 45.93% compilation time)\n"
     ]
    },
    {
     "data": {
      "text/plain": [
       "XLSXFile(\"data/EpiMed_experimental_grouping_2022.11.28_E-MTAB-365.xlsx\") containing 2 Worksheets\n",
       "            sheetname size          range        \n",
       "-------------------------------------------------\n",
       "   standard exp_group 1x1           A1:A1        \n",
       "  original parameters 1x1           A1:A1        \n"
      ]
     },
     "execution_count": 11,
     "metadata": {},
     "output_type": "execute_result"
    }
   ],
   "source": [
    "@time EMTAB365_EG = XLSX.readxlsx(\"data/EpiMed_experimental_grouping_2022.11.28_E-MTAB-365.xlsx\")"
   ]
  },
  {
   "cell_type": "code",
   "execution_count": 12,
   "id": "1cb29fe4",
   "metadata": {},
   "outputs": [
    {
     "name": "stdout",
     "output_type": "stream",
     "text": [
      "  1.619195 seconds (1.49 M allocations: 62.942 MiB, 60.88% gc time, 19.94% compilation time)\n"
     ]
    },
    {
     "data": {
      "text/html": [
       "<div class=\"data-frame\"><p>1,190 rows × 49 columns (omitted printing of 42 columns)</p><table class=\"data-frame\"><thead><tr><th></th><th>id_sample</th><th>main_gse_number</th><th>id_platform</th><th>sample_title</th><th>sample_source</th><th>sex</th><th>ethnic_group</th></tr><tr><th></th><th title=\"Any\">Any</th><th title=\"Any\">Any</th><th title=\"Any\">Any</th><th title=\"Any\">Any</th><th title=\"Any\">Any</th><th title=\"Any\">Any</th><th title=\"Any\">Any</th></tr></thead><tbody><tr><th>1</th><td>CIT_DSCGH_001</td><td>E-MTAB-365</td><td>A-MEXP-1914</td><td><em>missing</em></td><td>CIT_DSCGH_001</td><td>F</td><td><em>missing</em></td></tr><tr><th>2</th><td>CIT_DSCGH_002</td><td>E-MTAB-365</td><td>A-MEXP-1914</td><td><em>missing</em></td><td>CIT_DSCGH_002</td><td>F</td><td><em>missing</em></td></tr><tr><th>3</th><td>CIT_DSCGH_003</td><td>E-MTAB-365</td><td>A-MEXP-1914</td><td><em>missing</em></td><td>CIT_DSCGH_003</td><td>F</td><td><em>missing</em></td></tr><tr><th>4</th><td>CIT_DSCGH_004</td><td>E-MTAB-365</td><td>A-MEXP-1914</td><td><em>missing</em></td><td>CIT_DSCGH_004</td><td>F</td><td><em>missing</em></td></tr><tr><th>5</th><td>CIT_DSCGH_005</td><td>E-MTAB-365</td><td>A-MEXP-1914</td><td><em>missing</em></td><td>CIT_DSCGH_005</td><td>F</td><td><em>missing</em></td></tr><tr><th>6</th><td>CIT_DSCGH_006</td><td>E-MTAB-365</td><td>A-MEXP-1914</td><td><em>missing</em></td><td>CIT_DSCGH_006</td><td>F</td><td><em>missing</em></td></tr><tr><th>7</th><td>CIT_DSCGH_007</td><td>E-MTAB-365</td><td>A-MEXP-1914</td><td><em>missing</em></td><td>CIT_DSCGH_007</td><td>F</td><td><em>missing</em></td></tr><tr><th>8</th><td>CIT_DSCGH_008</td><td>E-MTAB-365</td><td>A-MEXP-1914</td><td><em>missing</em></td><td>CIT_DSCGH_008</td><td>F</td><td><em>missing</em></td></tr><tr><th>9</th><td>CIT_DSCGH_009</td><td>E-MTAB-365</td><td>A-MEXP-1914</td><td><em>missing</em></td><td>CIT_DSCGH_009</td><td>F</td><td><em>missing</em></td></tr><tr><th>10</th><td>CIT_DSCGH_010</td><td>E-MTAB-365</td><td>A-MEXP-1914</td><td><em>missing</em></td><td>CIT_DSCGH_010</td><td>F</td><td><em>missing</em></td></tr><tr><th>11</th><td>CIT_DSCGH_011</td><td>E-MTAB-365</td><td>A-MEXP-1914</td><td><em>missing</em></td><td>CIT_DSCGH_011</td><td>F</td><td><em>missing</em></td></tr><tr><th>12</th><td>CIT_DSCGH_012</td><td>E-MTAB-365</td><td>A-MEXP-1914</td><td><em>missing</em></td><td>CIT_DSCGH_012</td><td>F</td><td><em>missing</em></td></tr><tr><th>13</th><td>CIT_DSCGH_013</td><td>E-MTAB-365</td><td>A-MEXP-1914</td><td><em>missing</em></td><td>CIT_DSCGH_013</td><td>F</td><td><em>missing</em></td></tr><tr><th>14</th><td>CIT_DSCGH_014</td><td>E-MTAB-365</td><td>A-MEXP-1914</td><td><em>missing</em></td><td>CIT_DSCGH_014</td><td>F</td><td><em>missing</em></td></tr><tr><th>15</th><td>CIT_DSCGH_015</td><td>E-MTAB-365</td><td>A-MEXP-1914</td><td><em>missing</em></td><td>CIT_DSCGH_015</td><td>F</td><td><em>missing</em></td></tr><tr><th>16</th><td>CIT_DSCGH_016</td><td>E-MTAB-365</td><td>A-MEXP-1914</td><td><em>missing</em></td><td>CIT_DSCGH_016</td><td>F</td><td><em>missing</em></td></tr><tr><th>17</th><td>CIT_DSCGH_017</td><td>E-MTAB-365</td><td>A-MEXP-1914</td><td><em>missing</em></td><td>CIT_DSCGH_017</td><td>F</td><td><em>missing</em></td></tr><tr><th>18</th><td>CIT_DSCGH_018</td><td>E-MTAB-365</td><td>A-MEXP-1914</td><td><em>missing</em></td><td>CIT_DSCGH_018</td><td>F</td><td><em>missing</em></td></tr><tr><th>19</th><td>CIT_DSCGH_019</td><td>E-MTAB-365</td><td>A-MEXP-1914</td><td><em>missing</em></td><td>CIT_DSCGH_019</td><td>F</td><td><em>missing</em></td></tr><tr><th>20</th><td>CIT_DSCGH_020</td><td>E-MTAB-365</td><td>A-MEXP-1914</td><td><em>missing</em></td><td>CIT_DSCGH_020</td><td>F</td><td><em>missing</em></td></tr><tr><th>21</th><td>CIT_DSCGH_021</td><td>E-MTAB-365</td><td>A-MEXP-1914</td><td><em>missing</em></td><td>CIT_DSCGH_021</td><td>F</td><td><em>missing</em></td></tr><tr><th>22</th><td>CIT_DSCGH_022</td><td>E-MTAB-365</td><td>A-MEXP-1914</td><td><em>missing</em></td><td>CIT_DSCGH_022</td><td>F</td><td><em>missing</em></td></tr><tr><th>23</th><td>CIT_DSCGH_023</td><td>E-MTAB-365</td><td>A-MEXP-1914</td><td><em>missing</em></td><td>CIT_DSCGH_023</td><td>F</td><td><em>missing</em></td></tr><tr><th>24</th><td>CIT_DSCGH_024</td><td>E-MTAB-365</td><td>A-MEXP-1914</td><td><em>missing</em></td><td>CIT_DSCGH_024</td><td>F</td><td><em>missing</em></td></tr><tr><th>25</th><td>CIT_DSCGH_025</td><td>E-MTAB-365</td><td>A-MEXP-1914</td><td><em>missing</em></td><td>CIT_DSCGH_025</td><td>F</td><td><em>missing</em></td></tr><tr><th>26</th><td>CIT_DSCGH_026</td><td>E-MTAB-365</td><td>A-MEXP-1914</td><td><em>missing</em></td><td>CIT_DSCGH_026</td><td>F</td><td><em>missing</em></td></tr><tr><th>27</th><td>CIT_DSCGH_027</td><td>E-MTAB-365</td><td>A-MEXP-1914</td><td><em>missing</em></td><td>CIT_DSCGH_027</td><td>F</td><td><em>missing</em></td></tr><tr><th>28</th><td>CIT_DSCGH_028</td><td>E-MTAB-365</td><td>A-MEXP-1914</td><td><em>missing</em></td><td>CIT_DSCGH_028</td><td>F</td><td><em>missing</em></td></tr><tr><th>29</th><td>CIT_DSCGH_029</td><td>E-MTAB-365</td><td>A-MEXP-1914</td><td><em>missing</em></td><td>CIT_DSCGH_029</td><td>F</td><td><em>missing</em></td></tr><tr><th>30</th><td>CIT_DSCGH_030</td><td>E-MTAB-365</td><td>A-MEXP-1914</td><td><em>missing</em></td><td>CIT_DSCGH_030</td><td>F</td><td><em>missing</em></td></tr><tr><th>&vellip;</th><td>&vellip;</td><td>&vellip;</td><td>&vellip;</td><td>&vellip;</td><td>&vellip;</td><td>&vellip;</td><td>&vellip;</td></tr></tbody></table></div>"
      ],
      "text/latex": [
       "\\begin{tabular}{r|cccccccc}\n",
       "\t& id\\_sample & main\\_gse\\_number & id\\_platform & sample\\_title & sample\\_source & sex & ethnic\\_group & \\\\\n",
       "\t\\hline\n",
       "\t& Any & Any & Any & Any & Any & Any & Any & \\\\\n",
       "\t\\hline\n",
       "\t1 & CIT\\_DSCGH\\_001 & E-MTAB-365 & A-MEXP-1914 & \\emph{missing} & CIT\\_DSCGH\\_001 & F & \\emph{missing} & $\\dots$ \\\\\n",
       "\t2 & CIT\\_DSCGH\\_002 & E-MTAB-365 & A-MEXP-1914 & \\emph{missing} & CIT\\_DSCGH\\_002 & F & \\emph{missing} & $\\dots$ \\\\\n",
       "\t3 & CIT\\_DSCGH\\_003 & E-MTAB-365 & A-MEXP-1914 & \\emph{missing} & CIT\\_DSCGH\\_003 & F & \\emph{missing} & $\\dots$ \\\\\n",
       "\t4 & CIT\\_DSCGH\\_004 & E-MTAB-365 & A-MEXP-1914 & \\emph{missing} & CIT\\_DSCGH\\_004 & F & \\emph{missing} & $\\dots$ \\\\\n",
       "\t5 & CIT\\_DSCGH\\_005 & E-MTAB-365 & A-MEXP-1914 & \\emph{missing} & CIT\\_DSCGH\\_005 & F & \\emph{missing} & $\\dots$ \\\\\n",
       "\t6 & CIT\\_DSCGH\\_006 & E-MTAB-365 & A-MEXP-1914 & \\emph{missing} & CIT\\_DSCGH\\_006 & F & \\emph{missing} & $\\dots$ \\\\\n",
       "\t7 & CIT\\_DSCGH\\_007 & E-MTAB-365 & A-MEXP-1914 & \\emph{missing} & CIT\\_DSCGH\\_007 & F & \\emph{missing} & $\\dots$ \\\\\n",
       "\t8 & CIT\\_DSCGH\\_008 & E-MTAB-365 & A-MEXP-1914 & \\emph{missing} & CIT\\_DSCGH\\_008 & F & \\emph{missing} & $\\dots$ \\\\\n",
       "\t9 & CIT\\_DSCGH\\_009 & E-MTAB-365 & A-MEXP-1914 & \\emph{missing} & CIT\\_DSCGH\\_009 & F & \\emph{missing} & $\\dots$ \\\\\n",
       "\t10 & CIT\\_DSCGH\\_010 & E-MTAB-365 & A-MEXP-1914 & \\emph{missing} & CIT\\_DSCGH\\_010 & F & \\emph{missing} & $\\dots$ \\\\\n",
       "\t11 & CIT\\_DSCGH\\_011 & E-MTAB-365 & A-MEXP-1914 & \\emph{missing} & CIT\\_DSCGH\\_011 & F & \\emph{missing} & $\\dots$ \\\\\n",
       "\t12 & CIT\\_DSCGH\\_012 & E-MTAB-365 & A-MEXP-1914 & \\emph{missing} & CIT\\_DSCGH\\_012 & F & \\emph{missing} & $\\dots$ \\\\\n",
       "\t13 & CIT\\_DSCGH\\_013 & E-MTAB-365 & A-MEXP-1914 & \\emph{missing} & CIT\\_DSCGH\\_013 & F & \\emph{missing} & $\\dots$ \\\\\n",
       "\t14 & CIT\\_DSCGH\\_014 & E-MTAB-365 & A-MEXP-1914 & \\emph{missing} & CIT\\_DSCGH\\_014 & F & \\emph{missing} & $\\dots$ \\\\\n",
       "\t15 & CIT\\_DSCGH\\_015 & E-MTAB-365 & A-MEXP-1914 & \\emph{missing} & CIT\\_DSCGH\\_015 & F & \\emph{missing} & $\\dots$ \\\\\n",
       "\t16 & CIT\\_DSCGH\\_016 & E-MTAB-365 & A-MEXP-1914 & \\emph{missing} & CIT\\_DSCGH\\_016 & F & \\emph{missing} & $\\dots$ \\\\\n",
       "\t17 & CIT\\_DSCGH\\_017 & E-MTAB-365 & A-MEXP-1914 & \\emph{missing} & CIT\\_DSCGH\\_017 & F & \\emph{missing} & $\\dots$ \\\\\n",
       "\t18 & CIT\\_DSCGH\\_018 & E-MTAB-365 & A-MEXP-1914 & \\emph{missing} & CIT\\_DSCGH\\_018 & F & \\emph{missing} & $\\dots$ \\\\\n",
       "\t19 & CIT\\_DSCGH\\_019 & E-MTAB-365 & A-MEXP-1914 & \\emph{missing} & CIT\\_DSCGH\\_019 & F & \\emph{missing} & $\\dots$ \\\\\n",
       "\t20 & CIT\\_DSCGH\\_020 & E-MTAB-365 & A-MEXP-1914 & \\emph{missing} & CIT\\_DSCGH\\_020 & F & \\emph{missing} & $\\dots$ \\\\\n",
       "\t21 & CIT\\_DSCGH\\_021 & E-MTAB-365 & A-MEXP-1914 & \\emph{missing} & CIT\\_DSCGH\\_021 & F & \\emph{missing} & $\\dots$ \\\\\n",
       "\t22 & CIT\\_DSCGH\\_022 & E-MTAB-365 & A-MEXP-1914 & \\emph{missing} & CIT\\_DSCGH\\_022 & F & \\emph{missing} & $\\dots$ \\\\\n",
       "\t23 & CIT\\_DSCGH\\_023 & E-MTAB-365 & A-MEXP-1914 & \\emph{missing} & CIT\\_DSCGH\\_023 & F & \\emph{missing} & $\\dots$ \\\\\n",
       "\t24 & CIT\\_DSCGH\\_024 & E-MTAB-365 & A-MEXP-1914 & \\emph{missing} & CIT\\_DSCGH\\_024 & F & \\emph{missing} & $\\dots$ \\\\\n",
       "\t25 & CIT\\_DSCGH\\_025 & E-MTAB-365 & A-MEXP-1914 & \\emph{missing} & CIT\\_DSCGH\\_025 & F & \\emph{missing} & $\\dots$ \\\\\n",
       "\t26 & CIT\\_DSCGH\\_026 & E-MTAB-365 & A-MEXP-1914 & \\emph{missing} & CIT\\_DSCGH\\_026 & F & \\emph{missing} & $\\dots$ \\\\\n",
       "\t27 & CIT\\_DSCGH\\_027 & E-MTAB-365 & A-MEXP-1914 & \\emph{missing} & CIT\\_DSCGH\\_027 & F & \\emph{missing} & $\\dots$ \\\\\n",
       "\t28 & CIT\\_DSCGH\\_028 & E-MTAB-365 & A-MEXP-1914 & \\emph{missing} & CIT\\_DSCGH\\_028 & F & \\emph{missing} & $\\dots$ \\\\\n",
       "\t29 & CIT\\_DSCGH\\_029 & E-MTAB-365 & A-MEXP-1914 & \\emph{missing} & CIT\\_DSCGH\\_029 & F & \\emph{missing} & $\\dots$ \\\\\n",
       "\t30 & CIT\\_DSCGH\\_030 & E-MTAB-365 & A-MEXP-1914 & \\emph{missing} & CIT\\_DSCGH\\_030 & F & \\emph{missing} & $\\dots$ \\\\\n",
       "\t$\\dots$ & $\\dots$ & $\\dots$ & $\\dots$ & $\\dots$ & $\\dots$ & $\\dots$ & $\\dots$ &  \\\\\n",
       "\\end{tabular}\n"
      ],
      "text/plain": [
       "\u001b[1m1190×49 DataFrame\u001b[0m\n",
       "\u001b[1m  Row \u001b[0m│\u001b[1m id_sample     \u001b[0m\u001b[1m main_gse_number \u001b[0m\u001b[1m id_platform \u001b[0m\u001b[1m sample_title \u001b[0m\u001b[1m sample_sour\u001b[0m ⋯\n",
       "\u001b[1m      \u001b[0m│\u001b[90m Any           \u001b[0m\u001b[90m Any             \u001b[0m\u001b[90m Any         \u001b[0m\u001b[90m Any          \u001b[0m\u001b[90m Any        \u001b[0m ⋯\n",
       "──────┼─────────────────────────────────────────────────────────────────────────\n",
       "    1 │ CIT_DSCGH_001  E-MTAB-365       A-MEXP-1914 \u001b[90m missing      \u001b[0m CIT_DSCGH_0 ⋯\n",
       "    2 │ CIT_DSCGH_002  E-MTAB-365       A-MEXP-1914 \u001b[90m missing      \u001b[0m CIT_DSCGH_0\n",
       "    3 │ CIT_DSCGH_003  E-MTAB-365       A-MEXP-1914 \u001b[90m missing      \u001b[0m CIT_DSCGH_0\n",
       "    4 │ CIT_DSCGH_004  E-MTAB-365       A-MEXP-1914 \u001b[90m missing      \u001b[0m CIT_DSCGH_0\n",
       "    5 │ CIT_DSCGH_005  E-MTAB-365       A-MEXP-1914 \u001b[90m missing      \u001b[0m CIT_DSCGH_0 ⋯\n",
       "    6 │ CIT_DSCGH_006  E-MTAB-365       A-MEXP-1914 \u001b[90m missing      \u001b[0m CIT_DSCGH_0\n",
       "    7 │ CIT_DSCGH_007  E-MTAB-365       A-MEXP-1914 \u001b[90m missing      \u001b[0m CIT_DSCGH_0\n",
       "    8 │ CIT_DSCGH_008  E-MTAB-365       A-MEXP-1914 \u001b[90m missing      \u001b[0m CIT_DSCGH_0\n",
       "    9 │ CIT_DSCGH_009  E-MTAB-365       A-MEXP-1914 \u001b[90m missing      \u001b[0m CIT_DSCGH_0 ⋯\n",
       "   10 │ CIT_DSCGH_010  E-MTAB-365       A-MEXP-1914 \u001b[90m missing      \u001b[0m CIT_DSCGH_0\n",
       "   11 │ CIT_DSCGH_011  E-MTAB-365       A-MEXP-1914 \u001b[90m missing      \u001b[0m CIT_DSCGH_0\n",
       "  ⋮   │       ⋮               ⋮              ⋮            ⋮              ⋮     ⋱\n",
       " 1181 │ CIT_DSOA_528   E-MTAB-365       GPL570       STAM_RL_62    CIT_DSOA_52\n",
       " 1182 │ CIT_DSOA_529   E-MTAB-365       GPL570       STAM_RL_64    CIT_DSOA_52 ⋯\n",
       " 1183 │ CIT_DSOA_530   E-MTAB-365       GPL570       STAM_RL_66    CIT_DSOA_53\n",
       " 1184 │ CIT_DSOA_531   E-MTAB-365       GPL570       STAM_RL_68    CIT_DSOA_53\n",
       " 1185 │ CIT_DSOA_532   E-MTAB-365       GPL570       STAM_RL_69    CIT_DSOA_53\n",
       " 1186 │ CIT_DSOA_533   E-MTAB-365       GPL570       STAM_RL_70    CIT_DSOA_53 ⋯\n",
       " 1187 │ CIT_DSOA_534   E-MTAB-365       GPL570       STAM_RL_71    CIT_DSOA_53\n",
       " 1188 │ CIT_DSOA_535   E-MTAB-365       GPL570       STAM_RL_72    CIT_DSOA_53\n",
       " 1189 │ CIT_DSOA_536   E-MTAB-365       GPL570       STAM_RL_73    CIT_DSOA_53\n",
       " 1190 │ CIT_DSOA_537   E-MTAB-365       GPL570       STAM_RL_74    CIT_DSOA_53 ⋯\n",
       "\u001b[36m                                                45 columns and 1169 rows omitted\u001b[0m"
      ]
     },
     "execution_count": 12,
     "metadata": {},
     "output_type": "execute_result"
    }
   ],
   "source": [
    "# En Dataframe directement :\n",
    "@time EMTAB365_EG_1 = DataFrame(XLSX.readtable(\"data/EpiMed_experimental_grouping_2022.11.28_E-MTAB-365.xlsx\", \"standard exp_group\"))"
   ]
  },
  {
   "cell_type": "code",
   "execution_count": 13,
   "id": "ef88f5f5",
   "metadata": {},
   "outputs": [
    {
     "data": {
      "text/plain": [
       "1×1 XLSX.Worksheet: [\"standard exp_group\"](A1:A1) "
      ]
     },
     "execution_count": 13,
     "metadata": {},
     "output_type": "execute_result"
    }
   ],
   "source": [
    "# Nous recupérons les données du premier worksheet : standard exp_group\n",
    "EMTAB365_EG = EMTAB365_EG[\"standard exp_group\"]"
   ]
  },
  {
   "cell_type": "markdown",
   "id": "de7980b6-7ec7-44e9-abb8-f48b844292ec",
   "metadata": {},
   "source": [
    "On affiche les 10 premières lignes du jeu de données pour voir de quoi il est composé"
   ]
  },
  {
   "cell_type": "code",
   "execution_count": 14,
   "id": "8ab3ada2-1bf4-4c79-b99f-265e4410d050",
   "metadata": {
    "scrolled": true
   },
   "outputs": [
    {
     "name": "stdout",
     "output_type": "stream",
     "text": [
      "  0.076327 seconds (55.02 k allocations: 3.677 MiB, 95.49% compilation time)\n",
      "Hello"
     ]
    }
   ],
   "source": [
    "@time first(cancer,10)\n",
    "print(\"Hello\")"
   ]
  },
  {
   "cell_type": "code",
   "execution_count": 15,
   "id": "c4cf561f-768b-4e46-a5bc-430bc8fffff4",
   "metadata": {},
   "outputs": [
    {
     "data": {
      "text/html": [
       "<div class=\"data-frame\"><p>10 rows × 1,252 columns (omitted printing of 1246 columns)</p><table class=\"data-frame\"><thead><tr><th></th><th>id_gene</th><th>gene_symbol</th><th>TCGA-3C-AAAU-01A</th><th>TCGA-3C-AALI-01A</th><th>TCGA-3C-AALJ-01A</th><th>TCGA-3C-AALK-01A</th></tr><tr><th></th><th title=\"Int64\">Int64</th><th title=\"String31\">String31</th><th title=\"String15\">String15</th><th title=\"String15\">String15</th><th title=\"String15\">String15</th><th title=\"String15\">String15</th></tr></thead><tbody><tr><th>1</th><td>1</td><td>A1BG</td><td>0.217975</td><td>0.273098</td><td>0.200881</td><td>0.1153</td></tr><tr><th>2</th><td>2</td><td>A2M</td><td>5.582971</td><td>5.908904</td><td>6.107943</td><td>6.316021</td></tr><tr><th>3</th><td>3</td><td>A2MP1</td><td>0.0</td><td>0.067226</td><td>0.148609</td><td>0.070939</td></tr><tr><th>4</th><td>9</td><td>NAT1</td><td>7.172849</td><td>3.53512</td><td>4.535145</td><td>4.370171</td></tr><tr><th>5</th><td>10</td><td>NAT2</td><td>0.605589</td><td>2.2773</td><td>0.050745</td><td>0.43328</td></tr><tr><th>6</th><td>11</td><td>NATP</td><td>1.188464</td><td>0.088549</td><td>0.0</td><td>0.0</td></tr><tr><th>7</th><td>12</td><td>SERPINA3</td><td>0.941257</td><td>0.008057</td><td>1.266577</td><td>1.115233</td></tr><tr><th>8</th><td>13</td><td>AADAC</td><td>0.0</td><td>0.048236</td><td>0.040121</td><td>0.16337</td></tr><tr><th>9</th><td>14</td><td>AAMP</td><td>5.286755</td><td>5.780848</td><td>5.397889</td><td>5.555282</td></tr><tr><th>10</th><td>15</td><td>AANAT</td><td>0.012068</td><td>0.444349</td><td>0.173639</td><td>0.051442</td></tr></tbody></table></div>"
      ],
      "text/latex": [
       "\\begin{tabular}{r|ccccccc}\n",
       "\t& id\\_gene & gene\\_symbol & TCGA-3C-AAAU-01A & TCGA-3C-AALI-01A & TCGA-3C-AALJ-01A & TCGA-3C-AALK-01A & \\\\\n",
       "\t\\hline\n",
       "\t& Int64 & String31 & String15 & String15 & String15 & String15 & \\\\\n",
       "\t\\hline\n",
       "\t1 & 1 & A1BG & 0.217975 & 0.273098 & 0.200881 & 0.1153 & $\\dots$ \\\\\n",
       "\t2 & 2 & A2M & 5.582971 & 5.908904 & 6.107943 & 6.316021 & $\\dots$ \\\\\n",
       "\t3 & 3 & A2MP1 & 0.0 & 0.067226 & 0.148609 & 0.070939 & $\\dots$ \\\\\n",
       "\t4 & 9 & NAT1 & 7.172849 & 3.53512 & 4.535145 & 4.370171 & $\\dots$ \\\\\n",
       "\t5 & 10 & NAT2 & 0.605589 & 2.2773 & 0.050745 & 0.43328 & $\\dots$ \\\\\n",
       "\t6 & 11 & NATP & 1.188464 & 0.088549 & 0.0 & 0.0 & $\\dots$ \\\\\n",
       "\t7 & 12 & SERPINA3 & 0.941257 & 0.008057 & 1.266577 & 1.115233 & $\\dots$ \\\\\n",
       "\t8 & 13 & AADAC & 0.0 & 0.048236 & 0.040121 & 0.16337 & $\\dots$ \\\\\n",
       "\t9 & 14 & AAMP & 5.286755 & 5.780848 & 5.397889 & 5.555282 & $\\dots$ \\\\\n",
       "\t10 & 15 & AANAT & 0.012068 & 0.444349 & 0.173639 & 0.051442 & $\\dots$ \\\\\n",
       "\\end{tabular}\n"
      ],
      "text/plain": [
       "\u001b[1m10×1252 DataFrame\u001b[0m\n",
       "\u001b[1m Row \u001b[0m│\u001b[1m id_gene \u001b[0m\u001b[1m gene_symbol \u001b[0m\u001b[1m TCGA-3C-AAAU-01A \u001b[0m\u001b[1m TCGA-3C-AALI-01A \u001b[0m\u001b[1m TCGA-3C-AALJ-\u001b[0m ⋯\n",
       "\u001b[1m     \u001b[0m│\u001b[90m Int64   \u001b[0m\u001b[90m String31    \u001b[0m\u001b[90m String15         \u001b[0m\u001b[90m String15         \u001b[0m\u001b[90m String15     \u001b[0m ⋯\n",
       "─────┼──────────────────────────────────────────────────────────────────────────\n",
       "   1 │       1  A1BG         0.217975          0.273098          0.200881      ⋯\n",
       "   2 │       2  A2M          5.582971          5.908904          6.107943\n",
       "   3 │       3  A2MP1        0.0               0.067226          0.148609\n",
       "   4 │       9  NAT1         7.172849          3.53512           4.535145\n",
       "   5 │      10  NAT2         0.605589          2.2773            0.050745      ⋯\n",
       "   6 │      11  NATP         1.188464          0.088549          0.0\n",
       "   7 │      12  SERPINA3     0.941257          0.008057          1.266577\n",
       "   8 │      13  AADAC        0.0               0.048236          0.040121\n",
       "   9 │      14  AAMP         5.286755          5.780848          5.397889      ⋯\n",
       "  10 │      15  AANAT        0.012068          0.444349          0.173639\n",
       "\u001b[36m                                                            1248 columns omitted\u001b[0m"
      ]
     },
     "execution_count": 15,
     "metadata": {},
     "output_type": "execute_result"
    }
   ],
   "source": [
    "first(TCGA_BRCA,10)"
   ]
  },
  {
   "cell_type": "code",
   "execution_count": 16,
   "id": "e2be2173-2b30-4dec-b386-8c9339e981c9",
   "metadata": {},
   "outputs": [
    {
     "ename": "LoadError",
     "evalue": "UndefVarError: `df` not defined",
     "output_type": "error",
     "traceback": [
      "UndefVarError: `df` not defined",
      "",
      "Stacktrace:",
      " [1] top-level scope",
      "   @ In[16]:2"
     ]
    }
   ],
   "source": [
    "index = []\n",
    "eachrow(df)[1]\n",
    "for i in 1:cancer\n",
    "    if (cancer.\"Luminal-A\"[i] == 1) & (cancer.\"Dataset\"[i] == \"TCGA-BRCA\")\n",
    "        append!(index,i)\n",
    "    end\n",
    "end\n",
    "print(index)     "
   ]
  },
  {
   "cell_type": "code",
   "execution_count": 17,
   "id": "58b0dc3e-1552-4156-b1a3-4de707d143aa",
   "metadata": {},
   "outputs": [
    {
     "data": {
      "text/html": [
       "<div class=\"data-frame\"><p>3,700 rows × 1 columns</p><table class=\"data-frame\"><thead><tr><th></th><th>Dataset</th></tr><tr><th></th><th title=\"String31\">String31</th></tr></thead><tbody><tr><th>1</th><td>TCGA-BRCA</td></tr><tr><th>2</th><td>TCGA-BRCA</td></tr><tr><th>3</th><td>TCGA-BRCA</td></tr><tr><th>4</th><td>TCGA-BRCA</td></tr><tr><th>5</th><td>TCGA-BRCA</td></tr><tr><th>6</th><td>TCGA-BRCA</td></tr><tr><th>7</th><td>TCGA-BRCA</td></tr><tr><th>8</th><td>TCGA-BRCA</td></tr><tr><th>9</th><td>TCGA-BRCA</td></tr><tr><th>10</th><td>TCGA-BRCA</td></tr><tr><th>11</th><td>TCGA-BRCA</td></tr><tr><th>12</th><td>TCGA-BRCA</td></tr><tr><th>13</th><td>TCGA-BRCA</td></tr><tr><th>14</th><td>TCGA-BRCA</td></tr><tr><th>15</th><td>TCGA-BRCA</td></tr><tr><th>16</th><td>TCGA-BRCA</td></tr><tr><th>17</th><td>TCGA-BRCA</td></tr><tr><th>18</th><td>TCGA-BRCA</td></tr><tr><th>19</th><td>TCGA-BRCA</td></tr><tr><th>20</th><td>TCGA-BRCA</td></tr><tr><th>21</th><td>TCGA-BRCA</td></tr><tr><th>22</th><td>TCGA-BRCA</td></tr><tr><th>23</th><td>TCGA-BRCA</td></tr><tr><th>24</th><td>TCGA-BRCA</td></tr><tr><th>25</th><td>TCGA-BRCA</td></tr><tr><th>26</th><td>TCGA-BRCA</td></tr><tr><th>27</th><td>TCGA-BRCA</td></tr><tr><th>28</th><td>TCGA-BRCA</td></tr><tr><th>29</th><td>TCGA-BRCA</td></tr><tr><th>30</th><td>TCGA-BRCA</td></tr><tr><th>&vellip;</th><td>&vellip;</td></tr></tbody></table></div>"
      ],
      "text/latex": [
       "\\begin{tabular}{r|c}\n",
       "\t& Dataset\\\\\n",
       "\t\\hline\n",
       "\t& String31\\\\\n",
       "\t\\hline\n",
       "\t1 & TCGA-BRCA \\\\\n",
       "\t2 & TCGA-BRCA \\\\\n",
       "\t3 & TCGA-BRCA \\\\\n",
       "\t4 & TCGA-BRCA \\\\\n",
       "\t5 & TCGA-BRCA \\\\\n",
       "\t6 & TCGA-BRCA \\\\\n",
       "\t7 & TCGA-BRCA \\\\\n",
       "\t8 & TCGA-BRCA \\\\\n",
       "\t9 & TCGA-BRCA \\\\\n",
       "\t10 & TCGA-BRCA \\\\\n",
       "\t11 & TCGA-BRCA \\\\\n",
       "\t12 & TCGA-BRCA \\\\\n",
       "\t13 & TCGA-BRCA \\\\\n",
       "\t14 & TCGA-BRCA \\\\\n",
       "\t15 & TCGA-BRCA \\\\\n",
       "\t16 & TCGA-BRCA \\\\\n",
       "\t17 & TCGA-BRCA \\\\\n",
       "\t18 & TCGA-BRCA \\\\\n",
       "\t19 & TCGA-BRCA \\\\\n",
       "\t20 & TCGA-BRCA \\\\\n",
       "\t21 & TCGA-BRCA \\\\\n",
       "\t22 & TCGA-BRCA \\\\\n",
       "\t23 & TCGA-BRCA \\\\\n",
       "\t24 & TCGA-BRCA \\\\\n",
       "\t25 & TCGA-BRCA \\\\\n",
       "\t26 & TCGA-BRCA \\\\\n",
       "\t27 & TCGA-BRCA \\\\\n",
       "\t28 & TCGA-BRCA \\\\\n",
       "\t29 & TCGA-BRCA \\\\\n",
       "\t30 & TCGA-BRCA \\\\\n",
       "\t$\\dots$ & $\\dots$ \\\\\n",
       "\\end{tabular}\n"
      ],
      "text/plain": [
       "\u001b[1m3700×1 DataFrame\u001b[0m\n",
       "\u001b[1m  Row \u001b[0m│\u001b[1m Dataset     \u001b[0m\n",
       "\u001b[1m      \u001b[0m│\u001b[90m String31    \u001b[0m\n",
       "──────┼─────────────\n",
       "    1 │ TCGA-BRCA\n",
       "    2 │ TCGA-BRCA\n",
       "    3 │ TCGA-BRCA\n",
       "    4 │ TCGA-BRCA\n",
       "    5 │ TCGA-BRCA\n",
       "    6 │ TCGA-BRCA\n",
       "    7 │ TCGA-BRCA\n",
       "    8 │ TCGA-BRCA\n",
       "    9 │ TCGA-BRCA\n",
       "   10 │ TCGA-BRCA\n",
       "   11 │ TCGA-BRCA\n",
       "  ⋮   │      ⋮\n",
       " 3691 │ Miller-2005\n",
       " 3692 │ Miller-2005\n",
       " 3693 │ Miller-2005\n",
       " 3694 │ Miller-2005\n",
       " 3695 │ Miller-2005\n",
       " 3696 │ Miller-2005\n",
       " 3697 │ Miller-2005\n",
       " 3698 │ Miller-2005\n",
       " 3699 │ Miller-2005\n",
       " 3700 │ Miller-2005\n",
       "\u001b[36m   3679 rows omitted\u001b[0m"
      ]
     },
     "execution_count": 17,
     "metadata": {},
     "output_type": "execute_result"
    }
   ],
   "source": [
    "select(cancer, :Dataset)"
   ]
  },
  {
   "cell_type": "code",
   "execution_count": 18,
   "id": "07426e78-eb84-4c5e-8bba-1a8dc018a840",
   "metadata": {},
   "outputs": [
    {
     "data": {
      "text/plain": [
       "190-element Vector{Int64}:\n",
       "  130\n",
       "  133\n",
       "  134\n",
       "  137\n",
       "  138\n",
       "  140\n",
       "  141\n",
       "  148\n",
       "  161\n",
       "  163\n",
       "  179\n",
       "  183\n",
       "  185\n",
       "    ⋮\n",
       " 1162\n",
       " 1167\n",
       " 1173\n",
       " 1178\n",
       " 1182\n",
       " 1184\n",
       " 1191\n",
       " 1198\n",
       " 1201\n",
       " 1205\n",
       " 1206\n",
       " 1210"
      ]
     },
     "execution_count": 18,
     "metadata": {},
     "output_type": "execute_result"
    }
   ],
   "source": [
    "ech_LumA = cancer.\"Sample\"[findall((cancer[!, :\"Luminal-A\"] .== 1) .& (cancer[!, :\"Dataset\"] .== \"TCGA-BRCA\") )]\n",
    "indices_LumB = findall((cancer[!, :\"Luminal-B\"] .== 1) .& (cancer[!, :\"Dataset\"] .== \"TCGA-BRCA\") )\n",
    "indices_HER2 = findall((cancer[!, :\"HER2-enriched\"] .== 1) .& (cancer[!, :\"Dataset\"] .== \"TCGA-BRCA\") )\n",
    "indices_Basal = findall((cancer[!, :\"Basal-like\"] .== 1) .& (cancer[!, :\"Dataset\"] .== \"TCGA-BRCA\") )"
   ]
  },
  {
   "cell_type": "code",
   "execution_count": 19,
   "id": "49bb111a-b9db-4fe3-9777-b60ee1d1d20d",
   "metadata": {},
   "outputs": [
    {
     "data": {
      "text/plain": [
       "546-element Vector{String31}:\n",
       " \"gene_symbol\"\n",
       " \"TCGA-3C-AAAU-01A\"\n",
       " \"TCGA-3C-AALK-01A\"\n",
       " \"TCGA-4H-AAAK-01A\"\n",
       " \"TCGA-5L-AAT0-01A\"\n",
       " \"TCGA-A1-A0SD-01A\"\n",
       " \"TCGA-A1-A0SE-01A\"\n",
       " \"TCGA-A1-A0SF-01A\"\n",
       " \"TCGA-A1-A0SG-01A\"\n",
       " \"TCGA-A1-A0SH-01A\"\n",
       " \"TCGA-A1-A0SJ-01A\"\n",
       " \"TCGA-A1-A0SQ-01A\"\n",
       " \"TCGA-A2-A04N-01A\"\n",
       " ⋮\n",
       " \"TCGA-S3-A6ZH-01A\"\n",
       " \"TCGA-S3-AA11-01A\"\n",
       " \"TCGA-S3-AA12-01A\"\n",
       " \"TCGA-S3-AA14-01A\"\n",
       " \"TCGA-UL-AAZ6-01A\"\n",
       " \"TCGA-V7-A7HQ-01A\"\n",
       " \"TCGA-W8-A86G-01A\"\n",
       " \"TCGA-WT-AB41-01A\"\n",
       " \"TCGA-WT-AB44-01A\"\n",
       " \"TCGA-XX-A899-01A\"\n",
       " \"TCGA-XX-A89A-01A\"\n",
       " \"TCGA-Z7-A8R5-01A\""
      ]
     },
     "execution_count": 19,
     "metadata": {},
     "output_type": "execute_result"
    }
   ],
   "source": [
    "insert!(ech_LumA,1,\"gene_symbol\")"
   ]
  },
  {
   "cell_type": "code",
   "execution_count": 20,
   "id": "cd34edb4-fc20-4434-b471-30a860aa26ab",
   "metadata": {},
   "outputs": [
    {
     "data": {
      "text/html": [
       "<div class=\"data-frame\"><p>1 rows × 1,252 columns (omitted printing of 1246 columns)</p><table class=\"data-frame\"><thead><tr><th></th><th>id_gene</th><th>gene_symbol</th><th>TCGA-3C-AAAU-01A</th><th>TCGA-3C-AALI-01A</th><th>TCGA-3C-AALJ-01A</th><th>TCGA-3C-AALK-01A</th></tr><tr><th></th><th title=\"Int64\">Int64</th><th title=\"String31\">String31</th><th title=\"String15\">String15</th><th title=\"String15\">String15</th><th title=\"String15\">String15</th><th title=\"String15\">String15</th></tr></thead><tbody><tr><th>1</th><td>2146</td><td>EZH2</td><td>2.945926</td><td>3.897899</td><td>3.00558</td><td>2.452727</td></tr></tbody></table></div>"
      ],
      "text/latex": [
       "\\begin{tabular}{r|ccccccc}\n",
       "\t& id\\_gene & gene\\_symbol & TCGA-3C-AAAU-01A & TCGA-3C-AALI-01A & TCGA-3C-AALJ-01A & TCGA-3C-AALK-01A & \\\\\n",
       "\t\\hline\n",
       "\t& Int64 & String31 & String15 & String15 & String15 & String15 & \\\\\n",
       "\t\\hline\n",
       "\t1 & 2146 & EZH2 & 2.945926 & 3.897899 & 3.00558 & 2.452727 & $\\dots$ \\\\\n",
       "\\end{tabular}\n"
      ],
      "text/plain": [
       "\u001b[1m1×1252 DataFrame\u001b[0m\n",
       "\u001b[1m Row \u001b[0m│\u001b[1m id_gene \u001b[0m\u001b[1m gene_symbol \u001b[0m\u001b[1m TCGA-3C-AAAU-01A \u001b[0m\u001b[1m TCGA-3C-AALI-01A \u001b[0m\u001b[1m TCGA-3C-AALJ-\u001b[0m ⋯\n",
       "\u001b[1m     \u001b[0m│\u001b[90m Int64   \u001b[0m\u001b[90m String31    \u001b[0m\u001b[90m String15         \u001b[0m\u001b[90m String15         \u001b[0m\u001b[90m String15     \u001b[0m ⋯\n",
       "─────┼──────────────────────────────────────────────────────────────────────────\n",
       "   1 │    2146  EZH2         2.945926          3.897899          3.00558       ⋯\n",
       "\u001b[36m                                                            1248 columns omitted\u001b[0m"
      ]
     },
     "execution_count": 20,
     "metadata": {},
     "output_type": "execute_result"
    }
   ],
   "source": [
    "dfEchantillon = TCGA_BRCA[:,ech_LumA]\n",
    "TCGA_BRCA[dfEchantillon.gene_symbol .== \"EZH2\",:]"
   ]
  },
  {
   "cell_type": "markdown",
   "id": "edf590ee",
   "metadata": {},
   "source": [
    "## ANALYSE DE SURVIE "
   ]
  },
  {
   "cell_type": "code",
   "execution_count": 21,
   "id": "d8859f7a",
   "metadata": {},
   "outputs": [
    {
     "name": "stderr",
     "output_type": "stream",
     "text": [
      "\u001b[32m\u001b[1m   Resolving\u001b[22m\u001b[39m package versions...\n",
      "\u001b[32m\u001b[1m  No Changes\u001b[22m\u001b[39m to `C:\\Users\\zergu\\.julia\\environments\\v1.9\\Project.toml`\n",
      "\u001b[32m\u001b[1m  No Changes\u001b[22m\u001b[39m to `C:\\Users\\zergu\\.julia\\environments\\v1.9\\Manifest.toml`\n"
     ]
    }
   ],
   "source": [
    "] add Survival"
   ]
  },
  {
   "cell_type": "code",
   "execution_count": 22,
   "id": "a50cee2c",
   "metadata": {},
   "outputs": [],
   "source": [
    "using Survival"
   ]
  },
  {
   "cell_type": "code",
   "execution_count": 23,
   "id": "8d99afd9",
   "metadata": {},
   "outputs": [
    {
     "name": "stdout",
     "output_type": "stream",
     "text": [
      "\u001b[1m1×1252 DataFrame\u001b[0m\n",
      "\u001b[1m Row \u001b[0m│\u001b[1m id_gene \u001b[0m\u001b[1m gene_symbol \u001b[0m\u001b[1m TCGA-3C-AAAU-01A \u001b[0m\u001b[1m TCGA-3C-AALI-01A \u001b[0m\u001b[1m TCGA-3C-AALJ-\u001b[0m ⋯\n",
      "\u001b[1m     \u001b[0m│\u001b[90m Int64   \u001b[0m\u001b[90m String31    \u001b[0m\u001b[90m String15         \u001b[0m\u001b[90m String15         \u001b[0m\u001b[90m String15     \u001b[0m ⋯\n",
      "─────┼──────────────────────────────────────────────────────────────────────────\n",
      "   1 │    2146  EZH2         2.945926          3.897899          3.00558       ⋯\n",
      "\u001b[36m                                                            1248 columns omitted\u001b[0m"
     ]
    }
   ],
   "source": [
    "# Nous avons ici un jeu de données qui donne le niveau d'expression de chaque gène dans différents échantillons\n",
    "show(filter(row -> row.gene_symbol == \"EZH2\", TCGA_BRCA))"
   ]
  },
  {
   "cell_type": "code",
   "execution_count": 24,
   "id": "32dfd8fc",
   "metadata": {},
   "outputs": [
    {
     "ename": "LoadError",
     "evalue": "MethodError: no method matching permutedims(::DataFrame)\n\n\u001b[0mClosest candidates are:\n\u001b[0m  permutedims(::AbstractDataFrame, \u001b[91m::Union{AbstractString, Signed, Symbol, Unsigned}\u001b[39m; makeunique)\n\u001b[0m\u001b[90m   @\u001b[39m \u001b[35mDataFrames\u001b[39m \u001b[90mC:\\Users\\zergu\\.julia\\packages\\DataFrames\\JZ7x5\\src\\abstractdataframe\\\u001b[39m\u001b[90m\u001b[4mreshape.jl:661\u001b[24m\u001b[39m\n\u001b[0m  permutedims(::AbstractDataFrame, \u001b[91m::Union{AbstractString, Signed, Symbol, Unsigned}\u001b[39m, \u001b[91m::Union{AbstractString, Symbol}\u001b[39m; makeunique)\n\u001b[0m\u001b[90m   @\u001b[39m \u001b[35mDataFrames\u001b[39m \u001b[90mC:\\Users\\zergu\\.julia\\packages\\DataFrames\\JZ7x5\\src\\abstractdataframe\\\u001b[39m\u001b[90m\u001b[4mreshape.jl:638\u001b[24m\u001b[39m\n\u001b[0m  permutedims(\u001b[91m::StridedArray\u001b[39m, \u001b[91m::Any\u001b[39m)\n\u001b[0m\u001b[90m   @\u001b[39m \u001b[90mBase\u001b[39m \u001b[90m\u001b[4mmultidimensional.jl:1544\u001b[24m\u001b[39m\n\u001b[0m  ...\n",
     "output_type": "error",
     "traceback": [
      "MethodError: no method matching permutedims(::DataFrame)\n\n\u001b[0mClosest candidates are:\n\u001b[0m  permutedims(::AbstractDataFrame, \u001b[91m::Union{AbstractString, Signed, Symbol, Unsigned}\u001b[39m; makeunique)\n\u001b[0m\u001b[90m   @\u001b[39m \u001b[35mDataFrames\u001b[39m \u001b[90mC:\\Users\\zergu\\.julia\\packages\\DataFrames\\JZ7x5\\src\\abstractdataframe\\\u001b[39m\u001b[90m\u001b[4mreshape.jl:661\u001b[24m\u001b[39m\n\u001b[0m  permutedims(::AbstractDataFrame, \u001b[91m::Union{AbstractString, Signed, Symbol, Unsigned}\u001b[39m, \u001b[91m::Union{AbstractString, Symbol}\u001b[39m; makeunique)\n\u001b[0m\u001b[90m   @\u001b[39m \u001b[35mDataFrames\u001b[39m \u001b[90mC:\\Users\\zergu\\.julia\\packages\\DataFrames\\JZ7x5\\src\\abstractdataframe\\\u001b[39m\u001b[90m\u001b[4mreshape.jl:638\u001b[24m\u001b[39m\n\u001b[0m  permutedims(\u001b[91m::StridedArray\u001b[39m, \u001b[91m::Any\u001b[39m)\n\u001b[0m\u001b[90m   @\u001b[39m \u001b[90mBase\u001b[39m \u001b[90m\u001b[4mmultidimensional.jl:1544\u001b[24m\u001b[39m\n\u001b[0m  ...\n",
      "",
      "Stacktrace:",
      " [1] top-level scope",
      "   @ In[24]:2"
     ]
    }
   ],
   "source": [
    "t = E_MTAB_365[E_MTAB_365.gene_symbol .== \"EZH2\", Cols(r\"CIT_DSOA\")]\n",
    "t = permutedims(t)"
   ]
  },
  {
   "cell_type": "code",
   "execution_count": 25,
   "id": "b8690bf2",
   "metadata": {},
   "outputs": [
    {
     "data": {
      "text/html": [
       "<div class=\"data-frame\"><p>537 rows × 17 columns (omitted printing of 10 columns)</p><table class=\"data-frame\"><thead><tr><th></th><th>Sample</th><th>Dataset</th><th>Non-tumour</th><th>All-tumours</th><th>Luminal-A</th><th>Luminal-B</th><th>HER2-enriched</th></tr><tr><th></th><th title=\"String31\">String31</th><th title=\"String31\">String31</th><th title=\"Int64\">Int64</th><th title=\"Int64\">Int64</th><th title=\"Int64\">Int64</th><th title=\"Int64\">Int64</th><th title=\"Int64\">Int64</th></tr></thead><tbody><tr><th>1</th><td>CIT_DSOA_001</td><td>E-MTAB-365</td><td>0</td><td>1</td><td>0</td><td>0</td><td>0</td></tr><tr><th>2</th><td>CIT_DSOA_002</td><td>E-MTAB-365</td><td>0</td><td>1</td><td>0</td><td>0</td><td>1</td></tr><tr><th>3</th><td>CIT_DSOA_003</td><td>E-MTAB-365</td><td>0</td><td>1</td><td>0</td><td>0</td><td>1</td></tr><tr><th>4</th><td>CIT_DSOA_004</td><td>E-MTAB-365</td><td>0</td><td>1</td><td>0</td><td>0</td><td>0</td></tr><tr><th>5</th><td>CIT_DSOA_005</td><td>E-MTAB-365</td><td>0</td><td>1</td><td>0</td><td>0</td><td>0</td></tr><tr><th>6</th><td>CIT_DSOA_006</td><td>E-MTAB-365</td><td>0</td><td>1</td><td>0</td><td>1</td><td>0</td></tr><tr><th>7</th><td>CIT_DSOA_007</td><td>E-MTAB-365</td><td>0</td><td>1</td><td>0</td><td>0</td><td>0</td></tr><tr><th>8</th><td>CIT_DSOA_008</td><td>E-MTAB-365</td><td>0</td><td>1</td><td>0</td><td>0</td><td>0</td></tr><tr><th>9</th><td>CIT_DSOA_009</td><td>E-MTAB-365</td><td>0</td><td>1</td><td>0</td><td>0</td><td>0</td></tr><tr><th>10</th><td>CIT_DSOA_010</td><td>E-MTAB-365</td><td>0</td><td>1</td><td>1</td><td>0</td><td>0</td></tr><tr><th>11</th><td>CIT_DSOA_011</td><td>E-MTAB-365</td><td>0</td><td>1</td><td>1</td><td>0</td><td>0</td></tr><tr><th>12</th><td>CIT_DSOA_012</td><td>E-MTAB-365</td><td>0</td><td>1</td><td>0</td><td>0</td><td>0</td></tr><tr><th>13</th><td>CIT_DSOA_013</td><td>E-MTAB-365</td><td>0</td><td>1</td><td>0</td><td>0</td><td>1</td></tr><tr><th>14</th><td>CIT_DSOA_014</td><td>E-MTAB-365</td><td>0</td><td>1</td><td>0</td><td>0</td><td>0</td></tr><tr><th>15</th><td>CIT_DSOA_015</td><td>E-MTAB-365</td><td>0</td><td>1</td><td>1</td><td>0</td><td>0</td></tr><tr><th>16</th><td>CIT_DSOA_016</td><td>E-MTAB-365</td><td>0</td><td>1</td><td>0</td><td>0</td><td>0</td></tr><tr><th>17</th><td>CIT_DSOA_017</td><td>E-MTAB-365</td><td>0</td><td>1</td><td>0</td><td>0</td><td>0</td></tr><tr><th>18</th><td>CIT_DSOA_018</td><td>E-MTAB-365</td><td>0</td><td>1</td><td>0</td><td>0</td><td>0</td></tr><tr><th>19</th><td>CIT_DSOA_019</td><td>E-MTAB-365</td><td>0</td><td>1</td><td>0</td><td>0</td><td>1</td></tr><tr><th>20</th><td>CIT_DSOA_020</td><td>E-MTAB-365</td><td>0</td><td>1</td><td>0</td><td>0</td><td>0</td></tr><tr><th>21</th><td>CIT_DSOA_021</td><td>E-MTAB-365</td><td>0</td><td>1</td><td>0</td><td>0</td><td>1</td></tr><tr><th>22</th><td>CIT_DSOA_022</td><td>E-MTAB-365</td><td>0</td><td>1</td><td>1</td><td>0</td><td>0</td></tr><tr><th>23</th><td>CIT_DSOA_023</td><td>E-MTAB-365</td><td>0</td><td>1</td><td>0</td><td>0</td><td>0</td></tr><tr><th>24</th><td>CIT_DSOA_024</td><td>E-MTAB-365</td><td>0</td><td>1</td><td>0</td><td>0</td><td>1</td></tr><tr><th>25</th><td>CIT_DSOA_025</td><td>E-MTAB-365</td><td>0</td><td>1</td><td>0</td><td>0</td><td>0</td></tr><tr><th>26</th><td>CIT_DSOA_026</td><td>E-MTAB-365</td><td>0</td><td>1</td><td>0</td><td>0</td><td>1</td></tr><tr><th>27</th><td>CIT_DSOA_027</td><td>E-MTAB-365</td><td>0</td><td>1</td><td>0</td><td>0</td><td>0</td></tr><tr><th>28</th><td>CIT_DSOA_028</td><td>E-MTAB-365</td><td>0</td><td>1</td><td>0</td><td>0</td><td>0</td></tr><tr><th>29</th><td>CIT_DSOA_029</td><td>E-MTAB-365</td><td>0</td><td>1</td><td>0</td><td>0</td><td>0</td></tr><tr><th>30</th><td>CIT_DSOA_030</td><td>E-MTAB-365</td><td>0</td><td>1</td><td>0</td><td>1</td><td>0</td></tr><tr><th>&vellip;</th><td>&vellip;</td><td>&vellip;</td><td>&vellip;</td><td>&vellip;</td><td>&vellip;</td><td>&vellip;</td><td>&vellip;</td></tr></tbody></table></div>"
      ],
      "text/latex": [
       "\\begin{tabular}{r|cccccccc}\n",
       "\t& Sample & Dataset & Non-tumour & All-tumours & Luminal-A & Luminal-B & HER2-enriched & \\\\\n",
       "\t\\hline\n",
       "\t& String31 & String31 & Int64 & Int64 & Int64 & Int64 & Int64 & \\\\\n",
       "\t\\hline\n",
       "\t1 & CIT\\_DSOA\\_001 & E-MTAB-365 & 0 & 1 & 0 & 0 & 0 & $\\dots$ \\\\\n",
       "\t2 & CIT\\_DSOA\\_002 & E-MTAB-365 & 0 & 1 & 0 & 0 & 1 & $\\dots$ \\\\\n",
       "\t3 & CIT\\_DSOA\\_003 & E-MTAB-365 & 0 & 1 & 0 & 0 & 1 & $\\dots$ \\\\\n",
       "\t4 & CIT\\_DSOA\\_004 & E-MTAB-365 & 0 & 1 & 0 & 0 & 0 & $\\dots$ \\\\\n",
       "\t5 & CIT\\_DSOA\\_005 & E-MTAB-365 & 0 & 1 & 0 & 0 & 0 & $\\dots$ \\\\\n",
       "\t6 & CIT\\_DSOA\\_006 & E-MTAB-365 & 0 & 1 & 0 & 1 & 0 & $\\dots$ \\\\\n",
       "\t7 & CIT\\_DSOA\\_007 & E-MTAB-365 & 0 & 1 & 0 & 0 & 0 & $\\dots$ \\\\\n",
       "\t8 & CIT\\_DSOA\\_008 & E-MTAB-365 & 0 & 1 & 0 & 0 & 0 & $\\dots$ \\\\\n",
       "\t9 & CIT\\_DSOA\\_009 & E-MTAB-365 & 0 & 1 & 0 & 0 & 0 & $\\dots$ \\\\\n",
       "\t10 & CIT\\_DSOA\\_010 & E-MTAB-365 & 0 & 1 & 1 & 0 & 0 & $\\dots$ \\\\\n",
       "\t11 & CIT\\_DSOA\\_011 & E-MTAB-365 & 0 & 1 & 1 & 0 & 0 & $\\dots$ \\\\\n",
       "\t12 & CIT\\_DSOA\\_012 & E-MTAB-365 & 0 & 1 & 0 & 0 & 0 & $\\dots$ \\\\\n",
       "\t13 & CIT\\_DSOA\\_013 & E-MTAB-365 & 0 & 1 & 0 & 0 & 1 & $\\dots$ \\\\\n",
       "\t14 & CIT\\_DSOA\\_014 & E-MTAB-365 & 0 & 1 & 0 & 0 & 0 & $\\dots$ \\\\\n",
       "\t15 & CIT\\_DSOA\\_015 & E-MTAB-365 & 0 & 1 & 1 & 0 & 0 & $\\dots$ \\\\\n",
       "\t16 & CIT\\_DSOA\\_016 & E-MTAB-365 & 0 & 1 & 0 & 0 & 0 & $\\dots$ \\\\\n",
       "\t17 & CIT\\_DSOA\\_017 & E-MTAB-365 & 0 & 1 & 0 & 0 & 0 & $\\dots$ \\\\\n",
       "\t18 & CIT\\_DSOA\\_018 & E-MTAB-365 & 0 & 1 & 0 & 0 & 0 & $\\dots$ \\\\\n",
       "\t19 & CIT\\_DSOA\\_019 & E-MTAB-365 & 0 & 1 & 0 & 0 & 1 & $\\dots$ \\\\\n",
       "\t20 & CIT\\_DSOA\\_020 & E-MTAB-365 & 0 & 1 & 0 & 0 & 0 & $\\dots$ \\\\\n",
       "\t21 & CIT\\_DSOA\\_021 & E-MTAB-365 & 0 & 1 & 0 & 0 & 1 & $\\dots$ \\\\\n",
       "\t22 & CIT\\_DSOA\\_022 & E-MTAB-365 & 0 & 1 & 1 & 0 & 0 & $\\dots$ \\\\\n",
       "\t23 & CIT\\_DSOA\\_023 & E-MTAB-365 & 0 & 1 & 0 & 0 & 0 & $\\dots$ \\\\\n",
       "\t24 & CIT\\_DSOA\\_024 & E-MTAB-365 & 0 & 1 & 0 & 0 & 1 & $\\dots$ \\\\\n",
       "\t25 & CIT\\_DSOA\\_025 & E-MTAB-365 & 0 & 1 & 0 & 0 & 0 & $\\dots$ \\\\\n",
       "\t26 & CIT\\_DSOA\\_026 & E-MTAB-365 & 0 & 1 & 0 & 0 & 1 & $\\dots$ \\\\\n",
       "\t27 & CIT\\_DSOA\\_027 & E-MTAB-365 & 0 & 1 & 0 & 0 & 0 & $\\dots$ \\\\\n",
       "\t28 & CIT\\_DSOA\\_028 & E-MTAB-365 & 0 & 1 & 0 & 0 & 0 & $\\dots$ \\\\\n",
       "\t29 & CIT\\_DSOA\\_029 & E-MTAB-365 & 0 & 1 & 0 & 0 & 0 & $\\dots$ \\\\\n",
       "\t30 & CIT\\_DSOA\\_030 & E-MTAB-365 & 0 & 1 & 0 & 1 & 0 & $\\dots$ \\\\\n",
       "\t$\\dots$ & $\\dots$ & $\\dots$ & $\\dots$ & $\\dots$ & $\\dots$ & $\\dots$ & $\\dots$ &  \\\\\n",
       "\\end{tabular}\n"
      ],
      "text/plain": [
       "\u001b[1m537×17 DataFrame\u001b[0m\n",
       "\u001b[1m Row \u001b[0m│\u001b[1m Sample       \u001b[0m\u001b[1m Dataset    \u001b[0m\u001b[1m Non-tumour \u001b[0m\u001b[1m All-tumours \u001b[0m\u001b[1m Luminal-A \u001b[0m\u001b[1m Luminal-B\u001b[0m ⋯\n",
       "\u001b[1m     \u001b[0m│\u001b[90m String31     \u001b[0m\u001b[90m String31   \u001b[0m\u001b[90m Int64      \u001b[0m\u001b[90m Int64       \u001b[0m\u001b[90m Int64     \u001b[0m\u001b[90m Int64    \u001b[0m ⋯\n",
       "─────┼──────────────────────────────────────────────────────────────────────────\n",
       "   1 │ CIT_DSOA_001  E-MTAB-365           0            1          0          0 ⋯\n",
       "   2 │ CIT_DSOA_002  E-MTAB-365           0            1          0          0\n",
       "   3 │ CIT_DSOA_003  E-MTAB-365           0            1          0          0\n",
       "   4 │ CIT_DSOA_004  E-MTAB-365           0            1          0          0\n",
       "   5 │ CIT_DSOA_005  E-MTAB-365           0            1          0          0 ⋯\n",
       "   6 │ CIT_DSOA_006  E-MTAB-365           0            1          0          1\n",
       "   7 │ CIT_DSOA_007  E-MTAB-365           0            1          0          0\n",
       "   8 │ CIT_DSOA_008  E-MTAB-365           0            1          0          0\n",
       "   9 │ CIT_DSOA_009  E-MTAB-365           0            1          0          0 ⋯\n",
       "  10 │ CIT_DSOA_010  E-MTAB-365           0            1          1          0\n",
       "  11 │ CIT_DSOA_011  E-MTAB-365           0            1          1          0\n",
       "  ⋮  │      ⋮            ⋮           ⋮            ⋮           ⋮          ⋮     ⋱\n",
       " 528 │ CIT_DSOA_528  E-MTAB-365           0            1          1          0\n",
       " 529 │ CIT_DSOA_529  E-MTAB-365           0            1          0          1 ⋯\n",
       " 530 │ CIT_DSOA_530  E-MTAB-365           0            1          0          1\n",
       " 531 │ CIT_DSOA_531  E-MTAB-365           0            1          0          1\n",
       " 532 │ CIT_DSOA_532  E-MTAB-365           0            1          0          1\n",
       " 533 │ CIT_DSOA_533  E-MTAB-365           0            1          1          0 ⋯\n",
       " 534 │ CIT_DSOA_534  E-MTAB-365           0            1          1          0\n",
       " 535 │ CIT_DSOA_535  E-MTAB-365           0            1          0          1\n",
       " 536 │ CIT_DSOA_536  E-MTAB-365           0            1          1          0\n",
       " 537 │ CIT_DSOA_537  E-MTAB-365           0            1          0          1 ⋯\n",
       "\u001b[36m                                                 11 columns and 516 rows omitted\u001b[0m"
      ]
     },
     "execution_count": 25,
     "metadata": {},
     "output_type": "execute_result"
    }
   ],
   "source": [
    "tt = filter(row -> row.Dataset == \"E-MTAB-365\", cancer)"
   ]
  },
  {
   "cell_type": "code",
   "execution_count": 26,
   "id": "539bbc6a",
   "metadata": {
    "scrolled": true
   },
   "outputs": [
    {
     "ename": "LoadError",
     "evalue": "ArgumentError: New columns must have the same length as old columns",
     "output_type": "error",
     "traceback": [
      "ArgumentError: New columns must have the same length as old columns",
      "",
      "Stacktrace:",
      " [1] insert_single_column!(df::DataFrame, v::Vector{String31}, col_ind::Symbol)",
      "   @ DataFrames C:\\Users\\zergu\\.julia\\packages\\DataFrames\\JZ7x5\\src\\dataframe\\dataframe.jl:610",
      " [2] setindex!(df::DataFrame, v::Vector{String31}, #unused#::typeof(!), col_ind::Symbol)",
      "   @ DataFrames C:\\Users\\zergu\\.julia\\packages\\DataFrames\\JZ7x5\\src\\dataframe\\dataframe.jl:640",
      " [3] hcat!(df1::DataFrame, df2::DataFrame; makeunique::Bool, copycols::Bool)",
      "   @ DataFrames C:\\Users\\zergu\\.julia\\packages\\DataFrames\\JZ7x5\\src\\dataframe\\dataframe.jl:1104",
      " [4] hcat!",
      "   @ C:\\Users\\zergu\\.julia\\packages\\DataFrames\\JZ7x5\\src\\dataframe\\dataframe.jl:1100 [inlined]",
      " [5] #hcat#127",
      "   @ C:\\Users\\zergu\\.julia\\packages\\DataFrames\\JZ7x5\\src\\abstractdataframe\\abstractdataframe.jl:1516 [inlined]",
      " [6] hcat(df1::DataFrame, df2::DataFrame)",
      "   @ DataFrames C:\\Users\\zergu\\.julia\\packages\\DataFrames\\JZ7x5\\src\\abstractdataframe\\abstractdataframe.jl:1516",
      " [7] top-level scope",
      "   @ In[26]:1"
     ]
    }
   ],
   "source": [
    "EZH2 = hcat(t,tt)"
   ]
  },
  {
   "cell_type": "code",
   "execution_count": 27,
   "id": "e4d78b09",
   "metadata": {
    "scrolled": true
   },
   "outputs": [
    {
     "ename": "LoadError",
     "evalue": "UndefVarError: `EZH2` not defined",
     "output_type": "error",
     "traceback": [
      "UndefVarError: `EZH2` not defined",
      "",
      "Stacktrace:",
      " [1] top-level scope",
      "   @ In[27]:2"
     ]
    }
   ],
   "source": [
    "# On peut ensuite conserver uniquement les tumeurs\n",
    "EZH2 = filter(row -> row.\"All-tumours\" == 1, EZH2)\n",
    "# Il s'avère qu'ici elles sont déja toutes tumerèreuses. "
   ]
  },
  {
   "cell_type": "code",
   "execution_count": 56,
   "id": "6edfbb20",
   "metadata": {},
   "outputs": [
    {
     "data": {
      "text/html": [
       "<div class=\"data-frame\"><p>3 rows × 49 columns (omitted printing of 42 columns)</p><table class=\"data-frame\"><thead><tr><th></th><th>id_sample</th><th>main_gse_number</th><th>id_platform</th><th>sample_title</th><th>sample_source</th><th>sex</th><th>ethnic_group</th></tr><tr><th></th><th title=\"Any\">Any</th><th title=\"Any\">Any</th><th title=\"Any\">Any</th><th title=\"Any\">Any</th><th title=\"Any\">Any</th><th title=\"Any\">Any</th><th title=\"Any\">Any</th></tr></thead><tbody><tr><th>1</th><td>CIT_DSCGH_001</td><td>E-MTAB-365</td><td>A-MEXP-1914</td><td><em>missing</em></td><td>CIT_DSCGH_001</td><td>F</td><td><em>missing</em></td></tr><tr><th>2</th><td>CIT_DSCGH_002</td><td>E-MTAB-365</td><td>A-MEXP-1914</td><td><em>missing</em></td><td>CIT_DSCGH_002</td><td>F</td><td><em>missing</em></td></tr><tr><th>3</th><td>CIT_DSCGH_003</td><td>E-MTAB-365</td><td>A-MEXP-1914</td><td><em>missing</em></td><td>CIT_DSCGH_003</td><td>F</td><td><em>missing</em></td></tr></tbody></table></div>"
      ],
      "text/latex": [
       "\\begin{tabular}{r|cccccccc}\n",
       "\t& id\\_sample & main\\_gse\\_number & id\\_platform & sample\\_title & sample\\_source & sex & ethnic\\_group & \\\\\n",
       "\t\\hline\n",
       "\t& Any & Any & Any & Any & Any & Any & Any & \\\\\n",
       "\t\\hline\n",
       "\t1 & CIT\\_DSCGH\\_001 & E-MTAB-365 & A-MEXP-1914 & \\emph{missing} & CIT\\_DSCGH\\_001 & F & \\emph{missing} & $\\dots$ \\\\\n",
       "\t2 & CIT\\_DSCGH\\_002 & E-MTAB-365 & A-MEXP-1914 & \\emph{missing} & CIT\\_DSCGH\\_002 & F & \\emph{missing} & $\\dots$ \\\\\n",
       "\t3 & CIT\\_DSCGH\\_003 & E-MTAB-365 & A-MEXP-1914 & \\emph{missing} & CIT\\_DSCGH\\_003 & F & \\emph{missing} & $\\dots$ \\\\\n",
       "\\end{tabular}\n"
      ],
      "text/plain": [
       "\u001b[1m3×49 DataFrame\u001b[0m\n",
       "\u001b[1m Row \u001b[0m│\u001b[1m id_sample     \u001b[0m\u001b[1m main_gse_number \u001b[0m\u001b[1m id_platform \u001b[0m\u001b[1m sample_title \u001b[0m\u001b[1m sample_sourc\u001b[0m ⋯\n",
       "\u001b[1m     \u001b[0m│\u001b[90m Any           \u001b[0m\u001b[90m Any             \u001b[0m\u001b[90m Any         \u001b[0m\u001b[90m Any          \u001b[0m\u001b[90m Any         \u001b[0m ⋯\n",
       "─────┼──────────────────────────────────────────────────────────────────────────\n",
       "   1 │ CIT_DSCGH_001  E-MTAB-365       A-MEXP-1914 \u001b[90m missing      \u001b[0m CIT_DSCGH_00 ⋯\n",
       "   2 │ CIT_DSCGH_002  E-MTAB-365       A-MEXP-1914 \u001b[90m missing      \u001b[0m CIT_DSCGH_00\n",
       "   3 │ CIT_DSCGH_003  E-MTAB-365       A-MEXP-1914 \u001b[90m missing      \u001b[0m CIT_DSCGH_00\n",
       "\u001b[36m                                                              45 columns omitted\u001b[0m"
      ]
     },
     "execution_count": 56,
     "metadata": {},
     "output_type": "execute_result"
    }
   ],
   "source": [
    "first(EMTAB365_EG_1,3)"
   ]
  },
  {
   "cell_type": "code",
   "execution_count": 29,
   "id": "18267c51",
   "metadata": {},
   "outputs": [
    {
     "data": {
      "text/html": [
       "<div class=\"data-frame\"><p>1,190 rows × 4 columns</p><table class=\"data-frame\"><thead><tr><th></th><th>os_months</th><th>os_censor</th><th>dfs_months</th><th>dfs_censor</th></tr><tr><th></th><th title=\"Any\">Any</th><th title=\"Any\">Any</th><th title=\"Any\">Any</th><th title=\"Any\">Any</th></tr></thead><tbody><tr><th>1</th><td><em>missing</em></td><td><em>missing</em></td><td><em>missing</em></td><td><em>missing</em></td></tr><tr><th>2</th><td><em>missing</em></td><td><em>missing</em></td><td><em>missing</em></td><td><em>missing</em></td></tr><tr><th>3</th><td><em>missing</em></td><td><em>missing</em></td><td><em>missing</em></td><td><em>missing</em></td></tr><tr><th>4</th><td><em>missing</em></td><td><em>missing</em></td><td><em>missing</em></td><td><em>missing</em></td></tr><tr><th>5</th><td><em>missing</em></td><td><em>missing</em></td><td><em>missing</em></td><td><em>missing</em></td></tr><tr><th>6</th><td><em>missing</em></td><td><em>missing</em></td><td><em>missing</em></td><td><em>missing</em></td></tr><tr><th>7</th><td><em>missing</em></td><td><em>missing</em></td><td><em>missing</em></td><td><em>missing</em></td></tr><tr><th>8</th><td><em>missing</em></td><td><em>missing</em></td><td><em>missing</em></td><td><em>missing</em></td></tr><tr><th>9</th><td><em>missing</em></td><td><em>missing</em></td><td><em>missing</em></td><td><em>missing</em></td></tr><tr><th>10</th><td><em>missing</em></td><td><em>missing</em></td><td><em>missing</em></td><td><em>missing</em></td></tr><tr><th>11</th><td><em>missing</em></td><td><em>missing</em></td><td><em>missing</em></td><td><em>missing</em></td></tr><tr><th>12</th><td><em>missing</em></td><td><em>missing</em></td><td><em>missing</em></td><td><em>missing</em></td></tr><tr><th>13</th><td><em>missing</em></td><td><em>missing</em></td><td><em>missing</em></td><td><em>missing</em></td></tr><tr><th>14</th><td><em>missing</em></td><td><em>missing</em></td><td><em>missing</em></td><td><em>missing</em></td></tr><tr><th>15</th><td><em>missing</em></td><td><em>missing</em></td><td><em>missing</em></td><td><em>missing</em></td></tr><tr><th>16</th><td><em>missing</em></td><td><em>missing</em></td><td><em>missing</em></td><td><em>missing</em></td></tr><tr><th>17</th><td><em>missing</em></td><td><em>missing</em></td><td><em>missing</em></td><td><em>missing</em></td></tr><tr><th>18</th><td><em>missing</em></td><td><em>missing</em></td><td><em>missing</em></td><td><em>missing</em></td></tr><tr><th>19</th><td><em>missing</em></td><td><em>missing</em></td><td><em>missing</em></td><td><em>missing</em></td></tr><tr><th>20</th><td><em>missing</em></td><td><em>missing</em></td><td><em>missing</em></td><td><em>missing</em></td></tr><tr><th>21</th><td><em>missing</em></td><td><em>missing</em></td><td><em>missing</em></td><td><em>missing</em></td></tr><tr><th>22</th><td><em>missing</em></td><td><em>missing</em></td><td><em>missing</em></td><td><em>missing</em></td></tr><tr><th>23</th><td><em>missing</em></td><td><em>missing</em></td><td><em>missing</em></td><td><em>missing</em></td></tr><tr><th>24</th><td><em>missing</em></td><td><em>missing</em></td><td><em>missing</em></td><td><em>missing</em></td></tr><tr><th>25</th><td><em>missing</em></td><td><em>missing</em></td><td><em>missing</em></td><td><em>missing</em></td></tr><tr><th>26</th><td><em>missing</em></td><td><em>missing</em></td><td><em>missing</em></td><td><em>missing</em></td></tr><tr><th>27</th><td><em>missing</em></td><td><em>missing</em></td><td><em>missing</em></td><td><em>missing</em></td></tr><tr><th>28</th><td><em>missing</em></td><td><em>missing</em></td><td><em>missing</em></td><td><em>missing</em></td></tr><tr><th>29</th><td><em>missing</em></td><td><em>missing</em></td><td><em>missing</em></td><td><em>missing</em></td></tr><tr><th>30</th><td><em>missing</em></td><td><em>missing</em></td><td><em>missing</em></td><td><em>missing</em></td></tr><tr><th>&vellip;</th><td>&vellip;</td><td>&vellip;</td><td>&vellip;</td><td>&vellip;</td></tr></tbody></table></div>"
      ],
      "text/latex": [
       "\\begin{tabular}{r|cccc}\n",
       "\t& os\\_months & os\\_censor & dfs\\_months & dfs\\_censor\\\\\n",
       "\t\\hline\n",
       "\t& Any & Any & Any & Any\\\\\n",
       "\t\\hline\n",
       "\t1 & \\emph{missing} & \\emph{missing} & \\emph{missing} & \\emph{missing} \\\\\n",
       "\t2 & \\emph{missing} & \\emph{missing} & \\emph{missing} & \\emph{missing} \\\\\n",
       "\t3 & \\emph{missing} & \\emph{missing} & \\emph{missing} & \\emph{missing} \\\\\n",
       "\t4 & \\emph{missing} & \\emph{missing} & \\emph{missing} & \\emph{missing} \\\\\n",
       "\t5 & \\emph{missing} & \\emph{missing} & \\emph{missing} & \\emph{missing} \\\\\n",
       "\t6 & \\emph{missing} & \\emph{missing} & \\emph{missing} & \\emph{missing} \\\\\n",
       "\t7 & \\emph{missing} & \\emph{missing} & \\emph{missing} & \\emph{missing} \\\\\n",
       "\t8 & \\emph{missing} & \\emph{missing} & \\emph{missing} & \\emph{missing} \\\\\n",
       "\t9 & \\emph{missing} & \\emph{missing} & \\emph{missing} & \\emph{missing} \\\\\n",
       "\t10 & \\emph{missing} & \\emph{missing} & \\emph{missing} & \\emph{missing} \\\\\n",
       "\t11 & \\emph{missing} & \\emph{missing} & \\emph{missing} & \\emph{missing} \\\\\n",
       "\t12 & \\emph{missing} & \\emph{missing} & \\emph{missing} & \\emph{missing} \\\\\n",
       "\t13 & \\emph{missing} & \\emph{missing} & \\emph{missing} & \\emph{missing} \\\\\n",
       "\t14 & \\emph{missing} & \\emph{missing} & \\emph{missing} & \\emph{missing} \\\\\n",
       "\t15 & \\emph{missing} & \\emph{missing} & \\emph{missing} & \\emph{missing} \\\\\n",
       "\t16 & \\emph{missing} & \\emph{missing} & \\emph{missing} & \\emph{missing} \\\\\n",
       "\t17 & \\emph{missing} & \\emph{missing} & \\emph{missing} & \\emph{missing} \\\\\n",
       "\t18 & \\emph{missing} & \\emph{missing} & \\emph{missing} & \\emph{missing} \\\\\n",
       "\t19 & \\emph{missing} & \\emph{missing} & \\emph{missing} & \\emph{missing} \\\\\n",
       "\t20 & \\emph{missing} & \\emph{missing} & \\emph{missing} & \\emph{missing} \\\\\n",
       "\t21 & \\emph{missing} & \\emph{missing} & \\emph{missing} & \\emph{missing} \\\\\n",
       "\t22 & \\emph{missing} & \\emph{missing} & \\emph{missing} & \\emph{missing} \\\\\n",
       "\t23 & \\emph{missing} & \\emph{missing} & \\emph{missing} & \\emph{missing} \\\\\n",
       "\t24 & \\emph{missing} & \\emph{missing} & \\emph{missing} & \\emph{missing} \\\\\n",
       "\t25 & \\emph{missing} & \\emph{missing} & \\emph{missing} & \\emph{missing} \\\\\n",
       "\t26 & \\emph{missing} & \\emph{missing} & \\emph{missing} & \\emph{missing} \\\\\n",
       "\t27 & \\emph{missing} & \\emph{missing} & \\emph{missing} & \\emph{missing} \\\\\n",
       "\t28 & \\emph{missing} & \\emph{missing} & \\emph{missing} & \\emph{missing} \\\\\n",
       "\t29 & \\emph{missing} & \\emph{missing} & \\emph{missing} & \\emph{missing} \\\\\n",
       "\t30 & \\emph{missing} & \\emph{missing} & \\emph{missing} & \\emph{missing} \\\\\n",
       "\t$\\dots$ & $\\dots$ & $\\dots$ & $\\dots$ & $\\dots$ \\\\\n",
       "\\end{tabular}\n"
      ],
      "text/plain": [
       "\u001b[1m1190×4 DataFrame\u001b[0m\n",
       "\u001b[1m  Row \u001b[0m│\u001b[1m os_months \u001b[0m\u001b[1m os_censor \u001b[0m\u001b[1m dfs_months \u001b[0m\u001b[1m dfs_censor \u001b[0m\n",
       "\u001b[1m      \u001b[0m│\u001b[90m Any       \u001b[0m\u001b[90m Any       \u001b[0m\u001b[90m Any        \u001b[0m\u001b[90m Any        \u001b[0m\n",
       "──────┼──────────────────────────────────────────────\n",
       "    1 │\u001b[90m missing   \u001b[0m\u001b[90m missing   \u001b[0m\u001b[90m missing    \u001b[0m\u001b[90m missing    \u001b[0m\n",
       "    2 │\u001b[90m missing   \u001b[0m\u001b[90m missing   \u001b[0m\u001b[90m missing    \u001b[0m\u001b[90m missing    \u001b[0m\n",
       "    3 │\u001b[90m missing   \u001b[0m\u001b[90m missing   \u001b[0m\u001b[90m missing    \u001b[0m\u001b[90m missing    \u001b[0m\n",
       "    4 │\u001b[90m missing   \u001b[0m\u001b[90m missing   \u001b[0m\u001b[90m missing    \u001b[0m\u001b[90m missing    \u001b[0m\n",
       "    5 │\u001b[90m missing   \u001b[0m\u001b[90m missing   \u001b[0m\u001b[90m missing    \u001b[0m\u001b[90m missing    \u001b[0m\n",
       "    6 │\u001b[90m missing   \u001b[0m\u001b[90m missing   \u001b[0m\u001b[90m missing    \u001b[0m\u001b[90m missing    \u001b[0m\n",
       "    7 │\u001b[90m missing   \u001b[0m\u001b[90m missing   \u001b[0m\u001b[90m missing    \u001b[0m\u001b[90m missing    \u001b[0m\n",
       "    8 │\u001b[90m missing   \u001b[0m\u001b[90m missing   \u001b[0m\u001b[90m missing    \u001b[0m\u001b[90m missing    \u001b[0m\n",
       "    9 │\u001b[90m missing   \u001b[0m\u001b[90m missing   \u001b[0m\u001b[90m missing    \u001b[0m\u001b[90m missing    \u001b[0m\n",
       "   10 │\u001b[90m missing   \u001b[0m\u001b[90m missing   \u001b[0m\u001b[90m missing    \u001b[0m\u001b[90m missing    \u001b[0m\n",
       "   11 │\u001b[90m missing   \u001b[0m\u001b[90m missing   \u001b[0m\u001b[90m missing    \u001b[0m\u001b[90m missing    \u001b[0m\n",
       "  ⋮   │     ⋮          ⋮          ⋮           ⋮\n",
       " 1181 │ 104.0      0.0        104.0       0.0\n",
       " 1182 │ 123.0      0.0        123.0       0.0\n",
       " 1183 │ 165.0      0.0        57.0        1.0\n",
       " 1184 │ 119.0      0.0        119.0       0.0\n",
       " 1185 │ 244.0      1.0        244.0       1.0\n",
       " 1186 │ 260.0      0.0        260.0       0.0\n",
       " 1187 │ 128.0      1.0        128.0       1.0\n",
       " 1188 │ 147.0      0.0        147.0       0.0\n",
       " 1189 │ 126.0      0.0        126.0       0.0\n",
       " 1190 │ 214.0      0.0        214.0       0.0\n",
       "\u001b[36m                                    1169 rows omitted\u001b[0m"
      ]
     },
     "execution_count": 29,
     "metadata": {},
     "output_type": "execute_result"
    }
   ],
   "source": [
    "# C'est dans ce tableau que nous avons les données de survie. \n",
    "# Nous conservons uniquement les colonnes qui nous sont utiles :\n",
    "EMTAB_survie = EMTAB365_EG_1[:,Cols(\"os_months\",\"os_censor\",\"dfs_months\",\"dfs_censor\")]"
   ]
  },
  {
   "cell_type": "code",
   "execution_count": 30,
   "id": "49ac5c8f",
   "metadata": {},
   "outputs": [
    {
     "data": {
      "text/plain": [
       "1190"
      ]
     },
     "execution_count": 30,
     "metadata": {},
     "output_type": "execute_result"
    }
   ],
   "source": [
    "# Avant la suppression des missing values, nous avons 1190 lignes\n",
    "nrow(EMTAB_survie)"
   ]
  },
  {
   "cell_type": "code",
   "execution_count": 31,
   "id": "79415493",
   "metadata": {},
   "outputs": [
    {
     "data": {
      "text/html": [
       "<div class=\"data-frame\"><p>428 rows × 4 columns</p><table class=\"data-frame\"><thead><tr><th></th><th>os_months</th><th>os_censor</th><th>dfs_months</th><th>dfs_censor</th></tr><tr><th></th><th title=\"Any\">Any</th><th title=\"Any\">Any</th><th title=\"Any\">Any</th><th title=\"Any\">Any</th></tr></thead><tbody><tr><th>1</th><td>78.0</td><td>0.0</td><td>78.0</td><td>0.0</td></tr><tr><th>2</th><td>62.0</td><td>0.0</td><td>62.0</td><td>0.0</td></tr><tr><th>3</th><td>110.0</td><td>1.0</td><td>82.0</td><td>1.0</td></tr><tr><th>4</th><td>98.0</td><td>0.0</td><td>98.0</td><td>0.0</td></tr><tr><th>5</th><td>85.0</td><td>0.0</td><td>76.0</td><td>1.0</td></tr><tr><th>6</th><td>104.0</td><td>0.0</td><td>104.0</td><td>0.0</td></tr><tr><th>7</th><td>75.0</td><td>0.0</td><td>75.0</td><td>0.0</td></tr><tr><th>8</th><td>61.0</td><td>0.0</td><td>61.0</td><td>0.0</td></tr><tr><th>9</th><td>97.0</td><td>0.0</td><td>97.0</td><td>0.0</td></tr><tr><th>10</th><td>62.0</td><td>0.0</td><td>62.0</td><td>0.0</td></tr><tr><th>11</th><td>63.0</td><td>1.0</td><td>48.0</td><td>1.0</td></tr><tr><th>12</th><td>84.0</td><td>0.0</td><td>84.0</td><td>0.0</td></tr><tr><th>13</th><td>58.0</td><td>1.0</td><td>39.0</td><td>1.0</td></tr><tr><th>14</th><td>109.0</td><td>0.0</td><td>109.0</td><td>0.0</td></tr><tr><th>15</th><td>108.0</td><td>0.0</td><td>108.0</td><td>0.0</td></tr><tr><th>16</th><td>96.0</td><td>0.0</td><td>96.0</td><td>0.0</td></tr><tr><th>17</th><td>86.0</td><td>1.0</td><td>80.0</td><td>1.0</td></tr><tr><th>18</th><td>107.0</td><td>0.0</td><td>107.0</td><td>0.0</td></tr><tr><th>19</th><td>99.0</td><td>0.0</td><td>99.0</td><td>0.0</td></tr><tr><th>20</th><td>62.0</td><td>1.0</td><td>24.0</td><td>1.0</td></tr><tr><th>21</th><td>15.0</td><td>1.0</td><td>10.0</td><td>1.0</td></tr><tr><th>22</th><td>98.0</td><td>0.0</td><td>98.0</td><td>0.0</td></tr><tr><th>23</th><td>64.0</td><td>1.0</td><td>60.0</td><td>1.0</td></tr><tr><th>24</th><td>34.0</td><td>1.0</td><td>28.0</td><td>1.0</td></tr><tr><th>25</th><td>88.0</td><td>0.0</td><td>88.0</td><td>0.0</td></tr><tr><th>26</th><td>97.0</td><td>0.0</td><td>13.0</td><td>1.0</td></tr><tr><th>27</th><td>84.0</td><td>0.0</td><td>84.0</td><td>0.0</td></tr><tr><th>28</th><td>69.0</td><td>0.0</td><td>45.0</td><td>1.0</td></tr><tr><th>29</th><td>96.0</td><td>0.0</td><td>96.0</td><td>0.0</td></tr><tr><th>30</th><td>79.0</td><td>0.0</td><td>30.0</td><td>1.0</td></tr><tr><th>&vellip;</th><td>&vellip;</td><td>&vellip;</td><td>&vellip;</td><td>&vellip;</td></tr></tbody></table></div>"
      ],
      "text/latex": [
       "\\begin{tabular}{r|cccc}\n",
       "\t& os\\_months & os\\_censor & dfs\\_months & dfs\\_censor\\\\\n",
       "\t\\hline\n",
       "\t& Any & Any & Any & Any\\\\\n",
       "\t\\hline\n",
       "\t1 & 78.0 & 0.0 & 78.0 & 0.0 \\\\\n",
       "\t2 & 62.0 & 0.0 & 62.0 & 0.0 \\\\\n",
       "\t3 & 110.0 & 1.0 & 82.0 & 1.0 \\\\\n",
       "\t4 & 98.0 & 0.0 & 98.0 & 0.0 \\\\\n",
       "\t5 & 85.0 & 0.0 & 76.0 & 1.0 \\\\\n",
       "\t6 & 104.0 & 0.0 & 104.0 & 0.0 \\\\\n",
       "\t7 & 75.0 & 0.0 & 75.0 & 0.0 \\\\\n",
       "\t8 & 61.0 & 0.0 & 61.0 & 0.0 \\\\\n",
       "\t9 & 97.0 & 0.0 & 97.0 & 0.0 \\\\\n",
       "\t10 & 62.0 & 0.0 & 62.0 & 0.0 \\\\\n",
       "\t11 & 63.0 & 1.0 & 48.0 & 1.0 \\\\\n",
       "\t12 & 84.0 & 0.0 & 84.0 & 0.0 \\\\\n",
       "\t13 & 58.0 & 1.0 & 39.0 & 1.0 \\\\\n",
       "\t14 & 109.0 & 0.0 & 109.0 & 0.0 \\\\\n",
       "\t15 & 108.0 & 0.0 & 108.0 & 0.0 \\\\\n",
       "\t16 & 96.0 & 0.0 & 96.0 & 0.0 \\\\\n",
       "\t17 & 86.0 & 1.0 & 80.0 & 1.0 \\\\\n",
       "\t18 & 107.0 & 0.0 & 107.0 & 0.0 \\\\\n",
       "\t19 & 99.0 & 0.0 & 99.0 & 0.0 \\\\\n",
       "\t20 & 62.0 & 1.0 & 24.0 & 1.0 \\\\\n",
       "\t21 & 15.0 & 1.0 & 10.0 & 1.0 \\\\\n",
       "\t22 & 98.0 & 0.0 & 98.0 & 0.0 \\\\\n",
       "\t23 & 64.0 & 1.0 & 60.0 & 1.0 \\\\\n",
       "\t24 & 34.0 & 1.0 & 28.0 & 1.0 \\\\\n",
       "\t25 & 88.0 & 0.0 & 88.0 & 0.0 \\\\\n",
       "\t26 & 97.0 & 0.0 & 13.0 & 1.0 \\\\\n",
       "\t27 & 84.0 & 0.0 & 84.0 & 0.0 \\\\\n",
       "\t28 & 69.0 & 0.0 & 45.0 & 1.0 \\\\\n",
       "\t29 & 96.0 & 0.0 & 96.0 & 0.0 \\\\\n",
       "\t30 & 79.0 & 0.0 & 30.0 & 1.0 \\\\\n",
       "\t$\\dots$ & $\\dots$ & $\\dots$ & $\\dots$ & $\\dots$ \\\\\n",
       "\\end{tabular}\n"
      ],
      "text/plain": [
       "\u001b[1m428×4 DataFrame\u001b[0m\n",
       "\u001b[1m Row \u001b[0m│\u001b[1m os_months \u001b[0m\u001b[1m os_censor \u001b[0m\u001b[1m dfs_months \u001b[0m\u001b[1m dfs_censor \u001b[0m\n",
       "\u001b[1m     \u001b[0m│\u001b[90m Any       \u001b[0m\u001b[90m Any       \u001b[0m\u001b[90m Any        \u001b[0m\u001b[90m Any        \u001b[0m\n",
       "─────┼──────────────────────────────────────────────\n",
       "   1 │ 78.0       0.0        78.0        0.0\n",
       "   2 │ 62.0       0.0        62.0        0.0\n",
       "   3 │ 110.0      1.0        82.0        1.0\n",
       "   4 │ 98.0       0.0        98.0        0.0\n",
       "   5 │ 85.0       0.0        76.0        1.0\n",
       "   6 │ 104.0      0.0        104.0       0.0\n",
       "   7 │ 75.0       0.0        75.0        0.0\n",
       "   8 │ 61.0       0.0        61.0        0.0\n",
       "   9 │ 97.0       0.0        97.0        0.0\n",
       "  10 │ 62.0       0.0        62.0        0.0\n",
       "  11 │ 63.0       1.0        48.0        1.0\n",
       "  ⋮  │     ⋮          ⋮          ⋮           ⋮\n",
       " 419 │ 104.0      0.0        104.0       0.0\n",
       " 420 │ 123.0      0.0        123.0       0.0\n",
       " 421 │ 165.0      0.0        57.0        1.0\n",
       " 422 │ 119.0      0.0        119.0       0.0\n",
       " 423 │ 244.0      1.0        244.0       1.0\n",
       " 424 │ 260.0      0.0        260.0       0.0\n",
       " 425 │ 128.0      1.0        128.0       1.0\n",
       " 426 │ 147.0      0.0        147.0       0.0\n",
       " 427 │ 126.0      0.0        126.0       0.0\n",
       " 428 │ 214.0      0.0        214.0       0.0\n",
       "\u001b[36m                                    407 rows omitted\u001b[0m"
      ]
     },
     "execution_count": 31,
     "metadata": {},
     "output_type": "execute_result"
    }
   ],
   "source": [
    "EMTAB_survie = dropmissing(EMTAB_survie)"
   ]
  },
  {
   "cell_type": "code",
   "execution_count": 32,
   "id": "2e528a73",
   "metadata": {},
   "outputs": [
    {
     "data": {
      "text/plain": [
       "428-element Vector{Bool}:\n",
       " 0\n",
       " 0\n",
       " 1\n",
       " 0\n",
       " 1\n",
       " 0\n",
       " 0\n",
       " 0\n",
       " 0\n",
       " 0\n",
       " 1\n",
       " 0\n",
       " 1\n",
       " ⋮\n",
       " 0\n",
       " 0\n",
       " 0\n",
       " 0\n",
       " 1\n",
       " 0\n",
       " 1\n",
       " 0\n",
       " 1\n",
       " 0\n",
       " 0\n",
       " 0"
      ]
     },
     "execution_count": 32,
     "metadata": {},
     "output_type": "execute_result"
    }
   ],
   "source": [
    "EMTAB_survie.os_months = parse.(Float64, EMTAB_survie.os_months)\n",
    "EMTAB_survie.os_censor = map(x -> x == \"1.0\" ? true : false, EMTAB_survie.os_censor)\n",
    "EMTAB_survie.dfs_months = parse.(Float64, EMTAB_survie.dfs_months)\n",
    "EMTAB_survie.dfs_censor = map(x -> x == \"1.0\" ? true : false, EMTAB_survie.dfs_censor)"
   ]
  },
  {
   "cell_type": "code",
   "execution_count": 33,
   "id": "74673f56",
   "metadata": {},
   "outputs": [
    {
     "ename": "LoadError",
     "evalue": "ArgumentError: Package StatsBase not found in current path.\n- Run `import Pkg; Pkg.add(\"StatsBase\")` to install the StatsBase package.",
     "output_type": "error",
     "traceback": [
      "ArgumentError: Package StatsBase not found in current path.\n- Run `import Pkg; Pkg.add(\"StatsBase\")` to install the StatsBase package.",
      "",
      "Stacktrace:",
      " [1] macro expansion",
      "   @ .\\loading.jl:1630 [inlined]",
      " [2] macro expansion",
      "   @ .\\lock.jl:267 [inlined]",
      " [3] require(into::Module, mod::Symbol)",
      "   @ Base .\\loading.jl:1611"
     ]
    }
   ],
   "source": [
    "using StatsBase"
   ]
  },
  {
   "cell_type": "code",
   "execution_count": 34,
   "id": "bfa741e2",
   "metadata": {},
   "outputs": [
    {
     "name": "stderr",
     "output_type": "stream",
     "text": [
      "\u001b[32m\u001b[1m   Resolving\u001b[22m\u001b[39m package versions...\n",
      "\u001b[32m\u001b[1m  No Changes\u001b[22m\u001b[39m to `C:\\Users\\zergu\\.julia\\environments\\v1.9\\Project.toml`\n",
      "\u001b[32m\u001b[1m  No Changes\u001b[22m\u001b[39m to `C:\\Users\\zergu\\.julia\\environments\\v1.9\\Manifest.toml`\n"
     ]
    }
   ],
   "source": [
    "] add SurvivalAnalysis"
   ]
  },
  {
   "cell_type": "markdown",
   "id": "02112e1a",
   "metadata": {},
   "source": [
    "Avec Survival.jl"
   ]
  },
  {
   "cell_type": "code",
   "execution_count": 35,
   "id": "7fcd61d5",
   "metadata": {
    "scrolled": true
   },
   "outputs": [],
   "source": [
    "# Calculez la fonction de survie de Kaplan-Meier\n",
    "# km = KaplanMeier(EMTAB_survie[!,:os_months], EMTAB_survie[!,:os_censor])"
   ]
  },
  {
   "cell_type": "markdown",
   "id": "8fa0b76f",
   "metadata": {},
   "source": [
    "Avec SurvivalAnalysis.jl"
   ]
  },
  {
   "cell_type": "code",
   "execution_count": 36,
   "id": "4609b587",
   "metadata": {},
   "outputs": [
    {
     "name": "stderr",
     "output_type": "stream",
     "text": [
      "\u001b[32m\u001b[1m   Resolving\u001b[22m\u001b[39m package versions...\n",
      "\u001b[32m\u001b[1m  No Changes\u001b[22m\u001b[39m to `C:\\Users\\zergu\\.julia\\environments\\v1.9\\Project.toml`\n",
      "\u001b[32m\u001b[1m  No Changes\u001b[22m\u001b[39m to `C:\\Users\\zergu\\.julia\\environments\\v1.9\\Manifest.toml`\n"
     ]
    }
   ],
   "source": [
    "] add StatsModels"
   ]
  },
  {
   "cell_type": "code",
   "execution_count": 37,
   "id": "2620ab82",
   "metadata": {},
   "outputs": [
    {
     "name": "stderr",
     "output_type": "stream",
     "text": [
      "\u001b[32m\u001b[1m   Resolving\u001b[22m\u001b[39m package versions...\n",
      "\u001b[32m\u001b[1m  No Changes\u001b[22m\u001b[39m to `C:\\Users\\zergu\\.julia\\environments\\v1.9\\Project.toml`\n",
      "\u001b[32m\u001b[1m  No Changes\u001b[22m\u001b[39m to `C:\\Users\\zergu\\.julia\\environments\\v1.9\\Manifest.toml`\n"
     ]
    }
   ],
   "source": [
    "] add GLM"
   ]
  },
  {
   "cell_type": "code",
   "execution_count": 38,
   "id": "59b8c868",
   "metadata": {},
   "outputs": [],
   "source": [
    "using StatsModels\n",
    "using GLM\n",
    "using SurvivalAnalysis\n",
    "using Plots"
   ]
  },
  {
   "cell_type": "markdown",
   "id": "d568bfc8",
   "metadata": {},
   "source": [
    "1 - Fonction + Equation "
   ]
  },
  {
   "cell_type": "code",
   "execution_count": 42,
   "id": "8ae67d2f",
   "metadata": {},
   "outputs": [
    {
     "data": {
      "text/plain": [
       "StatsModels.TableStatisticalModel{SurvivalAnalysis.KaplanMeier, Matrix{Float64}}\n",
       "\n",
       "(os_months,os_censor;+) ~ 1\n",
       "\n",
       "Coefficients:\n",
       "\u001b[1m   n \u001b[0m\u001b[1m ncens \u001b[0m\u001b[1m nevents \u001b[0m\n",
       " 428    334       94\n"
      ]
     },
     "execution_count": 42,
     "metadata": {},
     "output_type": "execute_result"
    }
   ],
   "source": [
    "km = kaplan_meier(@formula(Srv(os_months, os_censor) ~ 1), EMTAB_survie)"
   ]
  },
  {
   "cell_type": "markdown",
   "id": "f50a48b5",
   "metadata": {},
   "source": [
    "2 - Fit + Equation"
   ]
  },
  {
   "cell_type": "code",
   "execution_count": 45,
   "id": "42c6608f",
   "metadata": {},
   "outputs": [
    {
     "data": {
      "text/plain": [
       "StatsModels.TableStatisticalModel{SurvivalAnalysis.KaplanMeier, Matrix{Float64}}\n",
       "\n",
       "(os_months,os_censor;+) ~ 1\n",
       "\n",
       "Coefficients:\n",
       "\u001b[1m   n \u001b[0m\u001b[1m ncens \u001b[0m\u001b[1m nevents \u001b[0m\n",
       " 428    334       94\n"
      ]
     },
     "execution_count": 45,
     "metadata": {},
     "output_type": "execute_result"
    }
   ],
   "source": [
    "# Ajuster les données\n",
    "f = fit(SurvivalAnalysis.KaplanMeier, @formula(Srv(os_months, os_censor) ~ 1), EMTAB_survie)"
   ]
  },
  {
   "cell_type": "markdown",
   "id": "ef2fcdae",
   "metadata": {},
   "source": [
    "3 - Fonction + Données"
   ]
  },
  {
   "cell_type": "code",
   "execution_count": 46,
   "id": "ed523e7b",
   "metadata": {},
   "outputs": [
    {
     "data": {
      "text/plain": [
       "SurvivalAnalysis.KaplanMeier\n",
       "\n",
       "Coefficients:\n",
       "\u001b[1m   n \u001b[0m\u001b[1m ncens \u001b[0m\u001b[1m nevents \u001b[0m\n",
       " 428    334       94\n"
      ]
     },
     "execution_count": 46,
     "metadata": {},
     "output_type": "execute_result"
    }
   ],
   "source": [
    "f = kaplan_meier(hcat(ones(428), 1:428), Surv(EMTAB_survie.os_months, EMTAB_survie.os_censor, :r))"
   ]
  },
  {
   "cell_type": "markdown",
   "id": "0d244681",
   "metadata": {},
   "source": [
    "4 - Fit + Données"
   ]
  },
  {
   "cell_type": "code",
   "execution_count": 47,
   "id": "f0320abb",
   "metadata": {},
   "outputs": [
    {
     "data": {
      "text/plain": [
       "SurvivalAnalysis.KaplanMeier\n",
       "\n",
       "Coefficients:\n",
       "\u001b[1m   n \u001b[0m\u001b[1m ncens \u001b[0m\u001b[1m nevents \u001b[0m\n",
       " 428    334       94\n"
      ]
     },
     "execution_count": 47,
     "metadata": {},
     "output_type": "execute_result"
    }
   ],
   "source": [
    "f = fit(SurvivalAnalysis.KaplanMeier, hcat(ones(428), 1:428), Surv(EMTAB_survie.os_months, EMTAB_survie.os_censor, :right))"
   ]
  },
  {
   "cell_type": "markdown",
   "id": "9038767b",
   "metadata": {},
   "source": [
    "4 - Prédiction"
   ]
  },
  {
   "cell_type": "code",
   "execution_count": null,
   "id": "eef9720c",
   "metadata": {},
   "outputs": [],
   "source": [
    "predict(f, DataFrame(Y = randn(10), D = trues(10)));"
   ]
  },
  {
   "cell_type": "markdown",
   "id": "f9027a56",
   "metadata": {},
   "source": [
    "##### Plotting Survival Analysis"
   ]
  },
  {
   "cell_type": "code",
   "execution_count": 50,
   "id": "92385afc",
   "metadata": {},
   "outputs": [
    {
     "data": {
      "image/png": "[encoded data removed]",
      "image/svg+xml": [
       "<?xml version=\"1.0\" encoding=\"utf-8\"?>\n",
       "<svg xmlns=\"http://www.w3.org/2000/svg\" xmlns:xlink=\"http://www.w3.org/1999/xlink\" width=\"600\" height=\"400\" viewBox=\"0 0 2400 1600\">\n",
       "<defs>\n",
       "  <clipPath id=\"clip410\">\n",
       "    <rect x=\"0\" y=\"0\" width=\"2400\" height=\"1600\"/>\n",
       "  </clipPath>\n",
       "</defs>\n",
       "<path clip-path=\"url(#clip410)\" d=\"M0 1600 L2400 1600 L2400 0 L0 0  Z\" fill=\"#ffffff\" fill-rule=\"evenodd\" fill-opacity=\"1\"/>\n",
       "<defs>\n",
       "  <clipPath id=\"clip411\">\n",
       "    <rect x=\"480\" y=\"0\" width=\"1681\" height=\"1600\"/>\n",
       "  </clipPath>\n",
       "</defs>\n",
       "<path clip-path=\"url(#clip410)\" d=\"M156.598 1486.45 L2352.76 1486.45 L2352.76 47.2441 L156.598 47.2441  Z\" fill=\"#ffffff\" fill-rule=\"evenodd\" fill-opacity=\"1\"/>\n",
       "<defs>\n",
       "  <clipPath id=\"clip412\">\n",
       "    <rect x=\"156\" y=\"47\" width=\"2197\" height=\"1440\"/>\n",
       "  </clipPath>\n",
       "</defs>\n",
       "<polyline clip-path=\"url(#clip412)\" style=\"stroke:#000000; stroke-linecap:round; stroke-linejoin:round; stroke-width:2; stroke-opacity:0.1; fill:none\" points=\"156.598,1486.45 156.598,47.2441 \"/>\n",
       "<polyline clip-path=\"url(#clip412)\" style=\"stroke:#000000; stroke-linecap:round; stroke-linejoin:round; stroke-width:2; stroke-opacity:0.1; fill:none\" points=\"705.638,1486.45 705.638,47.2441 \"/>\n",
       "<polyline clip-path=\"url(#clip412)\" style=\"stroke:#000000; stroke-linecap:round; stroke-linejoin:round; stroke-width:2; stroke-opacity:0.1; fill:none\" points=\"1254.68,1486.45 1254.68,47.2441 \"/>\n",
       "<polyline clip-path=\"url(#clip412)\" style=\"stroke:#000000; stroke-linecap:round; stroke-linejoin:round; stroke-width:2; stroke-opacity:0.1; fill:none\" points=\"1803.72,1486.45 1803.72,47.2441 \"/>\n",
       "<polyline clip-path=\"url(#clip412)\" style=\"stroke:#000000; stroke-linecap:round; stroke-linejoin:round; stroke-width:2; stroke-opacity:0.1; fill:none\" points=\"2352.76,1486.45 2352.76,47.2441 \"/>\n",
       "<polyline clip-path=\"url(#clip410)\" style=\"stroke:#000000; stroke-linecap:round; stroke-linejoin:round; stroke-width:4; stroke-opacity:1; fill:none\" points=\"156.598,1486.45 2352.76,1486.45 \"/>\n",
       "<polyline clip-path=\"url(#clip410)\" style=\"stroke:#000000; stroke-linecap:round; stroke-linejoin:round; stroke-width:4; stroke-opacity:1; fill:none\" points=\"156.598,1486.45 156.598,1467.55 \"/>\n",
       "<polyline clip-path=\"url(#clip410)\" style=\"stroke:#000000; stroke-linecap:round; stroke-linejoin:round; stroke-width:4; stroke-opacity:1; fill:none\" points=\"705.638,1486.45 705.638,1467.55 \"/>\n",
       "<polyline clip-path=\"url(#clip410)\" style=\"stroke:#000000; stroke-linecap:round; stroke-linejoin:round; stroke-width:4; stroke-opacity:1; fill:none\" points=\"1254.68,1486.45 1254.68,1467.55 \"/>\n",
       "<polyline clip-path=\"url(#clip410)\" style=\"stroke:#000000; stroke-linecap:round; stroke-linejoin:round; stroke-width:4; stroke-opacity:1; fill:none\" points=\"1803.72,1486.45 1803.72,1467.55 \"/>\n",
       "<polyline clip-path=\"url(#clip410)\" style=\"stroke:#000000; stroke-linecap:round; stroke-linejoin:round; stroke-width:4; stroke-opacity:1; fill:none\" points=\"2352.76,1486.45 2352.76,1467.55 \"/>\n",
       "<path clip-path=\"url(#clip410)\" d=\"M156.598 1517.37 Q152.987 1517.37 151.158 1520.93 Q149.353 1524.47 149.353 1531.6 Q149.353 1538.71 151.158 1542.27 Q152.987 1545.82 156.598 1545.82 Q160.232 1545.82 162.038 1542.27 Q163.867 1538.71 163.867 1531.6 Q163.867 1524.47 162.038 1520.93 Q160.232 1517.37 156.598 1517.37 M156.598 1513.66 Q162.408 1513.66 165.464 1518.27 Q168.543 1522.85 168.543 1531.6 Q168.543 1540.33 165.464 1544.94 Q162.408 1549.52 156.598 1549.52 Q150.788 1549.52 147.709 1544.94 Q144.654 1540.33 144.654 1531.6 Q144.654 1522.85 147.709 1518.27 Q150.788 1513.66 156.598 1513.66 Z\" fill=\"#000000\" fill-rule=\"nonzero\" fill-opacity=\"1\" /><path clip-path=\"url(#clip410)\" d=\"M684.411 1544.91 L700.73 1544.91 L700.73 1548.85 L678.786 1548.85 L678.786 1544.91 Q681.448 1542.16 686.031 1537.53 Q690.638 1532.88 691.818 1531.53 Q694.064 1529.01 694.943 1527.27 Q695.846 1525.51 695.846 1523.82 Q695.846 1521.07 693.902 1519.33 Q691.98 1517.6 688.878 1517.6 Q686.679 1517.6 684.226 1518.36 Q681.795 1519.13 679.017 1520.68 L679.017 1515.95 Q681.841 1514.82 684.295 1514.24 Q686.749 1513.66 688.786 1513.66 Q694.156 1513.66 697.351 1516.35 Q700.545 1519.03 700.545 1523.52 Q700.545 1525.65 699.735 1527.57 Q698.948 1529.47 696.841 1532.07 Q696.263 1532.74 693.161 1535.95 Q690.059 1539.15 684.411 1544.91 Z\" fill=\"#000000\" fill-rule=\"nonzero\" fill-opacity=\"1\" /><path clip-path=\"url(#clip410)\" d=\"M720.545 1517.37 Q716.934 1517.37 715.105 1520.93 Q713.3 1524.47 713.3 1531.6 Q713.3 1538.71 715.105 1542.27 Q716.934 1545.82 720.545 1545.82 Q724.179 1545.82 725.985 1542.27 Q727.813 1538.71 727.813 1531.6 Q727.813 1524.47 725.985 1520.93 Q724.179 1517.37 720.545 1517.37 M720.545 1513.66 Q726.355 1513.66 729.411 1518.27 Q732.489 1522.85 732.489 1531.6 Q732.489 1540.33 729.411 1544.94 Q726.355 1549.52 720.545 1549.52 Q714.735 1549.52 711.656 1544.94 Q708.601 1540.33 708.601 1531.6 Q708.601 1522.85 711.656 1518.27 Q714.735 1513.66 720.545 1513.66 Z\" fill=\"#000000\" fill-rule=\"nonzero\" fill-opacity=\"1\" /><path clip-path=\"url(#clip410)\" d=\"M1242.85 1518.36 L1231.04 1536.81 L1242.85 1536.81 L1242.85 1518.36 M1241.62 1514.29 L1247.5 1514.29 L1247.5 1536.81 L1252.43 1536.81 L1252.43 1540.7 L1247.5 1540.7 L1247.5 1548.85 L1242.85 1548.85 L1242.85 1540.7 L1227.25 1540.7 L1227.25 1536.19 L1241.62 1514.29 Z\" fill=\"#000000\" fill-rule=\"nonzero\" fill-opacity=\"1\" /><path clip-path=\"url(#clip410)\" d=\"M1270.16 1517.37 Q1266.55 1517.37 1264.72 1520.93 Q1262.92 1524.47 1262.92 1531.6 Q1262.92 1538.71 1264.72 1542.27 Q1266.55 1545.82 1270.16 1545.82 Q1273.8 1545.82 1275.6 1542.27 Q1277.43 1538.71 1277.43 1531.6 Q1277.43 1524.47 1275.6 1520.93 Q1273.8 1517.37 1270.16 1517.37 M1270.16 1513.66 Q1275.97 1513.66 1279.03 1518.27 Q1282.11 1522.85 1282.11 1531.6 Q1282.11 1540.33 1279.03 1544.94 Q1275.97 1549.52 1270.16 1549.52 Q1264.35 1549.52 1261.27 1544.94 Q1258.22 1540.33 1258.22 1531.6 Q1258.22 1522.85 1261.27 1518.27 Q1264.35 1513.66 1270.16 1513.66 Z\" fill=\"#000000\" fill-rule=\"nonzero\" fill-opacity=\"1\" /><path clip-path=\"url(#clip410)\" d=\"M1789.12 1529.7 Q1785.97 1529.7 1784.12 1531.86 Q1782.29 1534.01 1782.29 1537.76 Q1782.29 1541.49 1784.12 1543.66 Q1785.97 1545.82 1789.12 1545.82 Q1792.27 1545.82 1794.1 1543.66 Q1795.95 1541.49 1795.95 1537.76 Q1795.95 1534.01 1794.1 1531.86 Q1792.27 1529.7 1789.12 1529.7 M1798.4 1515.05 L1798.4 1519.31 Q1796.64 1518.48 1794.84 1518.04 Q1793.06 1517.6 1791.3 1517.6 Q1786.67 1517.6 1784.21 1520.72 Q1781.78 1523.85 1781.44 1530.17 Q1782.8 1528.15 1784.86 1527.09 Q1786.92 1526 1789.4 1526 Q1794.61 1526 1797.62 1529.17 Q1800.65 1532.32 1800.65 1537.76 Q1800.65 1543.08 1797.5 1546.3 Q1794.35 1549.52 1789.12 1549.52 Q1783.13 1549.52 1779.96 1544.94 Q1776.78 1540.33 1776.78 1531.6 Q1776.78 1523.41 1780.67 1518.55 Q1784.56 1513.66 1791.11 1513.66 Q1792.87 1513.66 1794.65 1514.01 Q1796.46 1514.36 1798.4 1515.05 Z\" fill=\"#000000\" fill-rule=\"nonzero\" fill-opacity=\"1\" /><path clip-path=\"url(#clip410)\" d=\"M1818.7 1517.37 Q1815.09 1517.37 1813.27 1520.93 Q1811.46 1524.47 1811.46 1531.6 Q1811.46 1538.71 1813.27 1542.27 Q1815.09 1545.82 1818.7 1545.82 Q1822.34 1545.82 1824.14 1542.27 Q1825.97 1538.71 1825.97 1531.6 Q1825.97 1524.47 1824.14 1520.93 Q1822.34 1517.37 1818.7 1517.37 M1818.7 1513.66 Q1824.51 1513.66 1827.57 1518.27 Q1830.65 1522.85 1830.65 1531.6 Q1830.65 1540.33 1827.57 1544.94 Q1824.51 1549.52 1818.7 1549.52 Q1812.89 1549.52 1809.82 1544.94 Q1806.76 1540.33 1806.76 1531.6 Q1806.76 1522.85 1809.82 1518.27 Q1812.89 1513.66 1818.7 1513.66 Z\" fill=\"#000000\" fill-rule=\"nonzero\" fill-opacity=\"1\" /><path clip-path=\"url(#clip410)\" d=\"M2337.63 1532.44 Q2334.3 1532.44 2332.37 1534.22 Q2330.48 1536 2330.48 1539.13 Q2330.48 1542.25 2332.37 1544.03 Q2334.3 1545.82 2337.63 1545.82 Q2340.96 1545.82 2342.88 1544.03 Q2344.8 1542.23 2344.8 1539.13 Q2344.8 1536 2342.88 1534.22 Q2340.99 1532.44 2337.63 1532.44 M2332.95 1530.45 Q2329.94 1529.7 2328.25 1527.64 Q2326.59 1525.58 2326.59 1522.62 Q2326.59 1518.48 2329.53 1516.07 Q2332.49 1513.66 2337.63 1513.66 Q2342.79 1513.66 2345.73 1516.07 Q2348.67 1518.48 2348.67 1522.62 Q2348.67 1525.58 2346.98 1527.64 Q2345.31 1529.7 2342.33 1530.45 Q2345.71 1531.23 2347.58 1533.52 Q2349.48 1535.82 2349.48 1539.13 Q2349.48 1544.15 2346.4 1546.83 Q2343.35 1549.52 2337.63 1549.52 Q2331.91 1549.52 2328.83 1546.83 Q2325.78 1544.15 2325.78 1539.13 Q2325.78 1535.82 2327.68 1533.52 Q2329.57 1531.23 2332.95 1530.45 M2331.24 1523.06 Q2331.24 1525.75 2332.91 1527.25 Q2334.6 1528.76 2337.63 1528.76 Q2340.64 1528.76 2342.33 1527.25 Q2344.04 1525.75 2344.04 1523.06 Q2344.04 1520.38 2342.33 1518.87 Q2340.64 1517.37 2337.63 1517.37 Q2334.6 1517.37 2332.91 1518.87 Q2331.24 1520.38 2331.24 1523.06 Z\" fill=\"#000000\" fill-rule=\"nonzero\" fill-opacity=\"1\" /><path clip-path=\"url(#clip410)\" d=\"M2367.79 1517.37 Q2364.18 1517.37 2362.35 1520.93 Q2360.55 1524.47 2360.55 1531.6 Q2360.55 1538.71 2362.35 1542.27 Q2364.18 1545.82 2367.79 1545.82 Q2371.42 1545.82 2373.23 1542.27 Q2375.06 1538.71 2375.06 1531.6 Q2375.06 1524.47 2373.23 1520.93 Q2371.42 1517.37 2367.79 1517.37 M2367.79 1513.66 Q2373.6 1513.66 2376.66 1518.27 Q2379.73 1522.85 2379.73 1531.6 Q2379.73 1540.33 2376.66 1544.94 Q2373.6 1549.52 2367.79 1549.52 Q2361.98 1549.52 2358.9 1544.94 Q2355.85 1540.33 2355.85 1531.6 Q2355.85 1522.85 2358.9 1518.27 Q2361.98 1513.66 2367.79 1513.66 Z\" fill=\"#000000\" fill-rule=\"nonzero\" fill-opacity=\"1\" /><polyline clip-path=\"url(#clip412)\" style=\"stroke:#000000; stroke-linecap:round; stroke-linejoin:round; stroke-width:2; stroke-opacity:0.1; fill:none\" points=\"156.598,1486.45 2352.76,1486.45 \"/>\n",
       "<polyline clip-path=\"url(#clip412)\" style=\"stroke:#000000; stroke-linecap:round; stroke-linejoin:round; stroke-width:2; stroke-opacity:0.1; fill:none\" points=\"156.598,1198.61 2352.76,1198.61 \"/>\n",
       "<polyline clip-path=\"url(#clip412)\" style=\"stroke:#000000; stroke-linecap:round; stroke-linejoin:round; stroke-width:2; stroke-opacity:0.1; fill:none\" points=\"156.598,910.766 2352.76,910.766 \"/>\n",
       "<polyline clip-path=\"url(#clip412)\" style=\"stroke:#000000; stroke-linecap:round; stroke-linejoin:round; stroke-width:2; stroke-opacity:0.1; fill:none\" points=\"156.598,622.926 2352.76,622.926 \"/>\n",
       "<polyline clip-path=\"url(#clip412)\" style=\"stroke:#000000; stroke-linecap:round; stroke-linejoin:round; stroke-width:2; stroke-opacity:0.1; fill:none\" points=\"156.598,335.085 2352.76,335.085 \"/>\n",
       "<polyline clip-path=\"url(#clip412)\" style=\"stroke:#000000; stroke-linecap:round; stroke-linejoin:round; stroke-width:2; stroke-opacity:0.1; fill:none\" points=\"156.598,47.2441 2352.76,47.2441 \"/>\n",
       "<polyline clip-path=\"url(#clip410)\" style=\"stroke:#000000; stroke-linecap:round; stroke-linejoin:round; stroke-width:4; stroke-opacity:1; fill:none\" points=\"156.598,1486.45 156.598,47.2441 \"/>\n",
       "<polyline clip-path=\"url(#clip410)\" style=\"stroke:#000000; stroke-linecap:round; stroke-linejoin:round; stroke-width:4; stroke-opacity:1; fill:none\" points=\"156.598,1486.45 175.496,1486.45 \"/>\n",
       "<polyline clip-path=\"url(#clip410)\" style=\"stroke:#000000; stroke-linecap:round; stroke-linejoin:round; stroke-width:4; stroke-opacity:1; fill:none\" points=\"156.598,1198.61 175.496,1198.61 \"/>\n",
       "<polyline clip-path=\"url(#clip410)\" style=\"stroke:#000000; stroke-linecap:round; stroke-linejoin:round; stroke-width:4; stroke-opacity:1; fill:none\" points=\"156.598,910.766 175.496,910.766 \"/>\n",
       "<polyline clip-path=\"url(#clip410)\" style=\"stroke:#000000; stroke-linecap:round; stroke-linejoin:round; stroke-width:4; stroke-opacity:1; fill:none\" points=\"156.598,622.926 175.496,622.926 \"/>\n",
       "<polyline clip-path=\"url(#clip410)\" style=\"stroke:#000000; stroke-linecap:round; stroke-linejoin:round; stroke-width:4; stroke-opacity:1; fill:none\" points=\"156.598,335.085 175.496,335.085 \"/>\n",
       "<polyline clip-path=\"url(#clip410)\" style=\"stroke:#000000; stroke-linecap:round; stroke-linejoin:round; stroke-width:4; stroke-opacity:1; fill:none\" points=\"156.598,47.2441 175.496,47.2441 \"/>\n",
       "<path clip-path=\"url(#clip410)\" d=\"M63.4226 1472.25 Q59.8115 1472.25 57.9828 1475.81 Q56.1773 1479.35 56.1773 1486.48 Q56.1773 1493.59 57.9828 1497.15 Q59.8115 1500.7 63.4226 1500.7 Q67.0569 1500.7 68.8624 1497.15 Q70.6911 1493.59 70.6911 1486.48 Q70.6911 1479.35 68.8624 1475.81 Q67.0569 1472.25 63.4226 1472.25 M63.4226 1468.54 Q69.2328 1468.54 72.2883 1473.15 Q75.367 1477.73 75.367 1486.48 Q75.367 1495.21 72.2883 1499.82 Q69.2328 1504.4 63.4226 1504.4 Q57.6125 1504.4 54.5338 1499.82 Q51.4782 1495.21 51.4782 1486.48 Q51.4782 1477.73 54.5338 1473.15 Q57.6125 1468.54 63.4226 1468.54 Z\" fill=\"#000000\" fill-rule=\"nonzero\" fill-opacity=\"1\" /><path clip-path=\"url(#clip410)\" d=\"M83.5845 1497.85 L88.4688 1497.85 L88.4688 1503.73 L83.5845 1503.73 L83.5845 1497.85 Z\" fill=\"#000000\" fill-rule=\"nonzero\" fill-opacity=\"1\" /><path clip-path=\"url(#clip410)\" d=\"M108.654 1472.25 Q105.043 1472.25 103.214 1475.81 Q101.409 1479.35 101.409 1486.48 Q101.409 1493.59 103.214 1497.15 Q105.043 1500.7 108.654 1500.7 Q112.288 1500.7 114.094 1497.15 Q115.922 1493.59 115.922 1486.48 Q115.922 1479.35 114.094 1475.81 Q112.288 1472.25 108.654 1472.25 M108.654 1468.54 Q114.464 1468.54 117.52 1473.15 Q120.598 1477.73 120.598 1486.48 Q120.598 1495.21 117.52 1499.82 Q114.464 1504.4 108.654 1504.4 Q102.844 1504.4 99.765 1499.82 Q96.7095 1495.21 96.7095 1486.48 Q96.7095 1477.73 99.765 1473.15 Q102.844 1468.54 108.654 1468.54 Z\" fill=\"#000000\" fill-rule=\"nonzero\" fill-opacity=\"1\" /><path clip-path=\"url(#clip410)\" d=\"M65.0198 1184.41 Q61.4087 1184.41 59.58 1187.97 Q57.7745 1191.51 57.7745 1198.64 Q57.7745 1205.75 59.58 1209.31 Q61.4087 1212.85 65.0198 1212.85 Q68.6541 1212.85 70.4596 1209.31 Q72.2883 1205.75 72.2883 1198.64 Q72.2883 1191.51 70.4596 1187.97 Q68.6541 1184.41 65.0198 1184.41 M65.0198 1180.7 Q70.83 1180.7 73.8855 1185.31 Q76.9642 1189.89 76.9642 1198.64 Q76.9642 1207.37 73.8855 1211.98 Q70.83 1216.56 65.0198 1216.56 Q59.2097 1216.56 56.131 1211.98 Q53.0754 1207.37 53.0754 1198.64 Q53.0754 1189.89 56.131 1185.31 Q59.2097 1180.7 65.0198 1180.7 Z\" fill=\"#000000\" fill-rule=\"nonzero\" fill-opacity=\"1\" /><path clip-path=\"url(#clip410)\" d=\"M85.1818 1210.01 L90.066 1210.01 L90.066 1215.89 L85.1818 1215.89 L85.1818 1210.01 Z\" fill=\"#000000\" fill-rule=\"nonzero\" fill-opacity=\"1\" /><path clip-path=\"url(#clip410)\" d=\"M104.279 1211.95 L120.598 1211.95 L120.598 1215.89 L98.6539 1215.89 L98.6539 1211.95 Q101.316 1209.2 105.899 1204.57 Q110.506 1199.91 111.686 1198.57 Q113.932 1196.05 114.811 1194.31 Q115.714 1192.55 115.714 1190.86 Q115.714 1188.11 113.77 1186.37 Q111.848 1184.64 108.746 1184.64 Q106.547 1184.64 104.094 1185.4 Q101.663 1186.17 98.8854 1187.72 L98.8854 1182.99 Q101.709 1181.86 104.163 1181.28 Q106.617 1180.7 108.654 1180.7 Q114.024 1180.7 117.219 1183.39 Q120.413 1186.07 120.413 1190.56 Q120.413 1192.69 119.603 1194.61 Q118.816 1196.51 116.709 1199.1 Q116.131 1199.78 113.029 1202.99 Q109.927 1206.19 104.279 1211.95 Z\" fill=\"#000000\" fill-rule=\"nonzero\" fill-opacity=\"1\" /><path clip-path=\"url(#clip410)\" d=\"M62.9365 896.565 Q59.3254 896.565 57.4967 900.13 Q55.6912 903.671 55.6912 910.801 Q55.6912 917.908 57.4967 921.472 Q59.3254 925.014 62.9365 925.014 Q66.5707 925.014 68.3763 921.472 Q70.205 917.908 70.205 910.801 Q70.205 903.671 68.3763 900.13 Q66.5707 896.565 62.9365 896.565 M62.9365 892.861 Q68.7467 892.861 71.8022 897.468 Q74.8809 902.051 74.8809 910.801 Q74.8809 919.528 71.8022 924.134 Q68.7467 928.718 62.9365 928.718 Q57.1264 928.718 54.0477 924.134 Q50.9921 919.528 50.9921 910.801 Q50.9921 902.051 54.0477 897.468 Q57.1264 892.861 62.9365 892.861 Z\" fill=\"#000000\" fill-rule=\"nonzero\" fill-opacity=\"1\" /><path clip-path=\"url(#clip410)\" d=\"M83.0984 922.167 L87.9827 922.167 L87.9827 928.046 L83.0984 928.046 L83.0984 922.167 Z\" fill=\"#000000\" fill-rule=\"nonzero\" fill-opacity=\"1\" /><path clip-path=\"url(#clip410)\" d=\"M111.015 897.56 L99.2095 916.009 L111.015 916.009 L111.015 897.56 M109.788 893.486 L115.668 893.486 L115.668 916.009 L120.598 916.009 L120.598 919.898 L115.668 919.898 L115.668 928.046 L111.015 928.046 L111.015 919.898 L95.4132 919.898 L95.4132 915.384 L109.788 893.486 Z\" fill=\"#000000\" fill-rule=\"nonzero\" fill-opacity=\"1\" /><path clip-path=\"url(#clip410)\" d=\"M63.2606 608.724 Q59.6495 608.724 57.8208 612.289 Q56.0152 615.831 56.0152 622.96 Q56.0152 630.067 57.8208 633.632 Q59.6495 637.173 63.2606 637.173 Q66.8948 637.173 68.7004 633.632 Q70.5291 630.067 70.5291 622.96 Q70.5291 615.831 68.7004 612.289 Q66.8948 608.724 63.2606 608.724 M63.2606 605.021 Q69.0707 605.021 72.1263 609.627 Q75.205 614.21 75.205 622.96 Q75.205 631.687 72.1263 636.294 Q69.0707 640.877 63.2606 640.877 Q57.4504 640.877 54.3717 636.294 Q51.3162 631.687 51.3162 622.96 Q51.3162 614.21 54.3717 609.627 Q57.4504 605.021 63.2606 605.021 Z\" fill=\"#000000\" fill-rule=\"nonzero\" fill-opacity=\"1\" /><path clip-path=\"url(#clip410)\" d=\"M83.4225 634.326 L88.3067 634.326 L88.3067 640.206 L83.4225 640.206 L83.4225 634.326 Z\" fill=\"#000000\" fill-rule=\"nonzero\" fill-opacity=\"1\" /><path clip-path=\"url(#clip410)\" d=\"M109.071 621.062 Q105.922 621.062 104.071 623.215 Q102.242 625.368 102.242 629.118 Q102.242 632.845 104.071 635.02 Q105.922 637.173 109.071 637.173 Q112.219 637.173 114.047 635.02 Q115.899 632.845 115.899 629.118 Q115.899 625.368 114.047 623.215 Q112.219 621.062 109.071 621.062 M118.353 606.409 L118.353 610.669 Q116.594 609.835 114.788 609.396 Q113.006 608.956 111.246 608.956 Q106.617 608.956 104.163 612.081 Q101.733 615.206 101.385 621.525 Q102.751 619.511 104.811 618.446 Q106.871 617.359 109.348 617.359 Q114.557 617.359 117.566 620.53 Q120.598 623.678 120.598 629.118 Q120.598 634.442 117.45 637.659 Q114.302 640.877 109.071 640.877 Q103.075 640.877 99.9039 636.294 Q96.7326 631.687 96.7326 622.96 Q96.7326 614.766 100.621 609.905 Q104.51 605.021 111.061 605.021 Q112.82 605.021 114.603 605.368 Q116.408 605.715 118.353 606.409 Z\" fill=\"#000000\" fill-rule=\"nonzero\" fill-opacity=\"1\" /><path clip-path=\"url(#clip410)\" d=\"M63.5152 320.884 Q59.9041 320.884 58.0754 324.448 Q56.2699 327.99 56.2699 335.12 Q56.2699 342.226 58.0754 345.791 Q59.9041 349.332 63.5152 349.332 Q67.1494 349.332 68.955 345.791 Q70.7837 342.226 70.7837 335.12 Q70.7837 327.99 68.955 324.448 Q67.1494 320.884 63.5152 320.884 M63.5152 317.18 Q69.3254 317.18 72.3809 321.786 Q75.4596 326.37 75.4596 335.12 Q75.4596 343.846 72.3809 348.453 Q69.3254 353.036 63.5152 353.036 Q57.7051 353.036 54.6264 348.453 Q51.5708 343.846 51.5708 335.12 Q51.5708 326.37 54.6264 321.786 Q57.7051 317.18 63.5152 317.18 Z\" fill=\"#000000\" fill-rule=\"nonzero\" fill-opacity=\"1\" /><path clip-path=\"url(#clip410)\" d=\"M83.6771 346.485 L88.5614 346.485 L88.5614 352.365 L83.6771 352.365 L83.6771 346.485 Z\" fill=\"#000000\" fill-rule=\"nonzero\" fill-opacity=\"1\" /><path clip-path=\"url(#clip410)\" d=\"M108.746 335.953 Q105.413 335.953 103.492 337.735 Q101.594 339.518 101.594 342.643 Q101.594 345.768 103.492 347.55 Q105.413 349.332 108.746 349.332 Q112.08 349.332 114.001 347.55 Q115.922 345.745 115.922 342.643 Q115.922 339.518 114.001 337.735 Q112.103 335.953 108.746 335.953 M104.071 333.962 Q101.061 333.221 99.3715 331.161 Q97.7048 329.101 97.7048 326.138 Q97.7048 321.995 100.645 319.587 Q103.608 317.18 108.746 317.18 Q113.908 317.18 116.848 319.587 Q119.788 321.995 119.788 326.138 Q119.788 329.101 118.098 331.161 Q116.432 333.221 113.445 333.962 Q116.825 334.749 118.7 337.041 Q120.598 339.333 120.598 342.643 Q120.598 347.666 117.52 350.351 Q114.464 353.036 108.746 353.036 Q103.029 353.036 99.9502 350.351 Q96.8947 347.666 96.8947 342.643 Q96.8947 339.333 98.7928 337.041 Q100.691 334.749 104.071 333.962 M102.358 326.578 Q102.358 329.263 104.024 330.768 Q105.714 332.272 108.746 332.272 Q111.756 332.272 113.445 330.768 Q115.158 329.263 115.158 326.578 Q115.158 323.893 113.445 322.388 Q111.756 320.884 108.746 320.884 Q105.714 320.884 104.024 322.388 Q102.358 323.893 102.358 326.578 Z\" fill=\"#000000\" fill-rule=\"nonzero\" fill-opacity=\"1\" /><path clip-path=\"url(#clip410)\" d=\"M54.2328 60.5889 L61.8717 60.5889 L61.8717 34.2233 L53.5616 35.89 L53.5616 31.6308 L61.8254 29.9641 L66.5013 29.9641 L66.5013 60.5889 L74.1402 60.5889 L74.1402 64.5241 L54.2328 64.5241 L54.2328 60.5889 Z\" fill=\"#000000\" fill-rule=\"nonzero\" fill-opacity=\"1\" /><path clip-path=\"url(#clip410)\" d=\"M83.5845 58.6445 L88.4688 58.6445 L88.4688 64.5241 L83.5845 64.5241 L83.5845 58.6445 Z\" fill=\"#000000\" fill-rule=\"nonzero\" fill-opacity=\"1\" /><path clip-path=\"url(#clip410)\" d=\"M108.654 33.0428 Q105.043 33.0428 103.214 36.6076 Q101.409 40.1492 101.409 47.2788 Q101.409 54.3853 103.214 57.9501 Q105.043 61.4917 108.654 61.4917 Q112.288 61.4917 114.094 57.9501 Q115.922 54.3853 115.922 47.2788 Q115.922 40.1492 114.094 36.6076 Q112.288 33.0428 108.654 33.0428 M108.654 29.3391 Q114.464 29.3391 117.52 33.9456 Q120.598 38.5289 120.598 47.2788 Q120.598 56.0056 117.52 60.6121 Q114.464 65.1954 108.654 65.1954 Q102.844 65.1954 99.765 60.6121 Q96.7095 56.0056 96.7095 47.2788 Q96.7095 38.5289 99.765 33.9456 Q102.844 29.3391 108.654 29.3391 Z\" fill=\"#000000\" fill-rule=\"nonzero\" fill-opacity=\"1\" /><polyline clip-path=\"url(#clip412)\" style=\"stroke:#000000; stroke-linecap:round; stroke-linejoin:round; stroke-width:4; stroke-opacity:1; fill:none\" points=\"211.502,50.6384 321.31,50.6384 321.31,54.0816 348.762,54.0816 348.762,60.9846 540.926,60.9846 540.926,64.5043 568.378,64.5043 568.378,71.5436 595.83,71.5436 595.83,75.072 650.734,75.072 650.734,78.6182 678.186,78.6182 678.186,85.7464 705.638,85.7464 705.638,89.3197 733.09,89.3197 733.09,92.902 760.542,92.902 760.542,96.4937 787.994,96.4937 787.994,100.113 842.898,100.113 842.898,107.448 925.253,107.448 925.253,114.882 952.705,114.882 952.705,126.064 1035.06,126.064 1035.06,129.874 1089.97,129.874 1089.97,133.706 1172.32,133.706 1172.32,137.582 1199.77,137.582 1199.77,141.481 1227.23,141.481 1227.23,145.402 1282.13,145.402 1282.13,157.376 1337.03,157.376 1337.03,161.391 1364.48,161.391 1364.48,173.66 1391.94,173.66 1391.94,177.763 1419.39,177.763 1419.39,181.93 1446.84,181.93 1446.84,194.514 1474.29,194.514 1474.29,198.709 1501.74,198.709 1501.74,202.973 1529.2,202.973 1529.2,207.294 1556.65,207.294 1556.65,211.645 1584.1,211.645 1584.1,220.407 1639,220.407 1639,229.26 1693.91,229.26 1693.91,238.24 1721.36,238.24 1721.36,247.252 1748.81,247.252 1748.81,256.398 1776.26,256.398 1776.26,265.681 1858.62,265.681 1858.62,275.37 1886.07,275.37 1886.07,285.296 1913.52,285.296 1913.52,290.281 1940.98,290.281 1940.98,295.306 1968.43,295.306 1968.43,300.375 2023.33,300.375 2023.33,310.512 2078.24,310.512 2078.24,315.693 2105.69,315.693 2105.69,326.24 2160.59,326.24 2160.59,336.884 2242.95,336.884 2242.95,342.281 2270.4,342.281 2270.4,347.704 2297.85,347.704 2297.85,353.152 2325.3,353.152 2325.3,364.155 2517.47,364.155 2517.47,376.556 2572.37,376.556 2572.37,383.324 2627.28,383.324 2627.28,390.35 2654.73,390.35 2654.73,397.514 2682.18,397.514 2682.18,404.726 2709.63,404.726 2709.63,411.937 2737.08,411.937 2737.08,419.197 2764.54,419.197 2764.54,426.558 2984.15,426.558 2984.15,436.949 3066.51,436.949 3066.51,447.881 3176.32,447.881 3176.32,461.028 3395.93,461.028 3395.93,477.05 3670.45,477.05 3670.45,494.453 3725.35,494.453 3725.35,512.167 4329.3,512.167 4329.3,533.818 4356.75,533.818 4356.75,555.469 4384.2,555.469 4384.2,577.119 4713.63,577.119 4713.63,601.049 6854.88,601.049 6854.88,896.182 \"/>\n",
       "<polyline clip-path=\"url(#clip412)\" style=\"stroke:#0000ff; stroke-linecap:round; stroke-linejoin:round; stroke-width:4; stroke-opacity:1; fill:none\" points=\"211.502,71.1682 321.31,71.1682 321.31,74.3908 348.762,74.3908 348.762,83.5657 540.926,83.5657 540.926,88.3679 568.378,88.3679 568.378,97.7486 595.83,97.7486 595.83,102.358 650.734,102.358 650.734,106.944 678.186,106.944 678.186,116.028 705.638,116.028 705.638,120.518 733.09,120.518 733.09,124.985 760.542,124.985 760.542,129.432 787.994,129.432 787.994,133.892 842.898,133.892 842.898,142.873 925.253,142.873 925.253,151.894 952.705,151.894 952.705,165.279 1035.06,165.279 1035.06,169.822 1089.97,169.822 1089.97,174.375 1172.32,174.375 1172.32,178.972 1199.77,178.972 1199.77,183.581 1227.23,183.581 1227.23,188.203 1282.13,188.203 1282.13,202.255 1337.03,202.255 1337.03,206.936 1364.48,206.936 1364.48,221.191 1391.94,221.191 1391.94,225.927 1419.39,225.927 1419.39,230.738 1446.84,230.738 1446.84,245.189 1474.29,245.189 1474.29,249.977 1501.74,249.977 1501.74,254.845 1529.2,254.845 1529.2,259.778 1556.65,259.778 1556.65,264.737 1584.1,264.737 1584.1,274.693 1639,274.693 1639,284.717 1693.91,284.717 1693.91,294.859 1721.36,294.859 1721.36,304.991 1748.81,304.991 1748.81,315.25 1776.26,315.25 1776.26,325.642 1858.62,325.642 1858.62,336.52 1886.07,336.52 1886.07,347.657 1913.52,347.657 1913.52,353.231 1940.98,353.231 1940.98,358.846 1968.43,358.846 1968.43,364.503 2023.33,364.503 2023.33,375.776 2078.24,375.776 2078.24,381.538 2105.69,381.538 2105.69,393.265 2160.59,393.265 2160.59,405.06 2242.95,405.06 2242.95,411.033 2270.4,411.033 2270.4,417.026 2297.85,417.026 2297.85,423.038 2325.3,423.038 2325.3,435.156 2517.47,435.156 2517.47,449.04 2572.37,449.04 2572.37,456.708 2627.28,456.708 2627.28,464.697 2654.73,464.697 2654.73,472.84 2682.18,472.84 2682.18,481.013 2709.63,481.013 2709.63,489.151 2737.08,489.151 2737.08,497.323 2764.54,497.323 2764.54,505.597 2984.15,505.597 2984.15,518.149 3066.51,518.149 3066.51,531.391 3176.32,531.391 3176.32,547.926 3395.93,547.926 3395.93,568.921 3670.45,568.921 3670.45,591.77 3725.35,591.77 3725.35,614.58 4329.3,614.58 4329.3,643.577 4356.75,643.577 4356.75,671.639 4384.2,671.639 4384.2,698.911 4713.63,698.911 4713.63,729.229 6854.88,729.229 6854.88,1329.42 \"/>\n",
       "<polyline clip-path=\"url(#clip412)\" style=\"stroke:#0000ff; stroke-linecap:round; stroke-linejoin:round; stroke-width:4; stroke-opacity:1; fill:none\" points=\"211.502,47.7227 321.31,47.7227 321.31,48.9571 348.762,48.9571 348.762,52.4164 540.926,52.4164 540.926,54.4529 568.378,54.4529 568.378,58.8788 595.83,58.8788 595.83,61.227 650.734,61.227 650.734,63.6526 678.186,63.6526 678.186,68.6924 705.638,68.6924 705.638,71.2884 733.09,71.2884 733.09,73.9302 760.542,73.9302 760.542,76.6138 787.994,76.6138 787.994,79.3474 842.898,79.3474 842.898,84.9631 925.253,84.9631 925.253,90.7483 952.705,90.7483 952.705,99.6197 1035.06,99.6197 1035.06,102.672 1089.97,102.672 1089.97,105.758 1172.32,105.758 1172.32,108.892 1199.77,108.892 1199.77,112.059 1227.23,112.059 1227.23,115.258 1282.13,115.258 1282.13,125.097 1337.03,125.097 1337.03,128.424 1364.48,128.424 1364.48,138.648 1391.94,138.648 1391.94,142.093 1419.39,142.093 1419.39,145.597 1446.84,145.597 1446.84,156.242 1474.29,156.242 1474.29,159.815 1501.74,159.815 1501.74,163.45 1529.2,163.45 1529.2,167.137 1556.65,167.137 1556.65,170.857 1584.1,170.857 1584.1,178.375 1639,178.375 1639,186.005 1693.91,186.005 1693.91,193.769 1721.36,193.769 1721.36,201.6 1748.81,201.6 1748.81,209.57 1776.26,209.57 1776.26,217.682 1858.62,217.682 1858.62,226.136 1886.07,226.136 1886.07,234.809 1913.52,234.809 1913.52,239.178 1940.98,239.178 1940.98,243.588 1968.43,243.588 1968.43,248.042 2023.33,248.042 2023.33,256.981 2078.24,256.981 2078.24,261.549 2105.69,261.549 2105.69,270.859 2160.59,270.859 2160.59,280.286 2242.95,280.286 2242.95,285.072 2270.4,285.072 2270.4,289.889 2297.85,289.889 2297.85,294.736 2325.3,294.736 2325.3,304.542 2517.47,304.542 2517.47,315.438 2572.37,315.438 2572.37,321.32 2627.28,321.32 2627.28,327.406 2654.73,327.406 2654.73,333.613 2682.18,333.613 2682.18,339.877 2709.63,339.877 2709.63,346.165 2737.08,346.165 2737.08,352.51 2764.54,352.51 2764.54,358.95 2984.15,358.95 2984.15,367.401 3066.51,367.401 3066.51,376.257 3176.32,376.257 3176.32,386.444 3395.93,386.444 3395.93,398.217 3670.45,398.217 3670.45,410.943 3725.35,410.943 3725.35,424.191 4329.3,424.191 4329.3,439.503 4356.75,439.503 4356.75,455.438 4384.2,455.438 4384.2,471.89 4713.63,471.89 4713.63,489.857 6854.88,489.857 6854.88,480.9 \"/>\n",
       "</svg>\n"
      ],
      "text/html": [
       "<?xml version=\"1.0\" encoding=\"utf-8\"?>\n",
       "<svg xmlns=\"http://www.w3.org/2000/svg\" xmlns:xlink=\"http://www.w3.org/1999/xlink\" width=\"600\" height=\"400\" viewBox=\"0 0 2400 1600\">\n",
       "<defs>\n",
       "  <clipPath id=\"clip460\">\n",
       "    <rect x=\"0\" y=\"0\" width=\"2400\" height=\"1600\"/>\n",
       "  </clipPath>\n",
       "</defs>\n",
       "<path clip-path=\"url(#clip460)\" d=\"M0 1600 L2400 1600 L2400 0 L0 0  Z\" fill=\"#ffffff\" fill-rule=\"evenodd\" fill-opacity=\"1\"/>\n",
       "<defs>\n",
       "  <clipPath id=\"clip461\">\n",
       "    <rect x=\"480\" y=\"0\" width=\"1681\" height=\"1600\"/>\n",
       "  </clipPath>\n",
       "</defs>\n",
       "<path clip-path=\"url(#clip460)\" d=\"M156.598 1486.45 L2352.76 1486.45 L2352.76 47.2441 L156.598 47.2441  Z\" fill=\"#ffffff\" fill-rule=\"evenodd\" fill-opacity=\"1\"/>\n",
       "<defs>\n",
       "  <clipPath id=\"clip462\">\n",
       "    <rect x=\"156\" y=\"47\" width=\"2197\" height=\"1440\"/>\n",
       "  </clipPath>\n",
       "</defs>\n",
       "<polyline clip-path=\"url(#clip462)\" style=\"stroke:#000000; stroke-linecap:round; stroke-linejoin:round; stroke-width:2; stroke-opacity:0.1; fill:none\" points=\"156.598,1486.45 156.598,47.2441 \"/>\n",
       "<polyline clip-path=\"url(#clip462)\" style=\"stroke:#000000; stroke-linecap:round; stroke-linejoin:round; stroke-width:2; stroke-opacity:0.1; fill:none\" points=\"705.638,1486.45 705.638,47.2441 \"/>\n",
       "<polyline clip-path=\"url(#clip462)\" style=\"stroke:#000000; stroke-linecap:round; stroke-linejoin:round; stroke-width:2; stroke-opacity:0.1; fill:none\" points=\"1254.68,1486.45 1254.68,47.2441 \"/>\n",
       "<polyline clip-path=\"url(#clip462)\" style=\"stroke:#000000; stroke-linecap:round; stroke-linejoin:round; stroke-width:2; stroke-opacity:0.1; fill:none\" points=\"1803.72,1486.45 1803.72,47.2441 \"/>\n",
       "<polyline clip-path=\"url(#clip462)\" style=\"stroke:#000000; stroke-linecap:round; stroke-linejoin:round; stroke-width:2; stroke-opacity:0.1; fill:none\" points=\"2352.76,1486.45 2352.76,47.2441 \"/>\n",
       "<polyline clip-path=\"url(#clip460)\" style=\"stroke:#000000; stroke-linecap:round; stroke-linejoin:round; stroke-width:4; stroke-opacity:1; fill:none\" points=\"156.598,1486.45 2352.76,1486.45 \"/>\n",
       "<polyline clip-path=\"url(#clip460)\" style=\"stroke:#000000; stroke-linecap:round; stroke-linejoin:round; stroke-width:4; stroke-opacity:1; fill:none\" points=\"156.598,1486.45 156.598,1467.55 \"/>\n",
       "<polyline clip-path=\"url(#clip460)\" style=\"stroke:#000000; stroke-linecap:round; stroke-linejoin:round; stroke-width:4; stroke-opacity:1; fill:none\" points=\"705.638,1486.45 705.638,1467.55 \"/>\n",
       "<polyline clip-path=\"url(#clip460)\" style=\"stroke:#000000; stroke-linecap:round; stroke-linejoin:round; stroke-width:4; stroke-opacity:1; fill:none\" points=\"1254.68,1486.45 1254.68,1467.55 \"/>\n",
       "<polyline clip-path=\"url(#clip460)\" style=\"stroke:#000000; stroke-linecap:round; stroke-linejoin:round; stroke-width:4; stroke-opacity:1; fill:none\" points=\"1803.72,1486.45 1803.72,1467.55 \"/>\n",
       "<polyline clip-path=\"url(#clip460)\" style=\"stroke:#000000; stroke-linecap:round; stroke-linejoin:round; stroke-width:4; stroke-opacity:1; fill:none\" points=\"2352.76,1486.45 2352.76,1467.55 \"/>\n",
       "<path clip-path=\"url(#clip460)\" d=\"M156.598 1517.37 Q152.987 1517.37 151.158 1520.93 Q149.353 1524.47 149.353 1531.6 Q149.353 1538.71 151.158 1542.27 Q152.987 1545.82 156.598 1545.82 Q160.232 1545.82 162.038 1542.27 Q163.867 1538.71 163.867 1531.6 Q163.867 1524.47 162.038 1520.93 Q160.232 1517.37 156.598 1517.37 M156.598 1513.66 Q162.408 1513.66 165.464 1518.27 Q168.543 1522.85 168.543 1531.6 Q168.543 1540.33 165.464 1544.94 Q162.408 1549.52 156.598 1549.52 Q150.788 1549.52 147.709 1544.94 Q144.654 1540.33 144.654 1531.6 Q144.654 1522.85 147.709 1518.27 Q150.788 1513.66 156.598 1513.66 Z\" fill=\"#000000\" fill-rule=\"nonzero\" fill-opacity=\"1\" /><path clip-path=\"url(#clip460)\" d=\"M684.411 1544.91 L700.73 1544.91 L700.73 1548.85 L678.786 1548.85 L678.786 1544.91 Q681.448 1542.16 686.031 1537.53 Q690.638 1532.88 691.818 1531.53 Q694.064 1529.01 694.943 1527.27 Q695.846 1525.51 695.846 1523.82 Q695.846 1521.07 693.902 1519.33 Q691.98 1517.6 688.878 1517.6 Q686.679 1517.6 684.226 1518.36 Q681.795 1519.13 679.017 1520.68 L679.017 1515.95 Q681.841 1514.82 684.295 1514.24 Q686.749 1513.66 688.786 1513.66 Q694.156 1513.66 697.351 1516.35 Q700.545 1519.03 700.545 1523.52 Q700.545 1525.65 699.735 1527.57 Q698.948 1529.47 696.841 1532.07 Q696.263 1532.74 693.161 1535.95 Q690.059 1539.15 684.411 1544.91 Z\" fill=\"#000000\" fill-rule=\"nonzero\" fill-opacity=\"1\" /><path clip-path=\"url(#clip460)\" d=\"M720.545 1517.37 Q716.934 1517.37 715.105 1520.93 Q713.3 1524.47 713.3 1531.6 Q713.3 1538.71 715.105 1542.27 Q716.934 1545.82 720.545 1545.82 Q724.179 1545.82 725.985 1542.27 Q727.813 1538.71 727.813 1531.6 Q727.813 1524.47 725.985 1520.93 Q724.179 1517.37 720.545 1517.37 M720.545 1513.66 Q726.355 1513.66 729.411 1518.27 Q732.489 1522.85 732.489 1531.6 Q732.489 1540.33 729.411 1544.94 Q726.355 1549.52 720.545 1549.52 Q714.735 1549.52 711.656 1544.94 Q708.601 1540.33 708.601 1531.6 Q708.601 1522.85 711.656 1518.27 Q714.735 1513.66 720.545 1513.66 Z\" fill=\"#000000\" fill-rule=\"nonzero\" fill-opacity=\"1\" /><path clip-path=\"url(#clip460)\" d=\"M1242.85 1518.36 L1231.04 1536.81 L1242.85 1536.81 L1242.85 1518.36 M1241.62 1514.29 L1247.5 1514.29 L1247.5 1536.81 L1252.43 1536.81 L1252.43 1540.7 L1247.5 1540.7 L1247.5 1548.85 L1242.85 1548.85 L1242.85 1540.7 L1227.25 1540.7 L1227.25 1536.19 L1241.62 1514.29 Z\" fill=\"#000000\" fill-rule=\"nonzero\" fill-opacity=\"1\" /><path clip-path=\"url(#clip460)\" d=\"M1270.16 1517.37 Q1266.55 1517.37 1264.72 1520.93 Q1262.92 1524.47 1262.92 1531.6 Q1262.92 1538.71 1264.72 1542.27 Q1266.55 1545.82 1270.16 1545.82 Q1273.8 1545.82 1275.6 1542.27 Q1277.43 1538.71 1277.43 1531.6 Q1277.43 1524.47 1275.6 1520.93 Q1273.8 1517.37 1270.16 1517.37 M1270.16 1513.66 Q1275.97 1513.66 1279.03 1518.27 Q1282.11 1522.85 1282.11 1531.6 Q1282.11 1540.33 1279.03 1544.94 Q1275.97 1549.52 1270.16 1549.52 Q1264.35 1549.52 1261.27 1544.94 Q1258.22 1540.33 1258.22 1531.6 Q1258.22 1522.85 1261.27 1518.27 Q1264.35 1513.66 1270.16 1513.66 Z\" fill=\"#000000\" fill-rule=\"nonzero\" fill-opacity=\"1\" /><path clip-path=\"url(#clip460)\" d=\"M1789.12 1529.7 Q1785.97 1529.7 1784.12 1531.86 Q1782.29 1534.01 1782.29 1537.76 Q1782.29 1541.49 1784.12 1543.66 Q1785.97 1545.82 1789.12 1545.82 Q1792.27 1545.82 1794.1 1543.66 Q1795.95 1541.49 1795.95 1537.76 Q1795.95 1534.01 1794.1 1531.86 Q1792.27 1529.7 1789.12 1529.7 M1798.4 1515.05 L1798.4 1519.31 Q1796.64 1518.48 1794.84 1518.04 Q1793.06 1517.6 1791.3 1517.6 Q1786.67 1517.6 1784.21 1520.72 Q1781.78 1523.85 1781.44 1530.17 Q1782.8 1528.15 1784.86 1527.09 Q1786.92 1526 1789.4 1526 Q1794.61 1526 1797.62 1529.17 Q1800.65 1532.32 1800.65 1537.76 Q1800.65 1543.08 1797.5 1546.3 Q1794.35 1549.52 1789.12 1549.52 Q1783.13 1549.52 1779.96 1544.94 Q1776.78 1540.33 1776.78 1531.6 Q1776.78 1523.41 1780.67 1518.55 Q1784.56 1513.66 1791.11 1513.66 Q1792.87 1513.66 1794.65 1514.01 Q1796.46 1514.36 1798.4 1515.05 Z\" fill=\"#000000\" fill-rule=\"nonzero\" fill-opacity=\"1\" /><path clip-path=\"url(#clip460)\" d=\"M1818.7 1517.37 Q1815.09 1517.37 1813.27 1520.93 Q1811.46 1524.47 1811.46 1531.6 Q1811.46 1538.71 1813.27 1542.27 Q1815.09 1545.82 1818.7 1545.82 Q1822.34 1545.82 1824.14 1542.27 Q1825.97 1538.71 1825.97 1531.6 Q1825.97 1524.47 1824.14 1520.93 Q1822.34 1517.37 1818.7 1517.37 M1818.7 1513.66 Q1824.51 1513.66 1827.57 1518.27 Q1830.65 1522.85 1830.65 1531.6 Q1830.65 1540.33 1827.57 1544.94 Q1824.51 1549.52 1818.7 1549.52 Q1812.89 1549.52 1809.82 1544.94 Q1806.76 1540.33 1806.76 1531.6 Q1806.76 1522.85 1809.82 1518.27 Q1812.89 1513.66 1818.7 1513.66 Z\" fill=\"#000000\" fill-rule=\"nonzero\" fill-opacity=\"1\" /><path clip-path=\"url(#clip460)\" d=\"M2337.63 1532.44 Q2334.3 1532.44 2332.37 1534.22 Q2330.48 1536 2330.48 1539.13 Q2330.48 1542.25 2332.37 1544.03 Q2334.3 1545.82 2337.63 1545.82 Q2340.96 1545.82 2342.88 1544.03 Q2344.8 1542.23 2344.8 1539.13 Q2344.8 1536 2342.88 1534.22 Q2340.99 1532.44 2337.63 1532.44 M2332.95 1530.45 Q2329.94 1529.7 2328.25 1527.64 Q2326.59 1525.58 2326.59 1522.62 Q2326.59 1518.48 2329.53 1516.07 Q2332.49 1513.66 2337.63 1513.66 Q2342.79 1513.66 2345.73 1516.07 Q2348.67 1518.48 2348.67 1522.62 Q2348.67 1525.58 2346.98 1527.64 Q2345.31 1529.7 2342.33 1530.45 Q2345.71 1531.23 2347.58 1533.52 Q2349.48 1535.82 2349.48 1539.13 Q2349.48 1544.15 2346.4 1546.83 Q2343.35 1549.52 2337.63 1549.52 Q2331.91 1549.52 2328.83 1546.83 Q2325.78 1544.15 2325.78 1539.13 Q2325.78 1535.82 2327.68 1533.52 Q2329.57 1531.23 2332.95 1530.45 M2331.24 1523.06 Q2331.24 1525.75 2332.91 1527.25 Q2334.6 1528.76 2337.63 1528.76 Q2340.64 1528.76 2342.33 1527.25 Q2344.04 1525.75 2344.04 1523.06 Q2344.04 1520.38 2342.33 1518.87 Q2340.64 1517.37 2337.63 1517.37 Q2334.6 1517.37 2332.91 1518.87 Q2331.24 1520.38 2331.24 1523.06 Z\" fill=\"#000000\" fill-rule=\"nonzero\" fill-opacity=\"1\" /><path clip-path=\"url(#clip460)\" d=\"M2367.79 1517.37 Q2364.18 1517.37 2362.35 1520.93 Q2360.55 1524.47 2360.55 1531.6 Q2360.55 1538.71 2362.35 1542.27 Q2364.18 1545.82 2367.79 1545.82 Q2371.42 1545.82 2373.23 1542.27 Q2375.06 1538.71 2375.06 1531.6 Q2375.06 1524.47 2373.23 1520.93 Q2371.42 1517.37 2367.79 1517.37 M2367.79 1513.66 Q2373.6 1513.66 2376.66 1518.27 Q2379.73 1522.85 2379.73 1531.6 Q2379.73 1540.33 2376.66 1544.94 Q2373.6 1549.52 2367.79 1549.52 Q2361.98 1549.52 2358.9 1544.94 Q2355.85 1540.33 2355.85 1531.6 Q2355.85 1522.85 2358.9 1518.27 Q2361.98 1513.66 2367.79 1513.66 Z\" fill=\"#000000\" fill-rule=\"nonzero\" fill-opacity=\"1\" /><polyline clip-path=\"url(#clip462)\" style=\"stroke:#000000; stroke-linecap:round; stroke-linejoin:round; stroke-width:2; stroke-opacity:0.1; fill:none\" points=\"156.598,1486.45 2352.76,1486.45 \"/>\n",
       "<polyline clip-path=\"url(#clip462)\" style=\"stroke:#000000; stroke-linecap:round; stroke-linejoin:round; stroke-width:2; stroke-opacity:0.1; fill:none\" points=\"156.598,1198.61 2352.76,1198.61 \"/>\n",
       "<polyline clip-path=\"url(#clip462)\" style=\"stroke:#000000; stroke-linecap:round; stroke-linejoin:round; stroke-width:2; stroke-opacity:0.1; fill:none\" points=\"156.598,910.766 2352.76,910.766 \"/>\n",
       "<polyline clip-path=\"url(#clip462)\" style=\"stroke:#000000; stroke-linecap:round; stroke-linejoin:round; stroke-width:2; stroke-opacity:0.1; fill:none\" points=\"156.598,622.926 2352.76,622.926 \"/>\n",
       "<polyline clip-path=\"url(#clip462)\" style=\"stroke:#000000; stroke-linecap:round; stroke-linejoin:round; stroke-width:2; stroke-opacity:0.1; fill:none\" points=\"156.598,335.085 2352.76,335.085 \"/>\n",
       "<polyline clip-path=\"url(#clip462)\" style=\"stroke:#000000; stroke-linecap:round; stroke-linejoin:round; stroke-width:2; stroke-opacity:0.1; fill:none\" points=\"156.598,47.2441 2352.76,47.2441 \"/>\n",
       "<polyline clip-path=\"url(#clip460)\" style=\"stroke:#000000; stroke-linecap:round; stroke-linejoin:round; stroke-width:4; stroke-opacity:1; fill:none\" points=\"156.598,1486.45 156.598,47.2441 \"/>\n",
       "<polyline clip-path=\"url(#clip460)\" style=\"stroke:#000000; stroke-linecap:round; stroke-linejoin:round; stroke-width:4; stroke-opacity:1; fill:none\" points=\"156.598,1486.45 175.496,1486.45 \"/>\n",
       "<polyline clip-path=\"url(#clip460)\" style=\"stroke:#000000; stroke-linecap:round; stroke-linejoin:round; stroke-width:4; stroke-opacity:1; fill:none\" points=\"156.598,1198.61 175.496,1198.61 \"/>\n",
       "<polyline clip-path=\"url(#clip460)\" style=\"stroke:#000000; stroke-linecap:round; stroke-linejoin:round; stroke-width:4; stroke-opacity:1; fill:none\" points=\"156.598,910.766 175.496,910.766 \"/>\n",
       "<polyline clip-path=\"url(#clip460)\" style=\"stroke:#000000; stroke-linecap:round; stroke-linejoin:round; stroke-width:4; stroke-opacity:1; fill:none\" points=\"156.598,622.926 175.496,622.926 \"/>\n",
       "<polyline clip-path=\"url(#clip460)\" style=\"stroke:#000000; stroke-linecap:round; stroke-linejoin:round; stroke-width:4; stroke-opacity:1; fill:none\" points=\"156.598,335.085 175.496,335.085 \"/>\n",
       "<polyline clip-path=\"url(#clip460)\" style=\"stroke:#000000; stroke-linecap:round; stroke-linejoin:round; stroke-width:4; stroke-opacity:1; fill:none\" points=\"156.598,47.2441 175.496,47.2441 \"/>\n",
       "<path clip-path=\"url(#clip460)\" d=\"M63.4226 1472.25 Q59.8115 1472.25 57.9828 1475.81 Q56.1773 1479.35 56.1773 1486.48 Q56.1773 1493.59 57.9828 1497.15 Q59.8115 1500.7 63.4226 1500.7 Q67.0569 1500.7 68.8624 1497.15 Q70.6911 1493.59 70.6911 1486.48 Q70.6911 1479.35 68.8624 1475.81 Q67.0569 1472.25 63.4226 1472.25 M63.4226 1468.54 Q69.2328 1468.54 72.2883 1473.15 Q75.367 1477.73 75.367 1486.48 Q75.367 1495.21 72.2883 1499.82 Q69.2328 1504.4 63.4226 1504.4 Q57.6125 1504.4 54.5338 1499.82 Q51.4782 1495.21 51.4782 1486.48 Q51.4782 1477.73 54.5338 1473.15 Q57.6125 1468.54 63.4226 1468.54 Z\" fill=\"#000000\" fill-rule=\"nonzero\" fill-opacity=\"1\" /><path clip-path=\"url(#clip460)\" d=\"M83.5845 1497.85 L88.4688 1497.85 L88.4688 1503.73 L83.5845 1503.73 L83.5845 1497.85 Z\" fill=\"#000000\" fill-rule=\"nonzero\" fill-opacity=\"1\" /><path clip-path=\"url(#clip460)\" d=\"M108.654 1472.25 Q105.043 1472.25 103.214 1475.81 Q101.409 1479.35 101.409 1486.48 Q101.409 1493.59 103.214 1497.15 Q105.043 1500.7 108.654 1500.7 Q112.288 1500.7 114.094 1497.15 Q115.922 1493.59 115.922 1486.48 Q115.922 1479.35 114.094 1475.81 Q112.288 1472.25 108.654 1472.25 M108.654 1468.54 Q114.464 1468.54 117.52 1473.15 Q120.598 1477.73 120.598 1486.48 Q120.598 1495.21 117.52 1499.82 Q114.464 1504.4 108.654 1504.4 Q102.844 1504.4 99.765 1499.82 Q96.7095 1495.21 96.7095 1486.48 Q96.7095 1477.73 99.765 1473.15 Q102.844 1468.54 108.654 1468.54 Z\" fill=\"#000000\" fill-rule=\"nonzero\" fill-opacity=\"1\" /><path clip-path=\"url(#clip460)\" d=\"M65.0198 1184.41 Q61.4087 1184.41 59.58 1187.97 Q57.7745 1191.51 57.7745 1198.64 Q57.7745 1205.75 59.58 1209.31 Q61.4087 1212.85 65.0198 1212.85 Q68.6541 1212.85 70.4596 1209.31 Q72.2883 1205.75 72.2883 1198.64 Q72.2883 1191.51 70.4596 1187.97 Q68.6541 1184.41 65.0198 1184.41 M65.0198 1180.7 Q70.83 1180.7 73.8855 1185.31 Q76.9642 1189.89 76.9642 1198.64 Q76.9642 1207.37 73.8855 1211.98 Q70.83 1216.56 65.0198 1216.56 Q59.2097 1216.56 56.131 1211.98 Q53.0754 1207.37 53.0754 1198.64 Q53.0754 1189.89 56.131 1185.31 Q59.2097 1180.7 65.0198 1180.7 Z\" fill=\"#000000\" fill-rule=\"nonzero\" fill-opacity=\"1\" /><path clip-path=\"url(#clip460)\" d=\"M85.1818 1210.01 L90.066 1210.01 L90.066 1215.89 L85.1818 1215.89 L85.1818 1210.01 Z\" fill=\"#000000\" fill-rule=\"nonzero\" fill-opacity=\"1\" /><path clip-path=\"url(#clip460)\" d=\"M104.279 1211.95 L120.598 1211.95 L120.598 1215.89 L98.6539 1215.89 L98.6539 1211.95 Q101.316 1209.2 105.899 1204.57 Q110.506 1199.91 111.686 1198.57 Q113.932 1196.05 114.811 1194.31 Q115.714 1192.55 115.714 1190.86 Q115.714 1188.11 113.77 1186.37 Q111.848 1184.64 108.746 1184.64 Q106.547 1184.64 104.094 1185.4 Q101.663 1186.17 98.8854 1187.72 L98.8854 1182.99 Q101.709 1181.86 104.163 1181.28 Q106.617 1180.7 108.654 1180.7 Q114.024 1180.7 117.219 1183.39 Q120.413 1186.07 120.413 1190.56 Q120.413 1192.69 119.603 1194.61 Q118.816 1196.51 116.709 1199.1 Q116.131 1199.78 113.029 1202.99 Q109.927 1206.19 104.279 1211.95 Z\" fill=\"#000000\" fill-rule=\"nonzero\" fill-opacity=\"1\" /><path clip-path=\"url(#clip460)\" d=\"M62.9365 896.565 Q59.3254 896.565 57.4967 900.13 Q55.6912 903.671 55.6912 910.801 Q55.6912 917.908 57.4967 921.472 Q59.3254 925.014 62.9365 925.014 Q66.5707 925.014 68.3763 921.472 Q70.205 917.908 70.205 910.801 Q70.205 903.671 68.3763 900.13 Q66.5707 896.565 62.9365 896.565 M62.9365 892.861 Q68.7467 892.861 71.8022 897.468 Q74.8809 902.051 74.8809 910.801 Q74.8809 919.528 71.8022 924.134 Q68.7467 928.718 62.9365 928.718 Q57.1264 928.718 54.0477 924.134 Q50.9921 919.528 50.9921 910.801 Q50.9921 902.051 54.0477 897.468 Q57.1264 892.861 62.9365 892.861 Z\" fill=\"#000000\" fill-rule=\"nonzero\" fill-opacity=\"1\" /><path clip-path=\"url(#clip460)\" d=\"M83.0984 922.167 L87.9827 922.167 L87.9827 928.046 L83.0984 928.046 L83.0984 922.167 Z\" fill=\"#000000\" fill-rule=\"nonzero\" fill-opacity=\"1\" /><path clip-path=\"url(#clip460)\" d=\"M111.015 897.56 L99.2095 916.009 L111.015 916.009 L111.015 897.56 M109.788 893.486 L115.668 893.486 L115.668 916.009 L120.598 916.009 L120.598 919.898 L115.668 919.898 L115.668 928.046 L111.015 928.046 L111.015 919.898 L95.4132 919.898 L95.4132 915.384 L109.788 893.486 Z\" fill=\"#000000\" fill-rule=\"nonzero\" fill-opacity=\"1\" /><path clip-path=\"url(#clip460)\" d=\"M63.2606 608.724 Q59.6495 608.724 57.8208 612.289 Q56.0152 615.831 56.0152 622.96 Q56.0152 630.067 57.8208 633.632 Q59.6495 637.173 63.2606 637.173 Q66.8948 637.173 68.7004 633.632 Q70.5291 630.067 70.5291 622.96 Q70.5291 615.831 68.7004 612.289 Q66.8948 608.724 63.2606 608.724 M63.2606 605.021 Q69.0707 605.021 72.1263 609.627 Q75.205 614.21 75.205 622.96 Q75.205 631.687 72.1263 636.294 Q69.0707 640.877 63.2606 640.877 Q57.4504 640.877 54.3717 636.294 Q51.3162 631.687 51.3162 622.96 Q51.3162 614.21 54.3717 609.627 Q57.4504 605.021 63.2606 605.021 Z\" fill=\"#000000\" fill-rule=\"nonzero\" fill-opacity=\"1\" /><path clip-path=\"url(#clip460)\" d=\"M83.4225 634.326 L88.3067 634.326 L88.3067 640.206 L83.4225 640.206 L83.4225 634.326 Z\" fill=\"#000000\" fill-rule=\"nonzero\" fill-opacity=\"1\" /><path clip-path=\"url(#clip460)\" d=\"M109.071 621.062 Q105.922 621.062 104.071 623.215 Q102.242 625.368 102.242 629.118 Q102.242 632.845 104.071 635.02 Q105.922 637.173 109.071 637.173 Q112.219 637.173 114.047 635.02 Q115.899 632.845 115.899 629.118 Q115.899 625.368 114.047 623.215 Q112.219 621.062 109.071 621.062 M118.353 606.409 L118.353 610.669 Q116.594 609.835 114.788 609.396 Q113.006 608.956 111.246 608.956 Q106.617 608.956 104.163 612.081 Q101.733 615.206 101.385 621.525 Q102.751 619.511 104.811 618.446 Q106.871 617.359 109.348 617.359 Q114.557 617.359 117.566 620.53 Q120.598 623.678 120.598 629.118 Q120.598 634.442 117.45 637.659 Q114.302 640.877 109.071 640.877 Q103.075 640.877 99.9039 636.294 Q96.7326 631.687 96.7326 622.96 Q96.7326 614.766 100.621 609.905 Q104.51 605.021 111.061 605.021 Q112.82 605.021 114.603 605.368 Q116.408 605.715 118.353 606.409 Z\" fill=\"#000000\" fill-rule=\"nonzero\" fill-opacity=\"1\" /><path clip-path=\"url(#clip460)\" d=\"M63.5152 320.884 Q59.9041 320.884 58.0754 324.448 Q56.2699 327.99 56.2699 335.12 Q56.2699 342.226 58.0754 345.791 Q59.9041 349.332 63.5152 349.332 Q67.1494 349.332 68.955 345.791 Q70.7837 342.226 70.7837 335.12 Q70.7837 327.99 68.955 324.448 Q67.1494 320.884 63.5152 320.884 M63.5152 317.18 Q69.3254 317.18 72.3809 321.786 Q75.4596 326.37 75.4596 335.12 Q75.4596 343.846 72.3809 348.453 Q69.3254 353.036 63.5152 353.036 Q57.7051 353.036 54.6264 348.453 Q51.5708 343.846 51.5708 335.12 Q51.5708 326.37 54.6264 321.786 Q57.7051 317.18 63.5152 317.18 Z\" fill=\"#000000\" fill-rule=\"nonzero\" fill-opacity=\"1\" /><path clip-path=\"url(#clip460)\" d=\"M83.6771 346.485 L88.5614 346.485 L88.5614 352.365 L83.6771 352.365 L83.6771 346.485 Z\" fill=\"#000000\" fill-rule=\"nonzero\" fill-opacity=\"1\" /><path clip-path=\"url(#clip460)\" d=\"M108.746 335.953 Q105.413 335.953 103.492 337.735 Q101.594 339.518 101.594 342.643 Q101.594 345.768 103.492 347.55 Q105.413 349.332 108.746 349.332 Q112.08 349.332 114.001 347.55 Q115.922 345.745 115.922 342.643 Q115.922 339.518 114.001 337.735 Q112.103 335.953 108.746 335.953 M104.071 333.962 Q101.061 333.221 99.3715 331.161 Q97.7048 329.101 97.7048 326.138 Q97.7048 321.995 100.645 319.587 Q103.608 317.18 108.746 317.18 Q113.908 317.18 116.848 319.587 Q119.788 321.995 119.788 326.138 Q119.788 329.101 118.098 331.161 Q116.432 333.221 113.445 333.962 Q116.825 334.749 118.7 337.041 Q120.598 339.333 120.598 342.643 Q120.598 347.666 117.52 350.351 Q114.464 353.036 108.746 353.036 Q103.029 353.036 99.9502 350.351 Q96.8947 347.666 96.8947 342.643 Q96.8947 339.333 98.7928 337.041 Q100.691 334.749 104.071 333.962 M102.358 326.578 Q102.358 329.263 104.024 330.768 Q105.714 332.272 108.746 332.272 Q111.756 332.272 113.445 330.768 Q115.158 329.263 115.158 326.578 Q115.158 323.893 113.445 322.388 Q111.756 320.884 108.746 320.884 Q105.714 320.884 104.024 322.388 Q102.358 323.893 102.358 326.578 Z\" fill=\"#000000\" fill-rule=\"nonzero\" fill-opacity=\"1\" /><path clip-path=\"url(#clip460)\" d=\"M54.2328 60.5889 L61.8717 60.5889 L61.8717 34.2233 L53.5616 35.89 L53.5616 31.6308 L61.8254 29.9641 L66.5013 29.9641 L66.5013 60.5889 L74.1402 60.5889 L74.1402 64.5241 L54.2328 64.5241 L54.2328 60.5889 Z\" fill=\"#000000\" fill-rule=\"nonzero\" fill-opacity=\"1\" /><path clip-path=\"url(#clip460)\" d=\"M83.5845 58.6445 L88.4688 58.6445 L88.4688 64.5241 L83.5845 64.5241 L83.5845 58.6445 Z\" fill=\"#000000\" fill-rule=\"nonzero\" fill-opacity=\"1\" /><path clip-path=\"url(#clip460)\" d=\"M108.654 33.0428 Q105.043 33.0428 103.214 36.6076 Q101.409 40.1492 101.409 47.2788 Q101.409 54.3853 103.214 57.9501 Q105.043 61.4917 108.654 61.4917 Q112.288 61.4917 114.094 57.9501 Q115.922 54.3853 115.922 47.2788 Q115.922 40.1492 114.094 36.6076 Q112.288 33.0428 108.654 33.0428 M108.654 29.3391 Q114.464 29.3391 117.52 33.9456 Q120.598 38.5289 120.598 47.2788 Q120.598 56.0056 117.52 60.6121 Q114.464 65.1954 108.654 65.1954 Q102.844 65.1954 99.765 60.6121 Q96.7095 56.0056 96.7095 47.2788 Q96.7095 38.5289 99.765 33.9456 Q102.844 29.3391 108.654 29.3391 Z\" fill=\"#000000\" fill-rule=\"nonzero\" fill-opacity=\"1\" /><polyline clip-path=\"url(#clip462)\" style=\"stroke:#000000; stroke-linecap:round; stroke-linejoin:round; stroke-width:4; stroke-opacity:1; fill:none\" points=\"211.502,50.6384 321.31,50.6384 321.31,54.0816 348.762,54.0816 348.762,60.9846 540.926,60.9846 540.926,64.5043 568.378,64.5043 568.378,71.5436 595.83,71.5436 595.83,75.072 650.734,75.072 650.734,78.6182 678.186,78.6182 678.186,85.7464 705.638,85.7464 705.638,89.3197 733.09,89.3197 733.09,92.902 760.542,92.902 760.542,96.4937 787.994,96.4937 787.994,100.113 842.898,100.113 842.898,107.448 925.253,107.448 925.253,114.882 952.705,114.882 952.705,126.064 1035.06,126.064 1035.06,129.874 1089.97,129.874 1089.97,133.706 1172.32,133.706 1172.32,137.582 1199.77,137.582 1199.77,141.481 1227.23,141.481 1227.23,145.402 1282.13,145.402 1282.13,157.376 1337.03,157.376 1337.03,161.391 1364.48,161.391 1364.48,173.66 1391.94,173.66 1391.94,177.763 1419.39,177.763 1419.39,181.93 1446.84,181.93 1446.84,194.514 1474.29,194.514 1474.29,198.709 1501.74,198.709 1501.74,202.973 1529.2,202.973 1529.2,207.294 1556.65,207.294 1556.65,211.645 1584.1,211.645 1584.1,220.407 1639,220.407 1639,229.26 1693.91,229.26 1693.91,238.24 1721.36,238.24 1721.36,247.252 1748.81,247.252 1748.81,256.398 1776.26,256.398 1776.26,265.681 1858.62,265.681 1858.62,275.37 1886.07,275.37 1886.07,285.296 1913.52,285.296 1913.52,290.281 1940.98,290.281 1940.98,295.306 1968.43,295.306 1968.43,300.375 2023.33,300.375 2023.33,310.512 2078.24,310.512 2078.24,315.693 2105.69,315.693 2105.69,326.24 2160.59,326.24 2160.59,336.884 2242.95,336.884 2242.95,342.281 2270.4,342.281 2270.4,347.704 2297.85,347.704 2297.85,353.152 2325.3,353.152 2325.3,364.155 2517.47,364.155 2517.47,376.556 2572.37,376.556 2572.37,383.324 2627.28,383.324 2627.28,390.35 2654.73,390.35 2654.73,397.514 2682.18,397.514 2682.18,404.726 2709.63,404.726 2709.63,411.937 2737.08,411.937 2737.08,419.197 2764.54,419.197 2764.54,426.558 2984.15,426.558 2984.15,436.949 3066.51,436.949 3066.51,447.881 3176.32,447.881 3176.32,461.028 3395.93,461.028 3395.93,477.05 3670.45,477.05 3670.45,494.453 3725.35,494.453 3725.35,512.167 4329.3,512.167 4329.3,533.818 4356.75,533.818 4356.75,555.469 4384.2,555.469 4384.2,577.119 4713.63,577.119 4713.63,601.049 6854.88,601.049 6854.88,896.182 \"/>\n",
       "<polyline clip-path=\"url(#clip462)\" style=\"stroke:#0000ff; stroke-linecap:round; stroke-linejoin:round; stroke-width:4; stroke-opacity:1; fill:none\" points=\"211.502,71.1682 321.31,71.1682 321.31,74.3908 348.762,74.3908 348.762,83.5657 540.926,83.5657 540.926,88.3679 568.378,88.3679 568.378,97.7486 595.83,97.7486 595.83,102.358 650.734,102.358 650.734,106.944 678.186,106.944 678.186,116.028 705.638,116.028 705.638,120.518 733.09,120.518 733.09,124.985 760.542,124.985 760.542,129.432 787.994,129.432 787.994,133.892 842.898,133.892 842.898,142.873 925.253,142.873 925.253,151.894 952.705,151.894 952.705,165.279 1035.06,165.279 1035.06,169.822 1089.97,169.822 1089.97,174.375 1172.32,174.375 1172.32,178.972 1199.77,178.972 1199.77,183.581 1227.23,183.581 1227.23,188.203 1282.13,188.203 1282.13,202.255 1337.03,202.255 1337.03,206.936 1364.48,206.936 1364.48,221.191 1391.94,221.191 1391.94,225.927 1419.39,225.927 1419.39,230.738 1446.84,230.738 1446.84,245.189 1474.29,245.189 1474.29,249.977 1501.74,249.977 1501.74,254.845 1529.2,254.845 1529.2,259.778 1556.65,259.778 1556.65,264.737 1584.1,264.737 1584.1,274.693 1639,274.693 1639,284.717 1693.91,284.717 1693.91,294.859 1721.36,294.859 1721.36,304.991 1748.81,304.991 1748.81,315.25 1776.26,315.25 1776.26,325.642 1858.62,325.642 1858.62,336.52 1886.07,336.52 1886.07,347.657 1913.52,347.657 1913.52,353.231 1940.98,353.231 1940.98,358.846 1968.43,358.846 1968.43,364.503 2023.33,364.503 2023.33,375.776 2078.24,375.776 2078.24,381.538 2105.69,381.538 2105.69,393.265 2160.59,393.265 2160.59,405.06 2242.95,405.06 2242.95,411.033 2270.4,411.033 2270.4,417.026 2297.85,417.026 2297.85,423.038 2325.3,423.038 2325.3,435.156 2517.47,435.156 2517.47,449.04 2572.37,449.04 2572.37,456.708 2627.28,456.708 2627.28,464.697 2654.73,464.697 2654.73,472.84 2682.18,472.84 2682.18,481.013 2709.63,481.013 2709.63,489.151 2737.08,489.151 2737.08,497.323 2764.54,497.323 2764.54,505.597 2984.15,505.597 2984.15,518.149 3066.51,518.149 3066.51,531.391 3176.32,531.391 3176.32,547.926 3395.93,547.926 3395.93,568.921 3670.45,568.921 3670.45,591.77 3725.35,591.77 3725.35,614.58 4329.3,614.58 4329.3,643.577 4356.75,643.577 4356.75,671.639 4384.2,671.639 4384.2,698.911 4713.63,698.911 4713.63,729.229 6854.88,729.229 6854.88,1329.42 \"/>\n",
       "<polyline clip-path=\"url(#clip462)\" style=\"stroke:#0000ff; stroke-linecap:round; stroke-linejoin:round; stroke-width:4; stroke-opacity:1; fill:none\" points=\"211.502,47.7227 321.31,47.7227 321.31,48.9571 348.762,48.9571 348.762,52.4164 540.926,52.4164 540.926,54.4529 568.378,54.4529 568.378,58.8788 595.83,58.8788 595.83,61.227 650.734,61.227 650.734,63.6526 678.186,63.6526 678.186,68.6924 705.638,68.6924 705.638,71.2884 733.09,71.2884 733.09,73.9302 760.542,73.9302 760.542,76.6138 787.994,76.6138 787.994,79.3474 842.898,79.3474 842.898,84.9631 925.253,84.9631 925.253,90.7483 952.705,90.7483 952.705,99.6197 1035.06,99.6197 1035.06,102.672 1089.97,102.672 1089.97,105.758 1172.32,105.758 1172.32,108.892 1199.77,108.892 1199.77,112.059 1227.23,112.059 1227.23,115.258 1282.13,115.258 1282.13,125.097 1337.03,125.097 1337.03,128.424 1364.48,128.424 1364.48,138.648 1391.94,138.648 1391.94,142.093 1419.39,142.093 1419.39,145.597 1446.84,145.597 1446.84,156.242 1474.29,156.242 1474.29,159.815 1501.74,159.815 1501.74,163.45 1529.2,163.45 1529.2,167.137 1556.65,167.137 1556.65,170.857 1584.1,170.857 1584.1,178.375 1639,178.375 1639,186.005 1693.91,186.005 1693.91,193.769 1721.36,193.769 1721.36,201.6 1748.81,201.6 1748.81,209.57 1776.26,209.57 1776.26,217.682 1858.62,217.682 1858.62,226.136 1886.07,226.136 1886.07,234.809 1913.52,234.809 1913.52,239.178 1940.98,239.178 1940.98,243.588 1968.43,243.588 1968.43,248.042 2023.33,248.042 2023.33,256.981 2078.24,256.981 2078.24,261.549 2105.69,261.549 2105.69,270.859 2160.59,270.859 2160.59,280.286 2242.95,280.286 2242.95,285.072 2270.4,285.072 2270.4,289.889 2297.85,289.889 2297.85,294.736 2325.3,294.736 2325.3,304.542 2517.47,304.542 2517.47,315.438 2572.37,315.438 2572.37,321.32 2627.28,321.32 2627.28,327.406 2654.73,327.406 2654.73,333.613 2682.18,333.613 2682.18,339.877 2709.63,339.877 2709.63,346.165 2737.08,346.165 2737.08,352.51 2764.54,352.51 2764.54,358.95 2984.15,358.95 2984.15,367.401 3066.51,367.401 3066.51,376.257 3176.32,376.257 3176.32,386.444 3395.93,386.444 3395.93,398.217 3670.45,398.217 3670.45,410.943 3725.35,410.943 3725.35,424.191 4329.3,424.191 4329.3,439.503 4356.75,439.503 4356.75,455.438 4384.2,455.438 4384.2,471.89 4713.63,471.89 4713.63,489.857 6854.88,489.857 6854.88,480.9 \"/>\n",
       "</svg>\n"
      ]
     },
     "execution_count": 50,
     "metadata": {},
     "output_type": "execute_result"
    }
   ],
   "source": [
    "plot(km,xlimits=(0,80))"
   ]
  },
  {
   "cell_type": "markdown",
   "id": "d3e1e804",
   "metadata": {},
   "source": [
    "##### Log rank "
   ]
  },
  {
   "cell_type": "code",
   "execution_count": 55,
   "id": "35c5c1af",
   "metadata": {},
   "outputs": [
    {
     "ename": "LoadError",
     "evalue": "UndefVarError: `RCSurv` not defined",
     "output_type": "error",
     "traceback": [
      "UndefVarError: `RCSurv` not defined",
      "",
      "Stacktrace:",
      " [1] top-level scope",
      "   @ In[55]:1"
     ]
    }
   ],
   "source": [
    "function logrank(Y::RCSurv...; wtmethod=:logrank)\n",
    "\n",
    "    length(Y) > 1 || throw(ArgumentError(\"logrank requires two or more groups\"))\n",
    "\n",
    "    u, V = logrank_moments(Y...; wtmethod=wtmethod)\n",
    "\n",
    "    # Chi-square statistic\n",
    "    csq = u' * pinv(V) * u\n",
    "\n",
    "    # Degrees of freedom\n",
    "    dof = length(Y) - 1\n",
    "\n",
    "    # P-value\n",
    "    p = 1 - cdf(Chisq(dof), csq)\n",
    "\n",
    "    return (stat=csq, dof=dof, pvalue=p)\n",
    "end"
   ]
  }
 ],
 "metadata": {
  "kernelspec": {
   "display_name": "Julia 1.9.3",
   "language": "julia",
   "name": "julia-1.9"
  },
  "language_info": {
   "file_extension": ".jl",
   "mimetype": "application/julia",
   "name": "julia",
   "version": "1.9.3"
  }
 },
 "nbformat": 4,
 "nbformat_minor": 5
}
